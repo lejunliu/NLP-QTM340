{
  "nbformat": 4,
  "nbformat_minor": 0,
  "metadata": {
    "colab": {
      "provenance": []
    },
    "kernelspec": {
      "name": "python3",
      "display_name": "Python 3"
    },
    "language_info": {
      "name": "python"
    }
  },
  "cells": [
    {
      "cell_type": "markdown",
      "source": [
        "In this problem set, we'll do exploratory data analysis with our text corpus. Students should follow the instructions in the notebook and fill the parts that are required from them.\n",
        "\n",
        "Although you're free to execute the notebook on your personal environment, I would strongly recommend using Google Colab. You can upload this notebook to Google colab by following the steps below.\n",
        "\n",
        "1. Open [colab.research.google.com](colab.research.google.com)\n",
        "2. Click on the upload tab\n",
        "3. Upload the .ipynb file by choosing the right file from your local disk\n",
        "\n",
        "\n",
        "**Submission instructions**\n",
        "\n",
        "1. When you're ready to submit, you'll save the notebook as QTM340-PS1-Firstname-Lastname.ipynb; for example, if your name is Harry Potter, save the file as `QTM340-PS1-Harry-Potter.ipynb`. This can be done in Google colab by editing the filename and then following File --> Download --> .ipynb\n",
        "\n",
        "2. Upload this file on canvas."
      ],
      "metadata": {
        "id": "cvov2_j6u3h7"
      }
    },
    {
      "cell_type": "markdown",
      "source": [
        "**Objective**: In this notebook, we'll learn to:\n",
        "\n",
        "a. Find stylometrics (3 points)\n",
        "\n",
        "b. Find distinctive terms by comparing multiple corpora (2 points)\n",
        "\n",
        "c. Find similar documents to a given document (3 points)"
      ],
      "metadata": {
        "id": "TQNmRAJoPJkM"
      }
    },
    {
      "cell_type": "markdown",
      "source": [
        "We'll use congressional speeches from the 114th congress as our corpus for analysis. To get the data, execute the following line:\n",
        "\n"
      ],
      "metadata": {
        "id": "v_YcHjoCbOY1"
      }
    },
    {
      "cell_type": "code",
      "source": [
        "!wget https://raw.githubusercontent.com/sandeepsoni/QTM340-Fall23/main/data/114_speeches.tar.gz\n",
        "!tar -xzvf 114_speeches.tar.gz"
      ],
      "metadata": {
        "colab": {
          "base_uri": "https://localhost:8080/"
        },
        "id": "LRIPM4z_o2Lx",
        "outputId": "ee88c1ff-55df-413f-d3c4-65ba69eae8ae"
      },
      "execution_count": 1,
      "outputs": [
        {
          "output_type": "stream",
          "name": "stdout",
          "text": [
            "--2023-10-02 03:55:58--  https://raw.githubusercontent.com/sandeepsoni/QTM340-Fall23/main/data/114_speeches.tar.gz\n",
            "Resolving raw.githubusercontent.com (raw.githubusercontent.com)... 185.199.108.133, 185.199.111.133, 185.199.109.133, ...\n",
            "Connecting to raw.githubusercontent.com (raw.githubusercontent.com)|185.199.108.133|:443... connected.\n",
            "HTTP request sent, awaiting response... 200 OK\n",
            "Length: 43102274 (41M) [application/octet-stream]\n",
            "Saving to: ‘114_speeches.tar.gz’\n",
            "\n",
            "114_speeches.tar.gz 100%[===================>]  41.11M   205MB/s    in 0.2s    \n",
            "\n",
            "2023-10-02 03:56:00 (205 MB/s) - ‘114_speeches.tar.gz’ saved [43102274/43102274]\n",
            "\n",
            "114/\n",
            "114/speeches_114.txt\n",
            "114/README.txt\n",
            "114/114_SpeakerMap.txt\n"
          ]
        }
      ]
    },
    {
      "cell_type": "markdown",
      "source": [
        "The above execution should create a directory named `114` with the following structure:\n",
        "\n",
        "```\n",
        "114/\n",
        "114/speeches_114.txt\n",
        "114/README.txt\n",
        "114/114_SpeakerMap.txt\n",
        "```"
      ],
      "metadata": {
        "id": "idJRnz-zpgQn"
      }
    },
    {
      "cell_type": "markdown",
      "source": [
        "## 0. Setup\n",
        "\n",
        "Let's load all the speeches for which we have additional metadata."
      ],
      "metadata": {
        "id": "J6oBMgYfpqpI"
      }
    },
    {
      "cell_type": "markdown",
      "source": [
        "The speaker info file is delimited by `|` and the columns are named."
      ],
      "metadata": {
        "id": "AfmSdGS3pxDo"
      }
    },
    {
      "cell_type": "code",
      "source": [
        "!head -n 5 114/114_SpeakerMap.txt"
      ],
      "metadata": {
        "colab": {
          "base_uri": "https://localhost:8080/"
        },
        "id": "jGCTomvlqWcM",
        "outputId": "56436775-0191-4097-c4df-7a26aa291963"
      },
      "execution_count": 2,
      "outputs": [
        {
          "output_type": "stream",
          "name": "stdout",
          "text": [
            "speakerid|speech_id|lastname|firstname|chamber|state|gender|party|district|nonvoting\n",
            "114120480|1140000007|MCMORRIS RODGERS|CATHY|H|WA|F|R|5|voting\n",
            "114118560|1140000009|BECERRA|XAVIER|H|CA|M|D|34|voting\n",
            "114121890|1140000011|MASSIE|THOMAS|H|KY|M|R|4|voting\n",
            "114122500|1140000013|BRIDENSTINE|JIM|H|OK|M|R|1|voting\n"
          ]
        }
      ]
    },
    {
      "cell_type": "markdown",
      "source": [
        "Similarly, the speeches file is delimited by `|` and contains the speech and its Id"
      ],
      "metadata": {
        "id": "Evg1H7JWqraK"
      }
    },
    {
      "cell_type": "code",
      "source": [
        "!head -n 5 114/speeches_114.txt"
      ],
      "metadata": {
        "colab": {
          "base_uri": "https://localhost:8080/"
        },
        "id": "J2KA7FxYqlyp",
        "outputId": "dcb49010-aada-40c7-f65b-1a4c8a6e3e58"
      },
      "execution_count": 3,
      "outputs": [
        {
          "output_type": "stream",
          "name": "stdout",
          "text": [
            "speech_id|speech\n",
            "1140000001|The Representativeselect and their guests will please remain standing and join in the Pledge of Allegiance.\n",
            "1140000002|As directed by law. the Clerk of the House has prepared the official roll of the Representativeselect. Certificates of election covering 435 seats in the 114th Congress have been received by the Clerk of the House. and the names of those persons whose credentials show that they were regularly elected as Representatives in accordance with the laws of their respective States or of the United States will be called. The Representativeselect will record their presence by electronic device and their names will be reported in alphabetical order by State. beginning with the State of Alabama. to determine whether a quorum is present. Representatives- elect will have a minimum of 15 minutes to record their presence by electronic device. Representatives- elect who have not obtained their voting ID cards may do so now in the Speakers lobby.\n",
            "1140000003|Four hundred and one Represent ativeselect have recorded their presence. A quorum is present.\n",
            "1140000004|Credentials. regular in form. have been received showing the election of: The Honorable PEDRO R. PIERLUISI as Resident Commissioner from the Commonwealth of Puerto Rico for a term of 4 years beginning January 3. 2013. The Honorable ELEANOR HOLMES NORTON as Delegate from the District of Columbia. The Honorable MADELEINE Z. BORDALLO as Delegate from Guam. The Honorable STACEY E. PLASKETT as Delegate from the Virgin Islands. The Honorable AMATA COLEMAN RADEWAGEN as Delegate from American Samoa. and The Honorable GREGORIO SABLAN as Delegate from the Commonwealth of the Northern Mariana Islands.\n"
          ]
        }
      ]
    },
    {
      "cell_type": "markdown",
      "source": [
        "We'll use the `pandas` library to load both the speeches and the speaker info. If you are familar with `R` then pandas can be thought of as providing pretty much the same functionality to construct and manipulate dataframes. You can read about more about it [here](https://pandas.pydata.org/docs/user_guide/10min.html).\n",
        "\n",
        "We'll also import other libraries and configure them so they're ready to use later in the notebook."
      ],
      "metadata": {
        "id": "3PXeqqDvq13H"
      }
    },
    {
      "cell_type": "code",
      "source": [
        "# Import the general libraries\n",
        "import math\n",
        "import pandas as pd\n",
        "from tqdm import tqdm\n",
        "import numpy as np\n",
        "from collections import defaultdict, Counter\n",
        "import matplotlib.pyplot as pyplot\n",
        "%matplotlib inline\n",
        "\n",
        "# Import spacy and configure the nlp pipeline for spacy\n",
        "import spacy\n",
        "nlp = spacy.load (\"en_core_web_sm\", disable=[\"ner\", \"parser\"])\n",
        "nlp.disable_pipe (\"ner\")\n",
        "nlp.disable_pipe (\"parser\")\n",
        "\n",
        "# Import nltk and download the punct models\n",
        "import nltk\n",
        "nltk.download (\"punkt\")"
      ],
      "metadata": {
        "colab": {
          "base_uri": "https://localhost:8080/"
        },
        "id": "BRL9iQBAsIjG",
        "outputId": "c0867c9c-c07c-4bd7-b038-fb13db032199"
      },
      "execution_count": 4,
      "outputs": [
        {
          "output_type": "stream",
          "name": "stderr",
          "text": [
            "[nltk_data] Downloading package punkt to /root/nltk_data...\n",
            "[nltk_data]   Unzipping tokenizers/punkt.zip.\n"
          ]
        },
        {
          "output_type": "execute_result",
          "data": {
            "text/plain": [
              "True"
            ]
          },
          "metadata": {},
          "execution_count": 4
        }
      ]
    },
    {
      "cell_type": "code",
      "source": [
        "# Let's read the speeches\n",
        "speeches = pd.read_csv (\"114/speeches_114.txt\", #name of the file\n",
        "                        sep='|', #delimiter\n",
        "                        encoding=\"utf-8\", #encoding of the characters\n",
        "                        encoding_errors=\"ignore\", #ignore any errors in encoding\n",
        "                        on_bad_lines=\"skip\" #skip lines which contain ill-formatted speeches\n",
        "                       )"
      ],
      "metadata": {
        "id": "SSAkhalYsa2M"
      },
      "execution_count": 5,
      "outputs": []
    },
    {
      "cell_type": "code",
      "source": [
        "# Let's read the speaker info.\n",
        "speaker_map = pd.read_csv (\"114/114_SpeakerMap.txt\", #name of the file\n",
        "                        sep='|', #delimiter\n",
        "                        encoding=\"utf-8\", #encoding of the characters\n",
        "                        encoding_errors=\"ignore\", #ignore any errors in encoding\n",
        "                        on_bad_lines=\"skip\" #skip lines which contain ill-formatted speeches\n",
        "                       )"
      ],
      "metadata": {
        "id": "N9oHDbBWteMK"
      },
      "execution_count": 6,
      "outputs": []
    },
    {
      "cell_type": "markdown",
      "source": [
        "Let's see a few rows in both the dataframes. We can do this by calling the `.head` function of the pandas dataframe."
      ],
      "metadata": {
        "id": "V6hbMXZ6uDCh"
      }
    },
    {
      "cell_type": "code",
      "source": [
        "speeches.head (5)"
      ],
      "metadata": {
        "colab": {
          "base_uri": "https://localhost:8080/",
          "height": 206
        },
        "id": "vDZXr1SCuPFK",
        "outputId": "0d3c3546-4630-4e76-f92a-08b77797cbcf"
      },
      "execution_count": 7,
      "outputs": [
        {
          "output_type": "execute_result",
          "data": {
            "text/plain": [
              "    speech_id                                             speech\n",
              "0  1140000001  The Representativeselect and their guests will...\n",
              "1  1140000002  As directed by law. the Clerk of the House has...\n",
              "2  1140000003  Four hundred and one Represent ativeselect hav...\n",
              "3  1140000004  Credentials. regular in form. have been receiv...\n",
              "4  1140000005  The Clerk is in receipt of a letter from the H..."
            ],
            "text/html": [
              "\n",
              "  <div id=\"df-7b8e6b0d-1bd3-4d38-ab6c-08009e6259d1\" class=\"colab-df-container\">\n",
              "    <div>\n",
              "<style scoped>\n",
              "    .dataframe tbody tr th:only-of-type {\n",
              "        vertical-align: middle;\n",
              "    }\n",
              "\n",
              "    .dataframe tbody tr th {\n",
              "        vertical-align: top;\n",
              "    }\n",
              "\n",
              "    .dataframe thead th {\n",
              "        text-align: right;\n",
              "    }\n",
              "</style>\n",
              "<table border=\"1\" class=\"dataframe\">\n",
              "  <thead>\n",
              "    <tr style=\"text-align: right;\">\n",
              "      <th></th>\n",
              "      <th>speech_id</th>\n",
              "      <th>speech</th>\n",
              "    </tr>\n",
              "  </thead>\n",
              "  <tbody>\n",
              "    <tr>\n",
              "      <th>0</th>\n",
              "      <td>1140000001</td>\n",
              "      <td>The Representativeselect and their guests will...</td>\n",
              "    </tr>\n",
              "    <tr>\n",
              "      <th>1</th>\n",
              "      <td>1140000002</td>\n",
              "      <td>As directed by law. the Clerk of the House has...</td>\n",
              "    </tr>\n",
              "    <tr>\n",
              "      <th>2</th>\n",
              "      <td>1140000003</td>\n",
              "      <td>Four hundred and one Represent ativeselect hav...</td>\n",
              "    </tr>\n",
              "    <tr>\n",
              "      <th>3</th>\n",
              "      <td>1140000004</td>\n",
              "      <td>Credentials. regular in form. have been receiv...</td>\n",
              "    </tr>\n",
              "    <tr>\n",
              "      <th>4</th>\n",
              "      <td>1140000005</td>\n",
              "      <td>The Clerk is in receipt of a letter from the H...</td>\n",
              "    </tr>\n",
              "  </tbody>\n",
              "</table>\n",
              "</div>\n",
              "    <div class=\"colab-df-buttons\">\n",
              "\n",
              "  <div class=\"colab-df-container\">\n",
              "    <button class=\"colab-df-convert\" onclick=\"convertToInteractive('df-7b8e6b0d-1bd3-4d38-ab6c-08009e6259d1')\"\n",
              "            title=\"Convert this dataframe to an interactive table.\"\n",
              "            style=\"display:none;\">\n",
              "\n",
              "  <svg xmlns=\"http://www.w3.org/2000/svg\" height=\"24px\" viewBox=\"0 -960 960 960\">\n",
              "    <path d=\"M120-120v-720h720v720H120Zm60-500h600v-160H180v160Zm220 220h160v-160H400v160Zm0 220h160v-160H400v160ZM180-400h160v-160H180v160Zm440 0h160v-160H620v160ZM180-180h160v-160H180v160Zm440 0h160v-160H620v160Z\"/>\n",
              "  </svg>\n",
              "    </button>\n",
              "\n",
              "  <style>\n",
              "    .colab-df-container {\n",
              "      display:flex;\n",
              "      gap: 12px;\n",
              "    }\n",
              "\n",
              "    .colab-df-convert {\n",
              "      background-color: #E8F0FE;\n",
              "      border: none;\n",
              "      border-radius: 50%;\n",
              "      cursor: pointer;\n",
              "      display: none;\n",
              "      fill: #1967D2;\n",
              "      height: 32px;\n",
              "      padding: 0 0 0 0;\n",
              "      width: 32px;\n",
              "    }\n",
              "\n",
              "    .colab-df-convert:hover {\n",
              "      background-color: #E2EBFA;\n",
              "      box-shadow: 0px 1px 2px rgba(60, 64, 67, 0.3), 0px 1px 3px 1px rgba(60, 64, 67, 0.15);\n",
              "      fill: #174EA6;\n",
              "    }\n",
              "\n",
              "    .colab-df-buttons div {\n",
              "      margin-bottom: 4px;\n",
              "    }\n",
              "\n",
              "    [theme=dark] .colab-df-convert {\n",
              "      background-color: #3B4455;\n",
              "      fill: #D2E3FC;\n",
              "    }\n",
              "\n",
              "    [theme=dark] .colab-df-convert:hover {\n",
              "      background-color: #434B5C;\n",
              "      box-shadow: 0px 1px 3px 1px rgba(0, 0, 0, 0.15);\n",
              "      filter: drop-shadow(0px 1px 2px rgba(0, 0, 0, 0.3));\n",
              "      fill: #FFFFFF;\n",
              "    }\n",
              "  </style>\n",
              "\n",
              "    <script>\n",
              "      const buttonEl =\n",
              "        document.querySelector('#df-7b8e6b0d-1bd3-4d38-ab6c-08009e6259d1 button.colab-df-convert');\n",
              "      buttonEl.style.display =\n",
              "        google.colab.kernel.accessAllowed ? 'block' : 'none';\n",
              "\n",
              "      async function convertToInteractive(key) {\n",
              "        const element = document.querySelector('#df-7b8e6b0d-1bd3-4d38-ab6c-08009e6259d1');\n",
              "        const dataTable =\n",
              "          await google.colab.kernel.invokeFunction('convertToInteractive',\n",
              "                                                    [key], {});\n",
              "        if (!dataTable) return;\n",
              "\n",
              "        const docLinkHtml = 'Like what you see? Visit the ' +\n",
              "          '<a target=\"_blank\" href=https://colab.research.google.com/notebooks/data_table.ipynb>data table notebook</a>'\n",
              "          + ' to learn more about interactive tables.';\n",
              "        element.innerHTML = '';\n",
              "        dataTable['output_type'] = 'display_data';\n",
              "        await google.colab.output.renderOutput(dataTable, element);\n",
              "        const docLink = document.createElement('div');\n",
              "        docLink.innerHTML = docLinkHtml;\n",
              "        element.appendChild(docLink);\n",
              "      }\n",
              "    </script>\n",
              "  </div>\n",
              "\n",
              "\n",
              "<div id=\"df-31dee0f8-1376-45e5-ae99-041293055724\">\n",
              "  <button class=\"colab-df-quickchart\" onclick=\"quickchart('df-31dee0f8-1376-45e5-ae99-041293055724')\"\n",
              "            title=\"Suggest charts.\"\n",
              "            style=\"display:none;\">\n",
              "\n",
              "<svg xmlns=\"http://www.w3.org/2000/svg\" height=\"24px\"viewBox=\"0 0 24 24\"\n",
              "     width=\"24px\">\n",
              "    <g>\n",
              "        <path d=\"M19 3H5c-1.1 0-2 .9-2 2v14c0 1.1.9 2 2 2h14c1.1 0 2-.9 2-2V5c0-1.1-.9-2-2-2zM9 17H7v-7h2v7zm4 0h-2V7h2v10zm4 0h-2v-4h2v4z\"/>\n",
              "    </g>\n",
              "</svg>\n",
              "  </button>\n",
              "\n",
              "<style>\n",
              "  .colab-df-quickchart {\n",
              "      --bg-color: #E8F0FE;\n",
              "      --fill-color: #1967D2;\n",
              "      --hover-bg-color: #E2EBFA;\n",
              "      --hover-fill-color: #174EA6;\n",
              "      --disabled-fill-color: #AAA;\n",
              "      --disabled-bg-color: #DDD;\n",
              "  }\n",
              "\n",
              "  [theme=dark] .colab-df-quickchart {\n",
              "      --bg-color: #3B4455;\n",
              "      --fill-color: #D2E3FC;\n",
              "      --hover-bg-color: #434B5C;\n",
              "      --hover-fill-color: #FFFFFF;\n",
              "      --disabled-bg-color: #3B4455;\n",
              "      --disabled-fill-color: #666;\n",
              "  }\n",
              "\n",
              "  .colab-df-quickchart {\n",
              "    background-color: var(--bg-color);\n",
              "    border: none;\n",
              "    border-radius: 50%;\n",
              "    cursor: pointer;\n",
              "    display: none;\n",
              "    fill: var(--fill-color);\n",
              "    height: 32px;\n",
              "    padding: 0;\n",
              "    width: 32px;\n",
              "  }\n",
              "\n",
              "  .colab-df-quickchart:hover {\n",
              "    background-color: var(--hover-bg-color);\n",
              "    box-shadow: 0 1px 2px rgba(60, 64, 67, 0.3), 0 1px 3px 1px rgba(60, 64, 67, 0.15);\n",
              "    fill: var(--button-hover-fill-color);\n",
              "  }\n",
              "\n",
              "  .colab-df-quickchart-complete:disabled,\n",
              "  .colab-df-quickchart-complete:disabled:hover {\n",
              "    background-color: var(--disabled-bg-color);\n",
              "    fill: var(--disabled-fill-color);\n",
              "    box-shadow: none;\n",
              "  }\n",
              "\n",
              "  .colab-df-spinner {\n",
              "    border: 2px solid var(--fill-color);\n",
              "    border-color: transparent;\n",
              "    border-bottom-color: var(--fill-color);\n",
              "    animation:\n",
              "      spin 1s steps(1) infinite;\n",
              "  }\n",
              "\n",
              "  @keyframes spin {\n",
              "    0% {\n",
              "      border-color: transparent;\n",
              "      border-bottom-color: var(--fill-color);\n",
              "      border-left-color: var(--fill-color);\n",
              "    }\n",
              "    20% {\n",
              "      border-color: transparent;\n",
              "      border-left-color: var(--fill-color);\n",
              "      border-top-color: var(--fill-color);\n",
              "    }\n",
              "    30% {\n",
              "      border-color: transparent;\n",
              "      border-left-color: var(--fill-color);\n",
              "      border-top-color: var(--fill-color);\n",
              "      border-right-color: var(--fill-color);\n",
              "    }\n",
              "    40% {\n",
              "      border-color: transparent;\n",
              "      border-right-color: var(--fill-color);\n",
              "      border-top-color: var(--fill-color);\n",
              "    }\n",
              "    60% {\n",
              "      border-color: transparent;\n",
              "      border-right-color: var(--fill-color);\n",
              "    }\n",
              "    80% {\n",
              "      border-color: transparent;\n",
              "      border-right-color: var(--fill-color);\n",
              "      border-bottom-color: var(--fill-color);\n",
              "    }\n",
              "    90% {\n",
              "      border-color: transparent;\n",
              "      border-bottom-color: var(--fill-color);\n",
              "    }\n",
              "  }\n",
              "</style>\n",
              "\n",
              "  <script>\n",
              "    async function quickchart(key) {\n",
              "      const quickchartButtonEl =\n",
              "        document.querySelector('#' + key + ' button');\n",
              "      quickchartButtonEl.disabled = true;  // To prevent multiple clicks.\n",
              "      quickchartButtonEl.classList.add('colab-df-spinner');\n",
              "      try {\n",
              "        const charts = await google.colab.kernel.invokeFunction(\n",
              "            'suggestCharts', [key], {});\n",
              "      } catch (error) {\n",
              "        console.error('Error during call to suggestCharts:', error);\n",
              "      }\n",
              "      quickchartButtonEl.classList.remove('colab-df-spinner');\n",
              "      quickchartButtonEl.classList.add('colab-df-quickchart-complete');\n",
              "    }\n",
              "    (() => {\n",
              "      let quickchartButtonEl =\n",
              "        document.querySelector('#df-31dee0f8-1376-45e5-ae99-041293055724 button');\n",
              "      quickchartButtonEl.style.display =\n",
              "        google.colab.kernel.accessAllowed ? 'block' : 'none';\n",
              "    })();\n",
              "  </script>\n",
              "</div>\n",
              "    </div>\n",
              "  </div>\n"
            ]
          },
          "metadata": {},
          "execution_count": 7
        }
      ]
    },
    {
      "cell_type": "code",
      "source": [
        "speaker_map.head (5)"
      ],
      "metadata": {
        "colab": {
          "base_uri": "https://localhost:8080/",
          "height": 206
        },
        "id": "t7TslmWDugde",
        "outputId": "a21aabee-6aa7-4ffb-d583-73cbb7adf35e"
      },
      "execution_count": 8,
      "outputs": [
        {
          "output_type": "execute_result",
          "data": {
            "text/plain": [
              "   speakerid   speech_id          lastname firstname chamber state gender  \\\n",
              "0  114120480  1140000007  MCMORRIS RODGERS     CATHY       H    WA      F   \n",
              "1  114118560  1140000009           BECERRA    XAVIER       H    CA      M   \n",
              "2  114121890  1140000011            MASSIE    THOMAS       H    KY      M   \n",
              "3  114122500  1140000013       BRIDENSTINE       JIM       H    OK      M   \n",
              "4  114120780  1140000017            PELOSI     NANCY       H    CA      F   \n",
              "\n",
              "  party  district nonvoting  \n",
              "0     R       5.0    voting  \n",
              "1     D      34.0    voting  \n",
              "2     R       4.0    voting  \n",
              "3     R       1.0    voting  \n",
              "4     D      12.0    voting  "
            ],
            "text/html": [
              "\n",
              "  <div id=\"df-d5276ba6-601c-45e9-9d33-54f9c899ca11\" class=\"colab-df-container\">\n",
              "    <div>\n",
              "<style scoped>\n",
              "    .dataframe tbody tr th:only-of-type {\n",
              "        vertical-align: middle;\n",
              "    }\n",
              "\n",
              "    .dataframe tbody tr th {\n",
              "        vertical-align: top;\n",
              "    }\n",
              "\n",
              "    .dataframe thead th {\n",
              "        text-align: right;\n",
              "    }\n",
              "</style>\n",
              "<table border=\"1\" class=\"dataframe\">\n",
              "  <thead>\n",
              "    <tr style=\"text-align: right;\">\n",
              "      <th></th>\n",
              "      <th>speakerid</th>\n",
              "      <th>speech_id</th>\n",
              "      <th>lastname</th>\n",
              "      <th>firstname</th>\n",
              "      <th>chamber</th>\n",
              "      <th>state</th>\n",
              "      <th>gender</th>\n",
              "      <th>party</th>\n",
              "      <th>district</th>\n",
              "      <th>nonvoting</th>\n",
              "    </tr>\n",
              "  </thead>\n",
              "  <tbody>\n",
              "    <tr>\n",
              "      <th>0</th>\n",
              "      <td>114120480</td>\n",
              "      <td>1140000007</td>\n",
              "      <td>MCMORRIS RODGERS</td>\n",
              "      <td>CATHY</td>\n",
              "      <td>H</td>\n",
              "      <td>WA</td>\n",
              "      <td>F</td>\n",
              "      <td>R</td>\n",
              "      <td>5.0</td>\n",
              "      <td>voting</td>\n",
              "    </tr>\n",
              "    <tr>\n",
              "      <th>1</th>\n",
              "      <td>114118560</td>\n",
              "      <td>1140000009</td>\n",
              "      <td>BECERRA</td>\n",
              "      <td>XAVIER</td>\n",
              "      <td>H</td>\n",
              "      <td>CA</td>\n",
              "      <td>M</td>\n",
              "      <td>D</td>\n",
              "      <td>34.0</td>\n",
              "      <td>voting</td>\n",
              "    </tr>\n",
              "    <tr>\n",
              "      <th>2</th>\n",
              "      <td>114121890</td>\n",
              "      <td>1140000011</td>\n",
              "      <td>MASSIE</td>\n",
              "      <td>THOMAS</td>\n",
              "      <td>H</td>\n",
              "      <td>KY</td>\n",
              "      <td>M</td>\n",
              "      <td>R</td>\n",
              "      <td>4.0</td>\n",
              "      <td>voting</td>\n",
              "    </tr>\n",
              "    <tr>\n",
              "      <th>3</th>\n",
              "      <td>114122500</td>\n",
              "      <td>1140000013</td>\n",
              "      <td>BRIDENSTINE</td>\n",
              "      <td>JIM</td>\n",
              "      <td>H</td>\n",
              "      <td>OK</td>\n",
              "      <td>M</td>\n",
              "      <td>R</td>\n",
              "      <td>1.0</td>\n",
              "      <td>voting</td>\n",
              "    </tr>\n",
              "    <tr>\n",
              "      <th>4</th>\n",
              "      <td>114120780</td>\n",
              "      <td>1140000017</td>\n",
              "      <td>PELOSI</td>\n",
              "      <td>NANCY</td>\n",
              "      <td>H</td>\n",
              "      <td>CA</td>\n",
              "      <td>F</td>\n",
              "      <td>D</td>\n",
              "      <td>12.0</td>\n",
              "      <td>voting</td>\n",
              "    </tr>\n",
              "  </tbody>\n",
              "</table>\n",
              "</div>\n",
              "    <div class=\"colab-df-buttons\">\n",
              "\n",
              "  <div class=\"colab-df-container\">\n",
              "    <button class=\"colab-df-convert\" onclick=\"convertToInteractive('df-d5276ba6-601c-45e9-9d33-54f9c899ca11')\"\n",
              "            title=\"Convert this dataframe to an interactive table.\"\n",
              "            style=\"display:none;\">\n",
              "\n",
              "  <svg xmlns=\"http://www.w3.org/2000/svg\" height=\"24px\" viewBox=\"0 -960 960 960\">\n",
              "    <path d=\"M120-120v-720h720v720H120Zm60-500h600v-160H180v160Zm220 220h160v-160H400v160Zm0 220h160v-160H400v160ZM180-400h160v-160H180v160Zm440 0h160v-160H620v160ZM180-180h160v-160H180v160Zm440 0h160v-160H620v160Z\"/>\n",
              "  </svg>\n",
              "    </button>\n",
              "\n",
              "  <style>\n",
              "    .colab-df-container {\n",
              "      display:flex;\n",
              "      gap: 12px;\n",
              "    }\n",
              "\n",
              "    .colab-df-convert {\n",
              "      background-color: #E8F0FE;\n",
              "      border: none;\n",
              "      border-radius: 50%;\n",
              "      cursor: pointer;\n",
              "      display: none;\n",
              "      fill: #1967D2;\n",
              "      height: 32px;\n",
              "      padding: 0 0 0 0;\n",
              "      width: 32px;\n",
              "    }\n",
              "\n",
              "    .colab-df-convert:hover {\n",
              "      background-color: #E2EBFA;\n",
              "      box-shadow: 0px 1px 2px rgba(60, 64, 67, 0.3), 0px 1px 3px 1px rgba(60, 64, 67, 0.15);\n",
              "      fill: #174EA6;\n",
              "    }\n",
              "\n",
              "    .colab-df-buttons div {\n",
              "      margin-bottom: 4px;\n",
              "    }\n",
              "\n",
              "    [theme=dark] .colab-df-convert {\n",
              "      background-color: #3B4455;\n",
              "      fill: #D2E3FC;\n",
              "    }\n",
              "\n",
              "    [theme=dark] .colab-df-convert:hover {\n",
              "      background-color: #434B5C;\n",
              "      box-shadow: 0px 1px 3px 1px rgba(0, 0, 0, 0.15);\n",
              "      filter: drop-shadow(0px 1px 2px rgba(0, 0, 0, 0.3));\n",
              "      fill: #FFFFFF;\n",
              "    }\n",
              "  </style>\n",
              "\n",
              "    <script>\n",
              "      const buttonEl =\n",
              "        document.querySelector('#df-d5276ba6-601c-45e9-9d33-54f9c899ca11 button.colab-df-convert');\n",
              "      buttonEl.style.display =\n",
              "        google.colab.kernel.accessAllowed ? 'block' : 'none';\n",
              "\n",
              "      async function convertToInteractive(key) {\n",
              "        const element = document.querySelector('#df-d5276ba6-601c-45e9-9d33-54f9c899ca11');\n",
              "        const dataTable =\n",
              "          await google.colab.kernel.invokeFunction('convertToInteractive',\n",
              "                                                    [key], {});\n",
              "        if (!dataTable) return;\n",
              "\n",
              "        const docLinkHtml = 'Like what you see? Visit the ' +\n",
              "          '<a target=\"_blank\" href=https://colab.research.google.com/notebooks/data_table.ipynb>data table notebook</a>'\n",
              "          + ' to learn more about interactive tables.';\n",
              "        element.innerHTML = '';\n",
              "        dataTable['output_type'] = 'display_data';\n",
              "        await google.colab.output.renderOutput(dataTable, element);\n",
              "        const docLink = document.createElement('div');\n",
              "        docLink.innerHTML = docLinkHtml;\n",
              "        element.appendChild(docLink);\n",
              "      }\n",
              "    </script>\n",
              "  </div>\n",
              "\n",
              "\n",
              "<div id=\"df-6e39b7a0-55d7-49bc-aaf0-d555769d67c5\">\n",
              "  <button class=\"colab-df-quickchart\" onclick=\"quickchart('df-6e39b7a0-55d7-49bc-aaf0-d555769d67c5')\"\n",
              "            title=\"Suggest charts.\"\n",
              "            style=\"display:none;\">\n",
              "\n",
              "<svg xmlns=\"http://www.w3.org/2000/svg\" height=\"24px\"viewBox=\"0 0 24 24\"\n",
              "     width=\"24px\">\n",
              "    <g>\n",
              "        <path d=\"M19 3H5c-1.1 0-2 .9-2 2v14c0 1.1.9 2 2 2h14c1.1 0 2-.9 2-2V5c0-1.1-.9-2-2-2zM9 17H7v-7h2v7zm4 0h-2V7h2v10zm4 0h-2v-4h2v4z\"/>\n",
              "    </g>\n",
              "</svg>\n",
              "  </button>\n",
              "\n",
              "<style>\n",
              "  .colab-df-quickchart {\n",
              "      --bg-color: #E8F0FE;\n",
              "      --fill-color: #1967D2;\n",
              "      --hover-bg-color: #E2EBFA;\n",
              "      --hover-fill-color: #174EA6;\n",
              "      --disabled-fill-color: #AAA;\n",
              "      --disabled-bg-color: #DDD;\n",
              "  }\n",
              "\n",
              "  [theme=dark] .colab-df-quickchart {\n",
              "      --bg-color: #3B4455;\n",
              "      --fill-color: #D2E3FC;\n",
              "      --hover-bg-color: #434B5C;\n",
              "      --hover-fill-color: #FFFFFF;\n",
              "      --disabled-bg-color: #3B4455;\n",
              "      --disabled-fill-color: #666;\n",
              "  }\n",
              "\n",
              "  .colab-df-quickchart {\n",
              "    background-color: var(--bg-color);\n",
              "    border: none;\n",
              "    border-radius: 50%;\n",
              "    cursor: pointer;\n",
              "    display: none;\n",
              "    fill: var(--fill-color);\n",
              "    height: 32px;\n",
              "    padding: 0;\n",
              "    width: 32px;\n",
              "  }\n",
              "\n",
              "  .colab-df-quickchart:hover {\n",
              "    background-color: var(--hover-bg-color);\n",
              "    box-shadow: 0 1px 2px rgba(60, 64, 67, 0.3), 0 1px 3px 1px rgba(60, 64, 67, 0.15);\n",
              "    fill: var(--button-hover-fill-color);\n",
              "  }\n",
              "\n",
              "  .colab-df-quickchart-complete:disabled,\n",
              "  .colab-df-quickchart-complete:disabled:hover {\n",
              "    background-color: var(--disabled-bg-color);\n",
              "    fill: var(--disabled-fill-color);\n",
              "    box-shadow: none;\n",
              "  }\n",
              "\n",
              "  .colab-df-spinner {\n",
              "    border: 2px solid var(--fill-color);\n",
              "    border-color: transparent;\n",
              "    border-bottom-color: var(--fill-color);\n",
              "    animation:\n",
              "      spin 1s steps(1) infinite;\n",
              "  }\n",
              "\n",
              "  @keyframes spin {\n",
              "    0% {\n",
              "      border-color: transparent;\n",
              "      border-bottom-color: var(--fill-color);\n",
              "      border-left-color: var(--fill-color);\n",
              "    }\n",
              "    20% {\n",
              "      border-color: transparent;\n",
              "      border-left-color: var(--fill-color);\n",
              "      border-top-color: var(--fill-color);\n",
              "    }\n",
              "    30% {\n",
              "      border-color: transparent;\n",
              "      border-left-color: var(--fill-color);\n",
              "      border-top-color: var(--fill-color);\n",
              "      border-right-color: var(--fill-color);\n",
              "    }\n",
              "    40% {\n",
              "      border-color: transparent;\n",
              "      border-right-color: var(--fill-color);\n",
              "      border-top-color: var(--fill-color);\n",
              "    }\n",
              "    60% {\n",
              "      border-color: transparent;\n",
              "      border-right-color: var(--fill-color);\n",
              "    }\n",
              "    80% {\n",
              "      border-color: transparent;\n",
              "      border-right-color: var(--fill-color);\n",
              "      border-bottom-color: var(--fill-color);\n",
              "    }\n",
              "    90% {\n",
              "      border-color: transparent;\n",
              "      border-bottom-color: var(--fill-color);\n",
              "    }\n",
              "  }\n",
              "</style>\n",
              "\n",
              "  <script>\n",
              "    async function quickchart(key) {\n",
              "      const quickchartButtonEl =\n",
              "        document.querySelector('#' + key + ' button');\n",
              "      quickchartButtonEl.disabled = true;  // To prevent multiple clicks.\n",
              "      quickchartButtonEl.classList.add('colab-df-spinner');\n",
              "      try {\n",
              "        const charts = await google.colab.kernel.invokeFunction(\n",
              "            'suggestCharts', [key], {});\n",
              "      } catch (error) {\n",
              "        console.error('Error during call to suggestCharts:', error);\n",
              "      }\n",
              "      quickchartButtonEl.classList.remove('colab-df-spinner');\n",
              "      quickchartButtonEl.classList.add('colab-df-quickchart-complete');\n",
              "    }\n",
              "    (() => {\n",
              "      let quickchartButtonEl =\n",
              "        document.querySelector('#df-6e39b7a0-55d7-49bc-aaf0-d555769d67c5 button');\n",
              "      quickchartButtonEl.style.display =\n",
              "        google.colab.kernel.accessAllowed ? 'block' : 'none';\n",
              "    })();\n",
              "  </script>\n",
              "</div>\n",
              "    </div>\n",
              "  </div>\n"
            ]
          },
          "metadata": {},
          "execution_count": 8
        }
      ]
    },
    {
      "cell_type": "markdown",
      "source": [
        "Now we'll merge both the dataframes into one. We can do this by calling `pd.merge` as follows (if you'are familiar with SQL we'll do a join operation of these two tables that have the speech_id field in common)"
      ],
      "metadata": {
        "id": "igZS5j0ouk1K"
      }
    },
    {
      "cell_type": "code",
      "source": [
        "overall_data = pd.merge (speeches,\n",
        "                         speaker_map,\n",
        "                         how=\"inner\",\n",
        "                         on=\"speech_id\")"
      ],
      "metadata": {
        "id": "Tq_a541iu-8K"
      },
      "execution_count": 9,
      "outputs": []
    },
    {
      "cell_type": "markdown",
      "source": [
        "The resuling dataframe can be accessed with the variable `overall_data`"
      ],
      "metadata": {
        "id": "t3QTBKSGwdGP"
      }
    },
    {
      "cell_type": "code",
      "source": [
        "overall_data.head (5)"
      ],
      "metadata": {
        "colab": {
          "base_uri": "https://localhost:8080/",
          "height": 206
        },
        "id": "w-C5WI9lwS_e",
        "outputId": "d162b46c-a67d-47a9-d43a-5d79e06ff52d"
      },
      "execution_count": 10,
      "outputs": [
        {
          "output_type": "execute_result",
          "data": {
            "text/plain": [
              "    speech_id                                             speech  speakerid  \\\n",
              "0  1140000007  RODGERS. Madam Clerk. it is an honor to addres...  114120480   \n",
              "1  1140000009  Madam Clerk. first I would like to recognize e...  114118560   \n",
              "2  1140000011  Madam Clerk. I present for election to the off...  114121890   \n",
              "3  1140000013  Madam Clerk. I present for the election of the...  114122500   \n",
              "4  1140000015  Madam Clerk. I rise to place in a nomination f...  114120060   \n",
              "\n",
              "           lastname firstname chamber state gender party  district nonvoting  \n",
              "0  MCMORRIS RODGERS     CATHY       H    WA      F     R       5.0    voting  \n",
              "1           BECERRA    XAVIER       H    CA      M     D      34.0    voting  \n",
              "2            MASSIE    THOMAS       H    KY      M     R       4.0    voting  \n",
              "3       BRIDENSTINE       JIM       H    OK      M     R       1.0    voting  \n",
              "4              KING     STEVE       H    IA      M     R       4.0    voting  "
            ],
            "text/html": [
              "\n",
              "  <div id=\"df-7f73c161-0cc9-48fb-b2d6-92a582a4dd66\" class=\"colab-df-container\">\n",
              "    <div>\n",
              "<style scoped>\n",
              "    .dataframe tbody tr th:only-of-type {\n",
              "        vertical-align: middle;\n",
              "    }\n",
              "\n",
              "    .dataframe tbody tr th {\n",
              "        vertical-align: top;\n",
              "    }\n",
              "\n",
              "    .dataframe thead th {\n",
              "        text-align: right;\n",
              "    }\n",
              "</style>\n",
              "<table border=\"1\" class=\"dataframe\">\n",
              "  <thead>\n",
              "    <tr style=\"text-align: right;\">\n",
              "      <th></th>\n",
              "      <th>speech_id</th>\n",
              "      <th>speech</th>\n",
              "      <th>speakerid</th>\n",
              "      <th>lastname</th>\n",
              "      <th>firstname</th>\n",
              "      <th>chamber</th>\n",
              "      <th>state</th>\n",
              "      <th>gender</th>\n",
              "      <th>party</th>\n",
              "      <th>district</th>\n",
              "      <th>nonvoting</th>\n",
              "    </tr>\n",
              "  </thead>\n",
              "  <tbody>\n",
              "    <tr>\n",
              "      <th>0</th>\n",
              "      <td>1140000007</td>\n",
              "      <td>RODGERS. Madam Clerk. it is an honor to addres...</td>\n",
              "      <td>114120480</td>\n",
              "      <td>MCMORRIS RODGERS</td>\n",
              "      <td>CATHY</td>\n",
              "      <td>H</td>\n",
              "      <td>WA</td>\n",
              "      <td>F</td>\n",
              "      <td>R</td>\n",
              "      <td>5.0</td>\n",
              "      <td>voting</td>\n",
              "    </tr>\n",
              "    <tr>\n",
              "      <th>1</th>\n",
              "      <td>1140000009</td>\n",
              "      <td>Madam Clerk. first I would like to recognize e...</td>\n",
              "      <td>114118560</td>\n",
              "      <td>BECERRA</td>\n",
              "      <td>XAVIER</td>\n",
              "      <td>H</td>\n",
              "      <td>CA</td>\n",
              "      <td>M</td>\n",
              "      <td>D</td>\n",
              "      <td>34.0</td>\n",
              "      <td>voting</td>\n",
              "    </tr>\n",
              "    <tr>\n",
              "      <th>2</th>\n",
              "      <td>1140000011</td>\n",
              "      <td>Madam Clerk. I present for election to the off...</td>\n",
              "      <td>114121890</td>\n",
              "      <td>MASSIE</td>\n",
              "      <td>THOMAS</td>\n",
              "      <td>H</td>\n",
              "      <td>KY</td>\n",
              "      <td>M</td>\n",
              "      <td>R</td>\n",
              "      <td>4.0</td>\n",
              "      <td>voting</td>\n",
              "    </tr>\n",
              "    <tr>\n",
              "      <th>3</th>\n",
              "      <td>1140000013</td>\n",
              "      <td>Madam Clerk. I present for the election of the...</td>\n",
              "      <td>114122500</td>\n",
              "      <td>BRIDENSTINE</td>\n",
              "      <td>JIM</td>\n",
              "      <td>H</td>\n",
              "      <td>OK</td>\n",
              "      <td>M</td>\n",
              "      <td>R</td>\n",
              "      <td>1.0</td>\n",
              "      <td>voting</td>\n",
              "    </tr>\n",
              "    <tr>\n",
              "      <th>4</th>\n",
              "      <td>1140000015</td>\n",
              "      <td>Madam Clerk. I rise to place in a nomination f...</td>\n",
              "      <td>114120060</td>\n",
              "      <td>KING</td>\n",
              "      <td>STEVE</td>\n",
              "      <td>H</td>\n",
              "      <td>IA</td>\n",
              "      <td>M</td>\n",
              "      <td>R</td>\n",
              "      <td>4.0</td>\n",
              "      <td>voting</td>\n",
              "    </tr>\n",
              "  </tbody>\n",
              "</table>\n",
              "</div>\n",
              "    <div class=\"colab-df-buttons\">\n",
              "\n",
              "  <div class=\"colab-df-container\">\n",
              "    <button class=\"colab-df-convert\" onclick=\"convertToInteractive('df-7f73c161-0cc9-48fb-b2d6-92a582a4dd66')\"\n",
              "            title=\"Convert this dataframe to an interactive table.\"\n",
              "            style=\"display:none;\">\n",
              "\n",
              "  <svg xmlns=\"http://www.w3.org/2000/svg\" height=\"24px\" viewBox=\"0 -960 960 960\">\n",
              "    <path d=\"M120-120v-720h720v720H120Zm60-500h600v-160H180v160Zm220 220h160v-160H400v160Zm0 220h160v-160H400v160ZM180-400h160v-160H180v160Zm440 0h160v-160H620v160ZM180-180h160v-160H180v160Zm440 0h160v-160H620v160Z\"/>\n",
              "  </svg>\n",
              "    </button>\n",
              "\n",
              "  <style>\n",
              "    .colab-df-container {\n",
              "      display:flex;\n",
              "      gap: 12px;\n",
              "    }\n",
              "\n",
              "    .colab-df-convert {\n",
              "      background-color: #E8F0FE;\n",
              "      border: none;\n",
              "      border-radius: 50%;\n",
              "      cursor: pointer;\n",
              "      display: none;\n",
              "      fill: #1967D2;\n",
              "      height: 32px;\n",
              "      padding: 0 0 0 0;\n",
              "      width: 32px;\n",
              "    }\n",
              "\n",
              "    .colab-df-convert:hover {\n",
              "      background-color: #E2EBFA;\n",
              "      box-shadow: 0px 1px 2px rgba(60, 64, 67, 0.3), 0px 1px 3px 1px rgba(60, 64, 67, 0.15);\n",
              "      fill: #174EA6;\n",
              "    }\n",
              "\n",
              "    .colab-df-buttons div {\n",
              "      margin-bottom: 4px;\n",
              "    }\n",
              "\n",
              "    [theme=dark] .colab-df-convert {\n",
              "      background-color: #3B4455;\n",
              "      fill: #D2E3FC;\n",
              "    }\n",
              "\n",
              "    [theme=dark] .colab-df-convert:hover {\n",
              "      background-color: #434B5C;\n",
              "      box-shadow: 0px 1px 3px 1px rgba(0, 0, 0, 0.15);\n",
              "      filter: drop-shadow(0px 1px 2px rgba(0, 0, 0, 0.3));\n",
              "      fill: #FFFFFF;\n",
              "    }\n",
              "  </style>\n",
              "\n",
              "    <script>\n",
              "      const buttonEl =\n",
              "        document.querySelector('#df-7f73c161-0cc9-48fb-b2d6-92a582a4dd66 button.colab-df-convert');\n",
              "      buttonEl.style.display =\n",
              "        google.colab.kernel.accessAllowed ? 'block' : 'none';\n",
              "\n",
              "      async function convertToInteractive(key) {\n",
              "        const element = document.querySelector('#df-7f73c161-0cc9-48fb-b2d6-92a582a4dd66');\n",
              "        const dataTable =\n",
              "          await google.colab.kernel.invokeFunction('convertToInteractive',\n",
              "                                                    [key], {});\n",
              "        if (!dataTable) return;\n",
              "\n",
              "        const docLinkHtml = 'Like what you see? Visit the ' +\n",
              "          '<a target=\"_blank\" href=https://colab.research.google.com/notebooks/data_table.ipynb>data table notebook</a>'\n",
              "          + ' to learn more about interactive tables.';\n",
              "        element.innerHTML = '';\n",
              "        dataTable['output_type'] = 'display_data';\n",
              "        await google.colab.output.renderOutput(dataTable, element);\n",
              "        const docLink = document.createElement('div');\n",
              "        docLink.innerHTML = docLinkHtml;\n",
              "        element.appendChild(docLink);\n",
              "      }\n",
              "    </script>\n",
              "  </div>\n",
              "\n",
              "\n",
              "<div id=\"df-98578e58-640d-48c3-bf6d-62b0461e15c6\">\n",
              "  <button class=\"colab-df-quickchart\" onclick=\"quickchart('df-98578e58-640d-48c3-bf6d-62b0461e15c6')\"\n",
              "            title=\"Suggest charts.\"\n",
              "            style=\"display:none;\">\n",
              "\n",
              "<svg xmlns=\"http://www.w3.org/2000/svg\" height=\"24px\"viewBox=\"0 0 24 24\"\n",
              "     width=\"24px\">\n",
              "    <g>\n",
              "        <path d=\"M19 3H5c-1.1 0-2 .9-2 2v14c0 1.1.9 2 2 2h14c1.1 0 2-.9 2-2V5c0-1.1-.9-2-2-2zM9 17H7v-7h2v7zm4 0h-2V7h2v10zm4 0h-2v-4h2v4z\"/>\n",
              "    </g>\n",
              "</svg>\n",
              "  </button>\n",
              "\n",
              "<style>\n",
              "  .colab-df-quickchart {\n",
              "      --bg-color: #E8F0FE;\n",
              "      --fill-color: #1967D2;\n",
              "      --hover-bg-color: #E2EBFA;\n",
              "      --hover-fill-color: #174EA6;\n",
              "      --disabled-fill-color: #AAA;\n",
              "      --disabled-bg-color: #DDD;\n",
              "  }\n",
              "\n",
              "  [theme=dark] .colab-df-quickchart {\n",
              "      --bg-color: #3B4455;\n",
              "      --fill-color: #D2E3FC;\n",
              "      --hover-bg-color: #434B5C;\n",
              "      --hover-fill-color: #FFFFFF;\n",
              "      --disabled-bg-color: #3B4455;\n",
              "      --disabled-fill-color: #666;\n",
              "  }\n",
              "\n",
              "  .colab-df-quickchart {\n",
              "    background-color: var(--bg-color);\n",
              "    border: none;\n",
              "    border-radius: 50%;\n",
              "    cursor: pointer;\n",
              "    display: none;\n",
              "    fill: var(--fill-color);\n",
              "    height: 32px;\n",
              "    padding: 0;\n",
              "    width: 32px;\n",
              "  }\n",
              "\n",
              "  .colab-df-quickchart:hover {\n",
              "    background-color: var(--hover-bg-color);\n",
              "    box-shadow: 0 1px 2px rgba(60, 64, 67, 0.3), 0 1px 3px 1px rgba(60, 64, 67, 0.15);\n",
              "    fill: var(--button-hover-fill-color);\n",
              "  }\n",
              "\n",
              "  .colab-df-quickchart-complete:disabled,\n",
              "  .colab-df-quickchart-complete:disabled:hover {\n",
              "    background-color: var(--disabled-bg-color);\n",
              "    fill: var(--disabled-fill-color);\n",
              "    box-shadow: none;\n",
              "  }\n",
              "\n",
              "  .colab-df-spinner {\n",
              "    border: 2px solid var(--fill-color);\n",
              "    border-color: transparent;\n",
              "    border-bottom-color: var(--fill-color);\n",
              "    animation:\n",
              "      spin 1s steps(1) infinite;\n",
              "  }\n",
              "\n",
              "  @keyframes spin {\n",
              "    0% {\n",
              "      border-color: transparent;\n",
              "      border-bottom-color: var(--fill-color);\n",
              "      border-left-color: var(--fill-color);\n",
              "    }\n",
              "    20% {\n",
              "      border-color: transparent;\n",
              "      border-left-color: var(--fill-color);\n",
              "      border-top-color: var(--fill-color);\n",
              "    }\n",
              "    30% {\n",
              "      border-color: transparent;\n",
              "      border-left-color: var(--fill-color);\n",
              "      border-top-color: var(--fill-color);\n",
              "      border-right-color: var(--fill-color);\n",
              "    }\n",
              "    40% {\n",
              "      border-color: transparent;\n",
              "      border-right-color: var(--fill-color);\n",
              "      border-top-color: var(--fill-color);\n",
              "    }\n",
              "    60% {\n",
              "      border-color: transparent;\n",
              "      border-right-color: var(--fill-color);\n",
              "    }\n",
              "    80% {\n",
              "      border-color: transparent;\n",
              "      border-right-color: var(--fill-color);\n",
              "      border-bottom-color: var(--fill-color);\n",
              "    }\n",
              "    90% {\n",
              "      border-color: transparent;\n",
              "      border-bottom-color: var(--fill-color);\n",
              "    }\n",
              "  }\n",
              "</style>\n",
              "\n",
              "  <script>\n",
              "    async function quickchart(key) {\n",
              "      const quickchartButtonEl =\n",
              "        document.querySelector('#' + key + ' button');\n",
              "      quickchartButtonEl.disabled = true;  // To prevent multiple clicks.\n",
              "      quickchartButtonEl.classList.add('colab-df-spinner');\n",
              "      try {\n",
              "        const charts = await google.colab.kernel.invokeFunction(\n",
              "            'suggestCharts', [key], {});\n",
              "      } catch (error) {\n",
              "        console.error('Error during call to suggestCharts:', error);\n",
              "      }\n",
              "      quickchartButtonEl.classList.remove('colab-df-spinner');\n",
              "      quickchartButtonEl.classList.add('colab-df-quickchart-complete');\n",
              "    }\n",
              "    (() => {\n",
              "      let quickchartButtonEl =\n",
              "        document.querySelector('#df-98578e58-640d-48c3-bf6d-62b0461e15c6 button');\n",
              "      quickchartButtonEl.style.display =\n",
              "        google.colab.kernel.accessAllowed ? 'block' : 'none';\n",
              "    })();\n",
              "  </script>\n",
              "</div>\n",
              "    </div>\n",
              "  </div>\n"
            ]
          },
          "metadata": {},
          "execution_count": 10
        }
      ]
    },
    {
      "cell_type": "markdown",
      "source": [
        "Now let's randomly pick 10000 speeches from the dataframe for our analysis. We can do this by calling the `.sample` method on the dataframe and passing an argument to it to indicate the number of rows we want to get post-sampling. Notice that we set the `random_state` to a fixed number (and not just any number but the answer to [the ultimate question of life](https://en.wikipedia.org/wiki/Phrases_from_The_Hitchhiker%27s_Guide_to_the_Galaxy#Answer_to_the_Ultimate_Question_of_Life,_the_Universe,_and_Everything_(42))) which is done to ensure replicability."
      ],
      "metadata": {
        "id": "s5a-S1Ob3wkz"
      }
    },
    {
      "cell_type": "code",
      "source": [
        "n=10000\n",
        "overall_data = overall_data.sample (n=n, random_state=42)\n",
        "print (len (overall_data))"
      ],
      "metadata": {
        "colab": {
          "base_uri": "https://localhost:8080/"
        },
        "id": "FOok6U0S4pHj",
        "outputId": "fe41eef0-4e91-49d8-cd18-c7ea9789d874"
      },
      "execution_count": 11,
      "outputs": [
        {
          "output_type": "stream",
          "name": "stdout",
          "text": [
            "10000\n"
          ]
        }
      ]
    },
    {
      "cell_type": "code",
      "source": [
        "sample = overall_data #rename variable to sample"
      ],
      "metadata": {
        "id": "BJlf4tFvsqnZ"
      },
      "execution_count": 31,
      "outputs": []
    },
    {
      "cell_type": "markdown",
      "source": [
        "## 1. Stylometrics"
      ],
      "metadata": {
        "id": "R5mQfUa6xzVp"
      }
    },
    {
      "cell_type": "markdown",
      "source": [
        "#### 1.1 Word length metrics\n",
        "\n",
        "To warmup, let's calculate the average word length in the entire corpus. We'll use the `nltk` library to do this as shown below."
      ],
      "metadata": {
        "id": "N2rq4OOwx3NO"
      }
    },
    {
      "cell_type": "code",
      "source": [
        "def get_all_tokens_from_corpus (frame: pd.DataFrame, field_name:str=\"speech\") -> list:\n",
        "  \"\"\" Iterate over the speeches in the dataframe and tokenize the speeches\n",
        "\n",
        "  :params:\n",
        "  :frame (pd.DataFrame): The dataframe that contains the entire tabular dataset\n",
        "  :field_name (str): The field name in the dataframe the cotnains the speeches\n",
        "\n",
        "  :returns:\n",
        "  :all_tokens (list): List of tokens.\n",
        "\n",
        "  \"\"\"\n",
        "  all_tokens = list ()\n",
        "  for i,row in tqdm(frame.iterrows ()):\n",
        "    tokens = nltk.word_tokenize (row[field_name]) # tokenize each speech\n",
        "    tokens = [token.lower () for token in tokens if token.isalpha()]\n",
        "    all_tokens.extend (tokens)\n",
        "  return all_tokens\n",
        "\n",
        "def get_average_token_length (tokens: list) -> float:\n",
        "  \"\"\"Given a list of tokens, calculate the average token length\n",
        "\n",
        "  :params:\n",
        "  :tokens (list): The list of tokens.\n",
        "\n",
        "  :returns:\n",
        "  :avg_token_length (float): The average token length over all the speeches\n",
        "\n",
        "  \"\"\"\n",
        "  avg_token_length = sum([len (token) for token in tokens]) / len (tokens)\n",
        "  return avg_token_length"
      ],
      "metadata": {
        "id": "DAAWHiC30jTS"
      },
      "execution_count": 12,
      "outputs": []
    },
    {
      "cell_type": "code",
      "source": [
        "# Tokenize all the speeches in the corpus\n",
        "all_tokens = get_all_tokens_from_corpus (overall_data)"
      ],
      "metadata": {
        "colab": {
          "base_uri": "https://localhost:8080/"
        },
        "id": "8HQK04pt7P3k",
        "outputId": "943b2de2-3e7f-4098-de4e-2860a27962e8"
      },
      "execution_count": 13,
      "outputs": [
        {
          "output_type": "stream",
          "name": "stderr",
          "text": [
            "10000it [00:44, 226.54it/s]\n"
          ]
        }
      ]
    },
    {
      "cell_type": "code",
      "source": [
        "# Get the average token length in the corpus.\n",
        "avg_token_length = get_average_token_length (all_tokens)\n",
        "print (f\"The average token length is {avg_token_length:.2f}\")"
      ],
      "metadata": {
        "colab": {
          "base_uri": "https://localhost:8080/"
        },
        "id": "v36X4eoGmSFl",
        "outputId": "4ac4ab29-e36b-41cc-9388-2593c3c48a36"
      },
      "execution_count": 14,
      "outputs": [
        {
          "output_type": "stream",
          "name": "stdout",
          "text": [
            "The average token length is 4.77\n"
          ]
        }
      ]
    },
    {
      "cell_type": "markdown",
      "source": [
        "We used f-strings to format the output messages. You should learn more about them [here](https://builtin.com/data-science/python-f-string)"
      ],
      "metadata": {
        "id": "DRc64cVG8tNB"
      }
    },
    {
      "cell_type": "markdown",
      "source": [
        "**Your turn:** Q1. Calculate the variance of the word length [0.5 points]\n",
        "\n",
        "You'll implement a function that takes in the tokens as input and spits out a number which is the variance of the token lengths. The variance is calculated as follows:\n",
        "\n",
        "$$\n",
        "Var (X) = \\frac{\\sum\\limits (x_i - \\bar{x})^2}{n-1},\n",
        "$$\n",
        "\n",
        "Where $$X = \\{x_1, x_2, \\dots, x_n};\\$$\n",
        "\n",
        "$$\\bar{x} = \\frac{\\sum\\limits x_i}{n}$$\n",
        "\n",
        "\n",
        "You can reuse the `get_average_token_length` function to calculate the variance\n"
      ],
      "metadata": {
        "id": "iSaALOXP_b2S"
      }
    },
    {
      "cell_type": "code",
      "source": [
        "def get_variance_token_length (tokens: list) -> float:\n",
        "  \"\"\" Given a list of tokens, calculates the variance of the token length\n",
        "\n",
        "  :params:\n",
        "  :tokens (list): The list of tokenized speeches.\n",
        "\n",
        "  :returns:\n",
        "  :variance (float): The variance of token lengths over all the speeches\n",
        "\n",
        "  \"\"\"\n",
        "  variance = 0.0\n",
        "  # Write your code below\n",
        "  avg_token_length = get_average_token_length (tokens)\n",
        "  diff_square = [(len(token)-avg_token_length) **2 for token in tokens]\n",
        "  numerator = np.sum(diff_square)\n",
        "  denominator = (len(tokens) - 1)\n",
        "  variance = numerator/denominator\n",
        "  return variance"
      ],
      "metadata": {
        "id": "TvGRNqywFVzA"
      },
      "execution_count": 17,
      "outputs": []
    },
    {
      "cell_type": "code",
      "source": [
        "var_token_length = get_variance_token_length (all_tokens)\n",
        "print (f\"The variance of the token length is {var_token_length:.2f}\")"
      ],
      "metadata": {
        "id": "bHMv-jGYF6tW",
        "colab": {
          "base_uri": "https://localhost:8080/"
        },
        "outputId": "7bb01d1c-fa5d-4f15-9cee-294f63324f4b"
      },
      "execution_count": 18,
      "outputs": [
        {
          "output_type": "stream",
          "name": "stdout",
          "text": [
            "The variance of the token length is 7.28\n"
          ]
        }
      ]
    },
    {
      "cell_type": "markdown",
      "source": [
        "**Sanity check**: The variance is almost 1.5 times the average."
      ],
      "metadata": {
        "id": "8s5GXHVjG_RH"
      }
    },
    {
      "cell_type": "code",
      "source": [
        "check = 4.77*1.5\n",
        "check"
      ],
      "metadata": {
        "colab": {
          "base_uri": "https://localhost:8080/"
        },
        "id": "UohZgwcCDrSz",
        "outputId": "2fa74cae-28a6-494d-fe97-8eeb1ea5d83a"
      },
      "execution_count": 19,
      "outputs": [
        {
          "output_type": "execute_result",
          "data": {
            "text/plain": [
              "7.154999999999999"
            ]
          },
          "metadata": {},
          "execution_count": 19
        }
      ]
    },
    {
      "cell_type": "markdown",
      "source": [
        "**Your turn** Q2. Report the average word length stratified by gender. Are female speakers using longer words in their speeches?  [0.5 points]\n",
        "\n",
        "You'll need to filter the dataframe by the `gender` column. There are two labels \"M\" and \"F\" corresponding to male and female speakers.\n",
        "\n",
        "_Tip_: Try to reuse the `get_average_token_length` functio on slices of the corpus"
      ],
      "metadata": {
        "id": "Qq0puNYgICY4"
      }
    },
    {
      "cell_type": "code",
      "source": [
        "# Write code below\n",
        "male_sample = sample[sample['gender'] == 'M']\n",
        "female_sample = sample[sample['gender'] == 'F']\n",
        "\n",
        "\n",
        "female_tokens = get_all_tokens_from_corpus(female_sample, field_name=\"speech\")\n",
        "male_tokens = get_all_tokens_from_corpus(male_sample, field_name=\"speech\")\n",
        "\n",
        "avg_token_length_female = get_average_token_length(female_tokens)\n",
        "avg_token_length_male = get_average_token_length(male_tokens)\n",
        "\n",
        "print (f\"The average token length for female is {avg_token_length_female}\")\n",
        "print (f\"The average token length for male is {avg_token_length_male}\")\n"
      ],
      "metadata": {
        "id": "qrRm8vUuAZZY",
        "colab": {
          "base_uri": "https://localhost:8080/"
        },
        "outputId": "0d58f198-7687-4c81-f657-70d14be975c6"
      },
      "execution_count": 32,
      "outputs": [
        {
          "output_type": "stream",
          "name": "stderr",
          "text": [
            "1795it [00:08, 213.94it/s]\n",
            "8205it [00:29, 275.07it/s]\n"
          ]
        },
        {
          "output_type": "stream",
          "name": "stdout",
          "text": [
            "The average token length for female is 4.810179624952658\n",
            "The average token length for male is 4.76110368088013\n"
          ]
        }
      ]
    },
    {
      "cell_type": "markdown",
      "source": [
        "#### 1.2 Vocabulary richness by characteristic\n",
        "\n",
        "In class we discussed type to token ratio as a way to quantify the richness in vocabulary.\n",
        "\n",
        "[This paper](http://ccc.inaoep.mx/~villasen/bib/Quantitative%20Authorship%20AttributionQuantitative%20Authorship%20Attribution.pdf) suggests other ways of calculating the richness of the vocabulary (see 2.2.3). We'll implement Eq. 2 and 9 in this homework"
      ],
      "metadata": {
        "id": "PpIEEj5-MjTN"
      }
    },
    {
      "cell_type": "markdown",
      "source": [
        "**Your turn**: Q3. Implement a function that takes the tokens as input and calculates the metric in Eq.2 of the paper. [1 point]\n",
        "\n",
        "$$\n",
        "\\frac{1}{N^2}\\sum\\limits_i i^2V_i - N\n",
        "$$\n",
        "\n",
        "Where $N$ is the number of tokens, and $V_i$ is the number of words that occur i times in the text. This statistic is also referred to as _The Characteristic_ in literature.\n",
        "\n",
        "**Interpretation**: $V_i$ will be larger if words are being repeated. Thus, if the vocabulary is not rich, we expect this value -- and, in turn, our statistic -- to be high; conversely, if the reciprocal is high, then the vocabulary is rich.\n"
      ],
      "metadata": {
        "id": "FiTHWlP3N9a8"
      }
    },
    {
      "cell_type": "markdown",
      "source": [
        "To calculate the above equation, we will first need to have access to word counts. In class, we have seen that the word counts can be obtained by calling the `Counter` method as follows."
      ],
      "metadata": {
        "id": "UY4bl_IJT1TP"
      }
    },
    {
      "cell_type": "code",
      "source": [
        "# We can access the tokens using the variable all_tokens\n",
        "all_speeches_counter = Counter (all_tokens)"
      ],
      "metadata": {
        "id": "dKTlyUIESoxO"
      },
      "execution_count": 20,
      "outputs": []
    },
    {
      "cell_type": "markdown",
      "source": [
        "Now write the two functions below [0.5 points each]:\n",
        "\n",
        "1. The first function takes the counter object as input and returns a dictionary whose keys are counts and values are the number of vocabulary items with that count. For eg.  the returned dictionary should be of the form `{1: 213, 2:124, ...}` which means that there are 213 words that occur exactly once and 124 words that occur exactly twice and so on.\n",
        "\n",
        "2. The second takes the output of the first function as input and returns the\n",
        "richness metric as shown in \"The characteristic\" expression above."
      ],
      "metadata": {
        "id": "WG-cPlq0TMnT"
      }
    },
    {
      "cell_type": "code",
      "source": [
        "def counts_map (counter: Counter) -> dict:\n",
        "  \"\"\" Create a dictionary with counts as keys and number of vocabulary\n",
        "      items as values\n",
        "\n",
        "      :params:\n",
        "      :counter(Counter): wordcounts for the entire vocabulary\n",
        "\n",
        "      :returns:\n",
        "      value_counts (dict): dictionary contains a map of word count as keys and\n",
        "                           number of vocabulary items that have that count as\n",
        "                           values\n",
        "  \"\"\"\n",
        "  # Your code below\n",
        "  value_counts = Counter(counter.values())\n",
        "  return value_counts\n",
        "\n",
        "def vocab_richness_by_characteristic (V:dict, N: int) -> float:\n",
        "  \"\"\" Calculate the richness of vocabulary based on the repetition\n",
        "      characteristic\n",
        "\n",
        "      :params:\n",
        "      :V (dict): key=wordcount; value=number of vocabulary items\n",
        "      :N (int): The number of tokens in the corpus\n",
        "\n",
        "      :returns:\n",
        "      richness (float): The calculated vocabulary richness\n",
        "\n",
        "  \"\"\"\n",
        "  richness = 0.0\n",
        "  # Write code below\n",
        "  for key, value in V.items():\n",
        "    richness += (key**2 * value - N)/N**2\n",
        "  return richness"
      ],
      "metadata": {
        "id": "keSKzOAbV-dP"
      },
      "execution_count": 23,
      "outputs": []
    },
    {
      "cell_type": "markdown",
      "source": [
        "Before we calculate the richness for a bigger text collection, let's see what we get for a couple of cooked up examples.\n",
        "\n",
        "Calculate the richness for\n",
        "\n",
        "$ V = \\{1:1, 2:1, 3:1, 4:1, 5:1\\}$, $N=5$\n",
        "\n",
        "and\n",
        "\n",
        "$ V = \\{1:2, 2:2, 3:0, 4:0, 5:1\\}$, $N=5$"
      ],
      "metadata": {
        "id": "JgJKkTzRnrt5"
      }
    },
    {
      "cell_type": "code",
      "source": [
        "V = {1:1, 2:1, 3:1, 4:1, 5:1}\n",
        "N=5\n",
        "print (vocab_richness_by_characteristic (V, 5))"
      ],
      "metadata": {
        "id": "KM1g5H11oqRq",
        "colab": {
          "base_uri": "https://localhost:8080/"
        },
        "outputId": "9c62fda6-da72-4db2-a3b6-5dad362dcc61"
      },
      "execution_count": 24,
      "outputs": [
        {
          "output_type": "stream",
          "name": "stdout",
          "text": [
            "1.2000000000000002\n"
          ]
        }
      ]
    },
    {
      "cell_type": "code",
      "source": [
        "V = {1:2, 2:2, 3:0, 4:0, 5:1}\n",
        "N=5\n",
        "print (vocab_richness_by_characteristic (V, 5))"
      ],
      "metadata": {
        "id": "g6BaR1WEpGUA",
        "colab": {
          "base_uri": "https://localhost:8080/"
        },
        "outputId": "89be6342-79bc-413f-fb74-c17bbd1850bd"
      },
      "execution_count": null,
      "outputs": [
        {
          "output_type": "stream",
          "name": "stdout",
          "text": [
            "0.4\n"
          ]
        }
      ]
    },
    {
      "cell_type": "markdown",
      "source": [
        "**Sanity check**: The richness metric for the second map of counts should be smaller; I get 0.4 for the second dictionary."
      ],
      "metadata": {
        "id": "7Gp3spGtpMRs"
      }
    },
    {
      "cell_type": "code",
      "source": [
        "V = counts_map (all_speeches_counter)\n",
        "richness_characteristic = vocab_richness_by_characteristic (V, len (all_tokens))\n",
        "print (f\"Vocabulary richness according to characteristic={richness_characteristic}\")"
      ],
      "metadata": {
        "id": "KKhIlj7ZWyka",
        "colab": {
          "base_uri": "https://localhost:8080/"
        },
        "outputId": "672e738e-9187-453d-a4f9-fd09326ddeff"
      },
      "execution_count": 25,
      "outputs": [
        {
          "output_type": "stream",
          "name": "stdout",
          "text": [
            "Vocabulary richness according to characteristic=0.009369180304238165\n"
          ]
        }
      ]
    },
    {
      "cell_type": "markdown",
      "source": [
        "#### 1.3 Richness based on entropy\n",
        "\n",
        "**Your turn**: Q4. Implement a function that takes in the tokens as input and calculates the metric in Eq.9 of the paper. [0.5 point]\n",
        "\n",
        "$$\n",
        "Entropy = - \\sum p_v \\log p_v,\n",
        "$$\n",
        "\n",
        "where $p_v$ is the relative frequency or the probability of seeing the token $v$ in text."
      ],
      "metadata": {
        "id": "VZS2Wzw-akX7"
      }
    },
    {
      "cell_type": "markdown",
      "source": [
        "Write a function that takes the counter object and creates a dictionary for the probabilities of the words."
      ],
      "metadata": {
        "id": "Aah9pRGDbY-k"
      }
    },
    {
      "cell_type": "code",
      "source": [
        "def vocab_richness_by_entropy (counter:Counter) -> float:\n",
        "  \"\"\" Calculate the richness by calculating the entropy of\n",
        "  a probability distribution\n",
        "\n",
        "  :params:\n",
        "  :counter(Counter): wordcounts for the corpus\n",
        "\n",
        "  :returns:\n",
        "  :entropy (float): The entropy of the distribution\n",
        "  \"\"\"\n",
        "  entropy = 0.0\n",
        "  # Write your code below\n",
        "  total_word = sum(counter.values())\n",
        "  for value in counter.values():\n",
        "    prob = (value/total_word)\n",
        "    entropy -= prob *np.log(prob)\n",
        "  return entropy"
      ],
      "metadata": {
        "id": "Kn_6mhgxdxhZ"
      },
      "execution_count": 26,
      "outputs": []
    },
    {
      "cell_type": "markdown",
      "source": [
        "Again, before we calculate the \"richness by entropy\" for a bigger text collection, let's see what we get for a couple of cooked up examples.\n",
        "\n",
        "Calculate the richness for\n",
        "\n",
        "$ p_v = \\{\"the\":2, \"show\":2, \"must\":2, \"go\":2, \"on\":2\\}$\n",
        "\n",
        "and\n",
        "\n",
        "$ V = \\{\"the\":3, \"show\":3, \"must\":1, \"go\":1, \"on\":2\\}$, $N=5$"
      ],
      "metadata": {
        "id": "OYuU31nYryyK"
      }
    },
    {
      "cell_type": "code",
      "source": [
        "print (vocab_richness_by_entropy ({\"the\":2, \"show\":2, \"must\":2, \"go\":2, \"on\":2}))\n",
        "print (vocab_richness_by_entropy ({\"the\":3, \"show\":3, \"must\":1, \"go\":1, \"on\":2}))"
      ],
      "metadata": {
        "id": "LPFsZ-ZFsky0",
        "colab": {
          "base_uri": "https://localhost:8080/"
        },
        "outputId": "7fe8dfc9-e4bf-436d-995d-0e07091346df"
      },
      "execution_count": 27,
      "outputs": [
        {
          "output_type": "stream",
          "name": "stdout",
          "text": [
            "1.6094379124341005\n",
            "1.5047882836811908\n"
          ]
        }
      ]
    },
    {
      "cell_type": "markdown",
      "source": [
        "**Sanity check**: We expect a flat distribution to be more rich and consequently higher entropy. I got 1.61 for the first example."
      ],
      "metadata": {
        "id": "hdm2YrYPtaE1"
      }
    },
    {
      "cell_type": "code",
      "source": [
        "richness_entropy = vocab_richness_by_entropy (all_speeches_counter)\n",
        "print (richness_entropy)"
      ],
      "metadata": {
        "id": "HHq6bc9neuVj",
        "colab": {
          "base_uri": "https://localhost:8080/"
        },
        "outputId": "34f5d545-f657-4d13-e86b-3c7792b2d910"
      },
      "execution_count": 28,
      "outputs": [
        {
          "output_type": "stream",
          "name": "stdout",
          "text": [
            "6.790311510032257\n"
          ]
        }
      ]
    },
    {
      "cell_type": "markdown",
      "source": [
        "#### 1.4 Comparative analysis\n",
        "\n",
        "**Your turn**: Q5. Report the two richness metrics for republican and democrat speeches respectively. Whose vocabulary is richer? Democrats or Republicans? [0.5 points]\n",
        "\n",
        "You may want to use the `party` column from the `overall_data` dataframe."
      ],
      "metadata": {
        "id": "Rqyqp-QRfyCt"
      }
    },
    {
      "cell_type": "code",
      "source": [
        "# Write code below\n",
        "rep_sample = sample[overall_data['party'] == 'R']\n",
        "republican_tokens = get_all_tokens_from_corpus (rep_sample)\n",
        "republican_counter = Counter(republican_tokens)"
      ],
      "metadata": {
        "id": "8DKEezSyuV9v",
        "colab": {
          "base_uri": "https://localhost:8080/"
        },
        "outputId": "2a774e4c-95ae-423d-f2f3-4bd1b870ff4a"
      },
      "execution_count": 33,
      "outputs": [
        {
          "output_type": "stream",
          "name": "stderr",
          "text": [
            "5681it [00:21, 270.51it/s]\n"
          ]
        }
      ]
    },
    {
      "cell_type": "code",
      "source": [
        "dem_sample = sample[sample['party'] == 'D']\n",
        "democrat_tokens = get_all_tokens_from_corpus (dem_sample)\n",
        "democrat_counter = Counter(democrat_tokens)"
      ],
      "metadata": {
        "colab": {
          "base_uri": "https://localhost:8080/"
        },
        "id": "bBWdYRCysSFn",
        "outputId": "aed8fd52-713b-4059-98e7-104c606f2c98"
      },
      "execution_count": 34,
      "outputs": [
        {
          "output_type": "stream",
          "name": "stderr",
          "text": [
            "4270it [00:18, 232.23it/s]\n"
          ]
        }
      ]
    },
    {
      "cell_type": "code",
      "source": [
        "print (f\"Vocabulary richness by characteristic for republicans={vocab_richness_by_characteristic (counts_map (republican_counter), len (republican_tokens))}\")\n",
        "print (f\"Vocabulary richness by characteristic for democrats={vocab_richness_by_characteristic (counts_map (democrat_counter), len (democrat_tokens))}\")\n"
      ],
      "metadata": {
        "id": "-vtQWDtlvUbr",
        "colab": {
          "base_uri": "https://localhost:8080/"
        },
        "outputId": "66b6c16d-943f-4b0a-e375-aab8c70485e8"
      },
      "execution_count": null,
      "outputs": [
        {
          "output_type": "stream",
          "name": "stdout",
          "text": [
            "Vocabulary richness by characteristic for republicans=0.00938091923801958\n",
            "Vocabulary richness by characteristic for democrats=0.009044343113440817\n"
          ]
        }
      ]
    },
    {
      "cell_type": "code",
      "source": [
        "print (f\"Vocabulary richness by entropy for republicans={vocab_richness_by_entropy (republican_counter)}\")\n",
        "print (f\"Vocabulary richness by entropy for democrats={vocab_richness_by_entropy (democrat_counter)}\")"
      ],
      "metadata": {
        "id": "34dmba6lxapc",
        "colab": {
          "base_uri": "https://localhost:8080/"
        },
        "outputId": "e663c9eb-f74a-4353-f11e-d5c9a1a1ab3f"
      },
      "execution_count": 35,
      "outputs": [
        {
          "output_type": "stream",
          "name": "stdout",
          "text": [
            "Vocabulary richness by entropy for republicans=6.75557443469104\n",
            "Vocabulary richness by entropy for democrats=6.77655489344723\n"
          ]
        }
      ]
    },
    {
      "cell_type": "markdown",
      "source": [
        "## 2. Find distinctive terms\n",
        "\n",
        "Our objective in this section is to find terms that are distinctive of the two parties i.e. words that indicate partisanship. We'll now implement the method to find such terms.\n",
        "\n",
        "\n",
        "#### 2.1 odds ratio or log-odds difference\n",
        "\n",
        "The odds $o_{w}^{(i)}$ for a word $w$ in group $i$ is given by:\n",
        "\n",
        "$$\n",
        "o_{w}^{(i)} = \\frac{f_w^{(i)}}{1-f_w^{(i)}},\n",
        "$$\n",
        "\n",
        "where $f_w^{(i)}$ is the relative frequency of $w$ in group $i$.\n",
        "\n",
        "**Note** The relative frequency of a word is nothing but its normalized counts or proportion of occurrences of a word in a corpus.\n",
        "\n",
        "To get words that are distinctive of democrats, we can calculate the odds ratio for every word $w$\n",
        "\n",
        "$$\n",
        "r_w = \\frac{o_{w}^{(dem)}}{o_{w}^{(rep)}}\n",
        "$$\n",
        "\n",
        "or the log of the odds ratio\n",
        "\n",
        "$$\n",
        "r_w^{*} = \\log o_{w}^{(dem)} - \\log o_{w}^{(rep)}\n",
        "$$\n",
        "\n",
        "\n"
      ],
      "metadata": {
        "id": "Urjd8Meyx4P3"
      }
    },
    {
      "cell_type": "markdown",
      "source": [
        "**Your turn**: Q. Implement a function to calculate the odds of a word given wordcounts [0.5 points]\n",
        "\n",
        "To avoid zero counts, we'll add a small non-zero number to the count for every word."
      ],
      "metadata": {
        "id": "LC9WP73Qbvti"
      }
    },
    {
      "cell_type": "code",
      "source": [
        "def word_odds (word_counts: dict, smoothing=0.0) -> dict:\n",
        "  \"\"\" Calculate the odds for each word in the word_counts dictionary/Counter\n",
        "\n",
        "  :params:\n",
        "  :word_counts (dict): count of words\n",
        "  :smoothing (float): add a little smoothing to avoid zero counts (default:0.0)\n",
        "\n",
        "  :results:\n",
        "  :odds (dict): odds ratio for all the words\n",
        "\n",
        "  \"\"\"\n",
        "  odds = dict ()\n",
        "  # Write your code below\n",
        "  num_words = sum(word_counts.values())\n",
        "\n",
        "  for key, value in word_counts.items():\n",
        "    odds[key] = float((value+smoothing*len(word_counts))/(num_words+smoothing*len(word_counts)))\n",
        "    odds[key] = odds[key]/(1-odds[key])\n",
        "\n",
        "  return odds"
      ],
      "metadata": {
        "id": "qZ3KPZauli0e"
      },
      "execution_count": 135,
      "outputs": []
    },
    {
      "cell_type": "markdown",
      "source": [
        "**Your turn**: Q. Implement a function to calculate the log odds given wordcounts from each group [0.5 points]\n",
        "\n",
        "**Hints**\n",
        "- You'll first have to take the union of the vocabularies from individual groups and then recalculate the word counts based on this common vocabulary for both the groups.\n",
        "- You will have to get the word_odds"
      ],
      "metadata": {
        "id": "YBsbMcdlnFMG"
      }
    },
    {
      "cell_type": "code",
      "source": [
        "def log_odds_diff (word_counts_group1: dict, word_counts_group2: dict, smoothing=0.0) -> dict:\n",
        "  \"\"\" Calculate the log odds difference for each word in the word_counts dictionary/Counter\n",
        "\n",
        "  :params:\n",
        "  :word_counts_group1 (dict): count of words in group 1\n",
        "  :word_counts_group2 (dict): count of words in group 2\n",
        "  :smoothing (float): add a little smoothing to avoid zero counts (default:0.0)\n",
        "\n",
        "\n",
        "  :results:\n",
        "  :log_odds: give the log odds diff between group 1 and group 2\n",
        "  \"\"\"\n",
        "  log_odds = dict ()\n",
        "  # Write your code below\n",
        "  words1 = list(word_counts_group1.keys())\n",
        "  words2 = list(word_counts_group2.keys())\n",
        "  words = set(words1+words2)\n",
        "\n",
        "  for word in words:\n",
        "    if word not in word_counts_group1.keys():\n",
        "      word_counts_group1[word] = 0\n",
        "    if word not in word_counts_group2.keys():\n",
        "      word_counts_group2[word] = 0\n",
        "\n",
        "  word_odds_group1 = word_odds(word_counts_group1, smoothing)\n",
        "  word_odds_group2 = word_odds(word_counts_group2, smoothing)\n",
        "\n",
        "  for word in words:\n",
        "    log_odds[word] = word_odds_group1.get(word)/word_odds_group2.get(word)\n",
        "    log_odds[word] = np.log(log_odds[word])\n",
        "\n",
        "  return log_odds"
      ],
      "metadata": {
        "id": "Ij4_egvXnu6I"
      },
      "execution_count": 136,
      "outputs": []
    },
    {
      "cell_type": "markdown",
      "source": [
        "**Your turn** Write code to create the word counter by aggregating all the republican speeches; then create a word counter from all democrat speeches; and finally get the difference of the log odds between democrats and republican speenches [0.5 points]"
      ],
      "metadata": {
        "id": "uXq9jkzGvuli"
      }
    },
    {
      "cell_type": "code",
      "source": [
        "rep_sample = sample[overall_data['party'] == 'R']\n",
        "republican_tokens = get_all_tokens_from_corpus (rep_sample)\n",
        "republican_counter = Counter(republican_tokens)\n",
        "dem_sample = sample[sample['party'] == 'D']\n",
        "democrat_tokens = get_all_tokens_from_corpus (dem_sample)\n",
        "democrat_counter = Counter(democrat_tokens)"
      ],
      "metadata": {
        "colab": {
          "base_uri": "https://localhost:8080/"
        },
        "id": "8XqT5iWP0DPl",
        "outputId": "8888ec68-32e7-4977-a1d9-4e7430fd9170"
      },
      "execution_count": 106,
      "outputs": [
        {
          "output_type": "stream",
          "name": "stderr",
          "text": [
            "5681it [00:19, 287.09it/s]\n",
            "4270it [00:18, 226.68it/s]\n"
          ]
        }
      ]
    },
    {
      "cell_type": "code",
      "source": [
        "# Write code below\n",
        "log_odds_score = log_odds_diff (democrat_counter, republican_counter, smoothing=0.01)"
      ],
      "metadata": {
        "id": "CUrEJbPhxJC2"
      },
      "execution_count": 137,
      "outputs": []
    },
    {
      "cell_type": "code",
      "source": [
        "print (\"Distinctive words for democrats\")\n",
        "for word, score in sorted (log_odds_score.items(), key=lambda x:x[1], reverse=True)[0:10]:\n",
        "  print (word, f\"{score:0.2f}\")"
      ],
      "metadata": {
        "id": "BB8_nfshytHn",
        "colab": {
          "base_uri": "https://localhost:8080/"
        },
        "outputId": "30ae25f7-2c80-4635-acd5-440a913592e6"
      },
      "execution_count": 138,
      "outputs": [
        {
          "output_type": "stream",
          "name": "stdout",
          "text": [
            "Distinctive words for democrats\n",
            "gun 0.80\n",
            "republican 0.65\n",
            "republicans 0.60\n",
            "climate 0.59\n",
            "water 0.54\n",
            "violence 0.53\n",
            "women 0.45\n",
            "clean 0.44\n",
            "puerto 0.41\n",
            "students 0.37\n"
          ]
        }
      ]
    },
    {
      "cell_type": "code",
      "source": [
        "print (\"Distinctive words for republicans\")\n",
        "for word, score in sorted (log_odds_score.items(), key=lambda x:x[1], reverse=False)[0:10]:\n",
        "  print (word, f\"{score:0.2f}\")"
      ],
      "metadata": {
        "id": "JXmKmYTt1Jeq",
        "colab": {
          "base_uri": "https://localhost:8080/"
        },
        "outputId": "bff5103b-f660-4f26-ea53-7e3322b25672"
      },
      "execution_count": 139,
      "outputs": [
        {
          "output_type": "stream",
          "name": "stdout",
          "text": [
            "Distinctive words for republicans\n",
            "obamacare -0.59\n",
            "unanimous -0.58\n",
            "administration -0.55\n",
            "consent -0.54\n",
            "ask -0.49\n",
            "patent -0.42\n",
            "obama -0.42\n",
            "president -0.40\n",
            "religious -0.39\n",
            "authorized -0.38\n"
          ]
        }
      ]
    },
    {
      "cell_type": "markdown",
      "source": [
        "**Your turn** Try different values of smoothing from $\\{0.001, 0.01, 0.1, 1\\}$. Report if the top 10 lists differ for different smoothing values. Give a brief explanation (2-3 sentences) of why you see some of these words strongly associated with republican or democractic speeches, respectively [0.5 points]\n",
        "\n"
      ],
      "metadata": {
        "id": "HiD3x2B03tck"
      }
    },
    {
      "cell_type": "code",
      "source": [
        "# Your code below\n",
        "log_odds_score = log_odds_diff (democrat_counter, republican_counter, smoothing=0.001)\n",
        "print (\"Distinctive words for democrats\")\n",
        "for word, score in sorted (log_odds_score.items(), key=lambda x:x[1], reverse=True)[0:10]:\n",
        "  print (word, f\"{score:0.2f}\")\n",
        "print (\"Distinctive words for republicans\")\n",
        "for word, score in sorted (log_odds_score.items(), key=lambda x:x[1], reverse=False)[0:10]:\n",
        "  print (word, f\"{score:0.2f}\")"
      ],
      "metadata": {
        "id": "UX2KhaDK751N",
        "colab": {
          "base_uri": "https://localhost:8080/"
        },
        "outputId": "fd65eb1f-ce1a-41bf-9230-9bbc9ba3ac3b"
      },
      "execution_count": 143,
      "outputs": [
        {
          "output_type": "stream",
          "name": "stdout",
          "text": [
            "Distinctive words for democrats\n",
            "gun 1.84\n",
            "climate 1.42\n",
            "flint 1.29\n",
            "violence 1.21\n",
            "guns 1.20\n",
            "poverty 1.15\n",
            "shooting 1.15\n",
            "tobacco 1.15\n",
            "carbon 1.11\n",
            "wage 1.11\n",
            "Distinctive words for republicans\n",
            "obamacare -1.81\n",
            "patent -1.69\n",
            "garrison -1.40\n",
            "unborn -1.20\n",
            "religious -1.19\n",
            "authorized -1.13\n",
            "revise -1.12\n",
            "christians -1.10\n",
            "arkansas -1.09\n",
            "entitled -1.07\n"
          ]
        }
      ]
    },
    {
      "cell_type": "code",
      "source": [
        "log_odds_score = log_odds_diff (democrat_counter, republican_counter, smoothing=0.1)\n",
        "print (\"Distinctive words for democrats\")\n",
        "for word, score in sorted (log_odds_score.items(), key=lambda x:x[1], reverse=True)[0:10]:\n",
        "  print (word, f\"{score:0.2f}\")\n",
        "print (\"Distinctive words for republicans\")\n",
        "for word, score in sorted (log_odds_score.items(), key=lambda x:x[1], reverse=False)[0:10]:\n",
        "  print (word, f\"{score:0.2f}\")"
      ],
      "metadata": {
        "id": "aZJtb6jF9D0n",
        "colab": {
          "base_uri": "https://localhost:8080/"
        },
        "outputId": "9aa7c8da-d9c7-46c4-e003-d76d9e2d2349"
      },
      "execution_count": 144,
      "outputs": [
        {
          "output_type": "stream",
          "name": "stdout",
          "text": [
            "Distinctive words for democrats\n",
            "republican 0.14\n",
            "gun 0.13\n",
            "republicans 0.12\n",
            "water 0.11\n",
            "women 0.10\n",
            "health 0.10\n",
            "climate 0.09\n",
            "violence 0.08\n",
            "public 0.08\n",
            "are 0.07\n",
            "Distinctive words for republicans\n",
            "president -0.20\n",
            "he -0.17\n",
            "his -0.16\n",
            "ask -0.15\n",
            "unanimous -0.14\n",
            "consent -0.14\n",
            "administration -0.13\n",
            "senate -0.13\n",
            "committee -0.12\n",
            "speaker -0.12\n"
          ]
        }
      ]
    },
    {
      "cell_type": "code",
      "source": [
        "log_odds_score = log_odds_diff (democrat_counter, republican_counter, smoothing=1)\n",
        "print (\"Distinctive words for democrats\")\n",
        "for word, score in sorted (log_odds_score.items(), key=lambda x:x[1], reverse=True)[0:10]:\n",
        "  print (word, f\"{score:0.2f}\")\n",
        "print (\"Distinctive words for republicans\")\n",
        "for word, score in sorted (log_odds_score.items(), key=lambda x:x[1], reverse=False)[0:10]:\n",
        "  print (word, f\"{score:0.2f}\")"
      ],
      "metadata": {
        "id": "GVTHH9r09HJS",
        "colab": {
          "base_uri": "https://localhost:8080/"
        },
        "outputId": "d28ad3df-e6dc-45fa-d727-43c8b1f4f597"
      },
      "execution_count": 145,
      "outputs": [
        {
          "output_type": "stream",
          "name": "stdout",
          "text": [
            "Distinctive words for democrats\n",
            "we 0.02\n",
            "are 0.02\n",
            "a 0.02\n",
            "republican 0.01\n",
            "gun 0.01\n",
            "republicans 0.01\n",
            "health 0.01\n",
            "water 0.01\n",
            "in 0.01\n",
            "women 0.01\n",
            "Distinctive words for republicans\n",
            "the -0.04\n",
            "president -0.04\n",
            "he -0.03\n",
            "his -0.03\n",
            "speaker -0.02\n",
            "ask -0.02\n",
            "i -0.02\n",
            "senate -0.02\n",
            "unanimous -0.02\n",
            "committee -0.02\n"
          ]
        }
      ]
    },
    {
      "cell_type": "markdown",
      "source": [
        "Your answer here: The distinctive words are not the same regarding different smoothing values.But there are overlap between the distinctive words for each party. And these words reflect the focus of each party. For example, the words usually distinctive for Democrat are gun, health, water, womem. These are the social issues that Democrat aim to deal with. The distinctive words for republicans are obamacares, president, unanimous. These also indicate the common topics covered by republican speeches."
      ],
      "metadata": {
        "id": "zigqw3nf77bA"
      }
    },
    {
      "cell_type": "markdown",
      "source": [
        "#### 2.2 [Extra credit]\n",
        "\n",
        "\n",
        "[Monroe et. al.](http://languagelog.ldc.upenn.edu/myl/Monroe.pdf) propose a model based approach to find distinctive words (section 3.3 of their paper) in which they assume the log-odds ratio as a random variable. They estimate the log-odds ratio under their model by Eq. 16 and calculate the variance and the z-score of the log-odds in Eq. 21 and 22, respectively."
      ],
      "metadata": {
        "id": "1blGyn-84Xtg"
      }
    },
    {
      "cell_type": "markdown",
      "source": [
        "**Your turn** Implement eq. 16, 21 and 22 from the Monroe et. al. paper. Report the difference in the wordlists obtained by this methods with the simple log-odds from the previous section. [1 point]"
      ],
      "metadata": {
        "id": "410uS57c5a--"
      }
    },
    {
      "cell_type": "code",
      "source": [
        "# Your code below"
      ],
      "metadata": {
        "id": "vkFWJBvB7tSF"
      },
      "execution_count": null,
      "outputs": []
    },
    {
      "cell_type": "markdown",
      "source": [
        "Your answer here:"
      ],
      "metadata": {
        "id": "t2QHvhWT8nTd"
      }
    },
    {
      "cell_type": "markdown",
      "source": [
        "## 3. Find similar documents\n",
        "\n",
        "\n",
        "In this section, we'll write functions to calculate similarity between documents. We'll first start by representing documents as _tfidf_ vectors."
      ],
      "metadata": {
        "id": "A8qcKzET8r9v"
      }
    },
    {
      "cell_type": "code",
      "source": [
        "def get_speeches_as_tokens (frame: pd.DataFrame,\n",
        "                            speech_field:str=\"speech\",\n",
        "                            id_field=\"speech_id\") -> dict:\n",
        "  \"\"\" Iterate over the speeches in the dataframe and tokenize the speeches\n",
        "\n",
        "  :params:\n",
        "  :frame (pd.DataFrame): The dataframe that contains the entire tabular dataset\n",
        "  :speech_field (str): The field name in the dataframe the contains the speeches\n",
        "  :id_field (str): The field name in the dataframe the contains the speech_id\n",
        "\n",
        "  :returns:\n",
        "  :all_tokens (dict): Dictionary of tokenized speeches\n",
        "\n",
        "  \"\"\"\n",
        "  all_tokens = dict ()\n",
        "  for i,row in tqdm(frame.iterrows ()):\n",
        "    tokens = nltk.word_tokenize (row[speech_field]) # tokenize each speech\n",
        "    tokens = [token.lower () for token in tokens if token.isalpha()]\n",
        "    all_tokens[row[id_field]] = tokens\n",
        "  return all_tokens"
      ],
      "metadata": {
        "id": "rXuN2wCTIyjP"
      },
      "execution_count": 146,
      "outputs": []
    },
    {
      "cell_type": "code",
      "source": [
        "# Get the speeches as a tokenized stream\n",
        "speeches_as_tokens = get_speeches_as_tokens (overall_data,\n",
        "                                             speech_field=\"speech\",\n",
        "                                             id_field=\"speech_id\")\n",
        "\n",
        "# Create a counter\n",
        "all_tokens_counter = Counter ([token for speech_id in speeches_as_tokens for token in speeches_as_tokens[speech_id]])\n",
        "\n",
        "# Create a two-way map of word to index and index to word, but only consider\n",
        "# the most popular 5000 words\n",
        "iwx = {word: i for i, (word, count) in enumerate (all_tokens_counter.most_common (5000))}\n",
        "iiwx = {value: key for key,value in iwx.items()}\n",
        "\n",
        "# Remove all the speeches whose words are not found in the top 5000 words vocabulary\n",
        "final_speeches_as_tokens = {speech_id: speeches_as_tokens[speech_id]\n",
        "                             for speech_id in speeches_as_tokens if not sum([token in iwx for token in speeches_as_tokens[speech_id]]) == 0}\n",
        "\n",
        "# Create a two-way map between speech_ids and the row numbers\n",
        "idx = {speech_id: i for i, speech_id in enumerate (final_speeches_as_tokens)}\n",
        "iidx = {value: key for key,value in idx.items()}"
      ],
      "metadata": {
        "colab": {
          "base_uri": "https://localhost:8080/"
        },
        "id": "8PtYArx9JCnF",
        "outputId": "8ae3e5fd-00cb-4d23-cd75-b0f54f7fe5e5"
      },
      "execution_count": 147,
      "outputs": [
        {
          "output_type": "stream",
          "name": "stderr",
          "text": [
            "10000it [00:38, 263.01it/s]\n"
          ]
        }
      ]
    },
    {
      "cell_type": "markdown",
      "source": [
        "We'll use the `final_speeches_as_tokens` variable"
      ],
      "metadata": {
        "id": "zZNqTRAiR2JP"
      }
    },
    {
      "cell_type": "markdown",
      "source": [
        "#### 3.1 Term frequency\n",
        "\n",
        "**Your turn** Write a function to calculate the term frequency matrix.[0.5 points]\n",
        "\n",
        "\n",
        "- The term frequency matrix has number of rows equal to the number of documents, and the number of columns as the size of the vocab\n",
        "- Every cell in the matrix corresponds to word $w$ and document $d$; the term frequency or $tf (w,d)$ is\n",
        "\n",
        "$$\n",
        "tf(w,d) = \\log (1+f_{w,d}),\n",
        "$$\n",
        "\n",
        "where $f_{w,d}$ is the relative frequency of word $w$ in document $d$."
      ],
      "metadata": {
        "id": "DTxBpd5UGR1S"
      }
    },
    {
      "cell_type": "code",
      "source": [
        "def get_term_frequency_matrix (tokens: list, vocab_index: tuple) -> np.array:\n",
        "  \"\"\" Get the term frequency matrix\n",
        "\n",
        "  :params:\n",
        "  :tokens (dict): dictionary of lists; every key is a speech id, and every value is a tokenized speech\n",
        "  :vocab_index (tuple): contains a mapping of word to index and another mapping from index to word\n",
        "  :returns:\n",
        "  :tf_mat (np.array): term frequency matrix\n",
        "\n",
        "  \"\"\"\n",
        "  w2i, i2w = vocab_index\n",
        "  return tf_mat"
      ],
      "metadata": {
        "id": "6gOl_R8MFUpn"
      },
      "execution_count": null,
      "outputs": []
    },
    {
      "cell_type": "code",
      "source": [
        "tf_mat = get_term_frequency_matrix (final_speeches_as_tokens, (iwx, iiwx))\n",
        "print (tf_mat[idx[1140046217], iwx['of']])"
      ],
      "metadata": {
        "id": "BaUYOPhDN987",
        "colab": {
          "base_uri": "https://localhost:8080/",
          "height": 197
        },
        "outputId": "331f2e1c-c1c2-4f14-93c6-64659930682a"
      },
      "execution_count": 148,
      "outputs": [
        {
          "output_type": "error",
          "ename": "NameError",
          "evalue": "ignored",
          "traceback": [
            "\u001b[0;31m---------------------------------------------------------------------------\u001b[0m",
            "\u001b[0;31mNameError\u001b[0m                                 Traceback (most recent call last)",
            "\u001b[0;32m<ipython-input-148-0c4604a1030e>\u001b[0m in \u001b[0;36m<cell line: 1>\u001b[0;34m()\u001b[0m\n\u001b[0;32m----> 1\u001b[0;31m \u001b[0mtf_mat\u001b[0m \u001b[0;34m=\u001b[0m \u001b[0mget_term_frequency_matrix\u001b[0m \u001b[0;34m(\u001b[0m\u001b[0mfinal_speeches_as_tokens\u001b[0m\u001b[0;34m,\u001b[0m \u001b[0;34m(\u001b[0m\u001b[0miwx\u001b[0m\u001b[0;34m,\u001b[0m \u001b[0miiwx\u001b[0m\u001b[0;34m)\u001b[0m\u001b[0;34m)\u001b[0m\u001b[0;34m\u001b[0m\u001b[0;34m\u001b[0m\u001b[0m\n\u001b[0m\u001b[1;32m      2\u001b[0m \u001b[0mprint\u001b[0m \u001b[0;34m(\u001b[0m\u001b[0mtf_mat\u001b[0m\u001b[0;34m[\u001b[0m\u001b[0midx\u001b[0m\u001b[0;34m[\u001b[0m\u001b[0;36m1140046217\u001b[0m\u001b[0;34m]\u001b[0m\u001b[0;34m,\u001b[0m \u001b[0miwx\u001b[0m\u001b[0;34m[\u001b[0m\u001b[0;34m'of'\u001b[0m\u001b[0;34m]\u001b[0m\u001b[0;34m]\u001b[0m\u001b[0;34m)\u001b[0m\u001b[0;34m\u001b[0m\u001b[0;34m\u001b[0m\u001b[0m\n",
            "\u001b[0;31mNameError\u001b[0m: name 'get_term_frequency_matrix' is not defined"
          ]
        }
      ]
    },
    {
      "cell_type": "markdown",
      "source": [
        "**Sanity check** I get tf for word \"of\" and in speech \"1140046217\" as 0.047"
      ],
      "metadata": {
        "id": "johCNX5gYoEG"
      }
    },
    {
      "cell_type": "markdown",
      "source": [
        "#### 3.2 Inverse document frequency\n",
        "\n",
        "**Your turn** Write a function to calculate the inverse document frequency vector [0.5 points]\n",
        "\n",
        "\n",
        "- The inverse document frequency vector has number of rows equal to the number of words\n",
        "- Every cell in the vector corresponds to word $w$; the inverse document frequency or $idf (w,D)$ is\n",
        "\n",
        "$$\n",
        "idf(w,D) = \\log (\\frac{N}{n_w}),\n",
        "$$\n",
        "\n",
        "where $n_{w}$ is the number of documents in which the word $w$ occurs.\n",
        "\n",
        "\n",
        "**Hint**: You can compute the idf vector from the term frequency matrix"
      ],
      "metadata": {
        "id": "gRUmocXWZGQw"
      }
    },
    {
      "cell_type": "code",
      "source": [
        "def get_inverse_document_vector (tf_mat: np.array) -> np.array:\n",
        "  \"\"\" Calculate the inverse document vector\n",
        "\n",
        "  :params:\n",
        "  :tf_mat (np.array): The term frequency matrix\n",
        "  :returns:\n",
        "  :idf_vec (np.array): The inverse document frequency vector\n",
        "  \"\"\"\n",
        "\n",
        "  # Write code here\n"
      ],
      "metadata": {
        "id": "uYSVTgOYb-_o"
      },
      "execution_count": null,
      "outputs": []
    },
    {
      "cell_type": "code",
      "source": [
        "idf_vec = get_inverse_document_vector (tf_mat)"
      ],
      "metadata": {
        "id": "xR0LWQzpdJC_"
      },
      "execution_count": null,
      "outputs": []
    },
    {
      "cell_type": "markdown",
      "source": [
        "#### 3.3 TF-IDF\n",
        "\n",
        "**Your turn** Write a function to calculate the term TFIDF matrix [0.5 points]\n",
        "\n",
        "\n",
        "- The TFIDF matrix should have number of rows equal to number of documents, and number of columns equal to the size of the vocabulary\n",
        "- Every cell in the matrix corresponds to document $d$ and word $w$; the $tfidf (w,D)$ is\n",
        "\n",
        "$$\n",
        "tfidf(w,d) = tf(w,d) \\dot idf(w,D),\n",
        "$$\n",
        "\n",
        "\n",
        "**Hint**: You can calculate the tf-idf matrix if you have the tf matrix and the idf vector using numpy's broadcast operations"
      ],
      "metadata": {
        "id": "WZxH_TZTexUu"
      }
    },
    {
      "cell_type": "code",
      "source": [
        "def get_tfidf_mat (tf_mat: np.array, idf_vec: np.array) ->np.array:\n",
        "\n",
        "  tf_idf_mat = np.dot(tf_mat, idf_vec.T)\n",
        "  return tf_idf_mat\n"
      ],
      "metadata": {
        "id": "l1FKdiutfvtH"
      },
      "execution_count": null,
      "outputs": []
    },
    {
      "cell_type": "markdown",
      "source": [
        "#### 3.4 Similarity metrics\n",
        "\n",
        "**Your turn**: Write a function to calculate the cosine distance between two vectors. [0.5 points]\n",
        "\n",
        "The cosine distance is defined as follows.\n",
        "\n",
        "$$\n",
        "cos\\_dist (x,y) = 1 - \\frac{x \\cdot y}{\\lVert x \\rVert \\lVert y \\rVert}\n",
        "$$"
      ],
      "metadata": {
        "id": "4wIqqkMpgcxC"
      }
    },
    {
      "cell_type": "code",
      "source": [
        "def cosine_dist (x: np.array, y:np.array) -> float:\n",
        "  \"\"\" cosine distance\n",
        "\n",
        "  :params:\n",
        "  :x (np.array): vector\n",
        "  :y (np.array): vector\n",
        "\n",
        "  :returns:\n",
        "  dist (float): distance between two vectors\n",
        "  \"\"\"\n",
        "  dist = 0.0\n",
        "  # Write code below\n",
        "  dist = 1 - (np.dot(x,y)/np.linalg.norm(x)*np.linalg.norm(y))\n",
        "  return dist"
      ],
      "metadata": {
        "id": "mNkQymj99feM"
      },
      "execution_count": null,
      "outputs": []
    },
    {
      "cell_type": "markdown",
      "source": [
        "#### 3.5 Pairwise distances\n",
        "\n",
        "\n",
        "Consider three sets:\n",
        "\n",
        "- A is a set of pairs where both the speeches are made by republicans\n",
        "- B is a set of pairs where both the speeches are made by democrats\n",
        "- C is a set of pairs where the first speech is made by a republican and the second speech is made by a democrat\n",
        "\n",
        "**Your turn**: Calculate and report the average pairwise distance between speeches in sets A, B, and C. Interpret the result [1 point]\n",
        "\n",
        "\n",
        "**Hints**:\n",
        "\n",
        "- This is likely to be a computationally intensive calculation. If you cannot average over all the pairs in the set, then randomly sample 100 pairs from each set and average over them. Repeat the random sampling 10 times and report the range of the average.\n"
      ],
      "metadata": {
        "id": "Guh1S4koh0y0"
      }
    },
    {
      "cell_type": "code",
      "source": [
        "# Your code here\n",
        "def get_all_tokens_by_speech(frame: pd.DataFrame, field_name: str = \"speech\") -> list:\n",
        "    return [\n",
        "        [token.lower() for token in nltk.word_tokenize(row[field_name]) if token.isalpha()]\n",
        "        for _, row in tqdm(frame.iterrows())\n",
        "    ]\n"
      ],
      "metadata": {
        "id": "OKMdA07gjMRl"
      },
      "execution_count": null,
      "outputs": []
    },
    {
      "cell_type": "markdown",
      "source": [
        "Your answer here"
      ],
      "metadata": {
        "id": "nt6XkR01jGu9"
      }
    }
  ]
}