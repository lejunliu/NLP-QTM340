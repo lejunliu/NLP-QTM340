{
  "nbformat": 4,
  "nbformat_minor": 0,
  "metadata": {
    "colab": {
      "provenance": []
    },
    "kernelspec": {
      "name": "python3",
      "display_name": "Python 3"
    },
    "language_info": {
      "name": "python"
    }
  },
  "cells": [
    {
      "cell_type": "markdown",
      "source": [
        "In this problem set, we'll do both unsupervised and supervised learning on text.\n",
        "\n",
        "Similar to PS1, you're free to execute the notebook in your personal environment, but I would strongly recommend using Google Colab. You can upload this notebook to Google colab by following the steps below.\n",
        "\n",
        "1. Open [colab.research.google.com](colab.research.google.com)\n",
        "2. Click on the upload tab\n",
        "3. Upload the `.ipynb` file by choosing the right file from your local disk\n",
        "\n",
        "\n",
        "**Submission instructions**\n",
        "\n",
        "1. When you're ready to submit, you'll save the notebook as QTM340-PS2-Firstname-Lastname.ipynb; for example, if your name is Harry Potter, save the file as `QTM340-PS2-Harry-Potter.ipynb`. This can be done in Google colab by editing the filename and then following File --> Download --> .ipynb\n",
        "\n",
        "2. Upload this file on canvas."
      ],
      "metadata": {
        "id": "OVeHdHM5H2d6"
      }
    },
    {
      "cell_type": "markdown",
      "source": [
        "In this problem set, you'll learn to:\n",
        "\n",
        "(a) Use `gensim` to find topics\n",
        "\n",
        "(b) Use scikit-learn to train multiple classifiers\n",
        "\n",
        "(c) Calculate CI and test hypothesis"
      ],
      "metadata": {
        "id": "_VMyq91SItbr"
      }
    },
    {
      "cell_type": "markdown",
      "source": [
        "We'll do all of this on a collection of movie plot summaries that are extracted from Wikipedia courtesy of this [paper from Bamman et. al.](http://www.cs.cmu.edu/~dbamman/pubs/pdf/bamman+oconnor+smith.acl13.pdf)."
      ],
      "metadata": {
        "id": "x2IUQqayQ7mf"
      }
    },
    {
      "cell_type": "code",
      "source": [
        "!wget http://www.cs.cmu.edu/~ark/personas/data/MovieSummaries.tar.gz\n",
        "!tar -xzvf MovieSummaries.tar.gz"
      ],
      "metadata": {
        "colab": {
          "base_uri": "https://localhost:8080/"
        },
        "id": "3U9z7P71YU92",
        "outputId": "7c82e791-60f1-4fb3-fce7-aeb865083942"
      },
      "execution_count": null,
      "outputs": [
        {
          "output_type": "stream",
          "name": "stdout",
          "text": [
            "--2023-11-03 00:40:39--  http://www.cs.cmu.edu/~ark/personas/data/MovieSummaries.tar.gz\n",
            "Resolving www.cs.cmu.edu (www.cs.cmu.edu)... 128.2.42.95\n",
            "Connecting to www.cs.cmu.edu (www.cs.cmu.edu)|128.2.42.95|:80... connected.\n",
            "HTTP request sent, awaiting response... 200 OK\n",
            "Length: 48002242 (46M) [application/x-gzip]\n",
            "Saving to: ‘MovieSummaries.tar.gz’\n",
            "\n",
            "MovieSummaries.tar. 100%[===================>]  45.78M  4.47MB/s    in 11s     \n",
            "\n",
            "2023-11-03 00:40:50 (4.24 MB/s) - ‘MovieSummaries.tar.gz’ saved [48002242/48002242]\n",
            "\n",
            "MovieSummaries/\n",
            "MovieSummaries/tvtropes.clusters.txt\n",
            "MovieSummaries/name.clusters.txt\n",
            "MovieSummaries/plot_summaries.txt\n",
            "MovieSummaries/README.txt\n",
            "MovieSummaries/movie.metadata.tsv\n",
            "MovieSummaries/character.metadata.tsv\n"
          ]
        }
      ]
    },
    {
      "cell_type": "markdown",
      "source": [
        "You'll find a `MovieSummaries` directory which contains many files. We're interested in the `README.txt`, `plot_summaries.txt`, and `movie.metadata.txt`.\n",
        "\n",
        "Let's print the `README.txt` file."
      ],
      "metadata": {
        "id": "yR092SSDYR3b"
      }
    },
    {
      "cell_type": "code",
      "source": [
        "!cat MovieSummaries/README.txt"
      ],
      "metadata": {
        "colab": {
          "base_uri": "https://localhost:8080/"
        },
        "id": "9BNDAziuZC8N",
        "outputId": "be51bef4-640c-4a4d-a4c4-9b214d73b99a"
      },
      "execution_count": null,
      "outputs": [
        {
          "output_type": "stream",
          "name": "stdout",
          "text": [
            "This README describes data in the CMU Movie Summary Corpus, a collection of 42,306 movie plot summaries and metadata at both the movie level (including box office revenues, genre and date of release) and character level (including gender and estimated age).  This data supports work in the following paper:\n",
            "\n",
            "David Bamman, Brendan O'Connor and Noah Smith, \"Learning Latent Personas of Film Characters,\" in: Proceedings of the Annual Meeting of the Association for Computational Linguistics (ACL 2013), Sofia, Bulgaria, August 2013.\n",
            "\n",
            "All data is released under a Creative Commons Attribution-ShareAlike License. For questions or comments, please contact David Bamman (dbamman@cs.cmu.edu).\n",
            "\n",
            "###\n",
            "#\n",
            "# DATA\n",
            "#\n",
            "###\n",
            "\n",
            "1. plot_summaries.txt.gz [29 M] \n",
            "\n",
            "Plot summaries of 42,306 movies extracted from the November 2, 2012 dump of English-language Wikipedia.  Each line contains the Wikipedia movie ID (which indexes into movie.metadata.tsv) followed by the summary.\n",
            "\n",
            "\n",
            "2. corenlp_plot_summaries.tar.gz [628 M, separate download]\n",
            "\n",
            "The plot summaries from above, run through the Stanford CoreNLP pipeline (tagging, parsing, NER and coref). Each filename begins with the Wikipedia movie ID (which indexes into movie.metadata.tsv).\n",
            "\n",
            "\n",
            "###\n",
            "#\n",
            "# METADATA\n",
            "#\n",
            "###\n",
            "\n",
            "3. movie.metadata.tsv.gz [3.4 M]\n",
            "\n",
            "\n",
            "Metadata for 81,741 movies, extracted from the Noverber 4, 2012 dump of Freebase.  Tab-separated; columns:\n",
            "\n",
            "1. Wikipedia movie ID\n",
            "2. Freebase movie ID\n",
            "3. Movie name\n",
            "4. Movie release date\n",
            "5. Movie box office revenue\n",
            "6. Movie runtime\n",
            "7. Movie languages (Freebase ID:name tuples)\n",
            "8. Movie countries (Freebase ID:name tuples)\n",
            "9. Movie genres (Freebase ID:name tuples)\n",
            "\n",
            "\n",
            "\n",
            "4. character.metadata.tsv.gz [14 M]\n",
            "\n",
            "Metadata for 450,669 characters aligned to the movies above, extracted from the Noverber 4, 2012 dump of Freebase.  Tab-separated; columns:\n",
            "\n",
            "1. Wikipedia movie ID\n",
            "2. Freebase movie ID\n",
            "3. Movie release date\n",
            "4. Character name\n",
            "5. Actor date of birth\n",
            "6. Actor gender\n",
            "7. Actor height (in meters)\n",
            "8. Actor ethnicity (Freebase ID)\n",
            "9. Actor name\n",
            "10. Actor age at movie release\n",
            "11. Freebase character/actor map ID\n",
            "12. Freebase character ID\n",
            "13. Freebase actor ID\n",
            "\n",
            "\n",
            "##\n",
            "#\n",
            "# TEST DATA\n",
            "#\n",
            "##\n",
            "\n",
            "tvtropes.clusters.txt\n",
            "\n",
            "72 character types drawn from tvtropes.com, along with 501 instances of those types.  The ID field indexes into the Freebase character/actor map ID in character.metadata.tsv.\n",
            "\n",
            "name.clusters.txt\n",
            "\n",
            "\n",
            "970 unique character names used in at least two different movies, along with 2,666 instances of those types.  The ID field indexes into the Freebase character/actor map ID in character.metadata.tsv.\n",
            "\n"
          ]
        }
      ]
    },
    {
      "cell_type": "markdown",
      "source": [
        "The dataset directory contains wikipedia plot summaries for 42306 movies. There is also metadata for 81741 movies. For this assignment, we're interested in the genre of a movie, its wiki id, its release date, and its plot summary"
      ],
      "metadata": {
        "id": "nXHKzW_yS47C"
      }
    },
    {
      "cell_type": "code",
      "source": [
        "import pandas as pd\n",
        "import gensim\n",
        "from tqdm import tqdm\n",
        "import numpy as np\n",
        "import sklearn\n",
        "from sklearn.feature_extraction.text import TfidfVectorizer, CountVectorizer\n",
        "from sklearn.model_selection import train_test_split\n",
        "from sklearn.linear_model import LinearRegression, Lasso\n",
        "from sklearn.metrics import mean_squared_error\n",
        "import matplotlib.pyplot as plt\n",
        "%matplotlib inline\n",
        "import nltk\n",
        "from nltk.corpus import stopwords\n",
        "nltk.download('punkt')\n",
        "nltk.download('stopwords')\n",
        "tqdm.pandas()"
      ],
      "metadata": {
        "id": "1hcAoXZOTpFB",
        "colab": {
          "base_uri": "https://localhost:8080/"
        },
        "outputId": "91af1631-c736-4841-ba33-a5b008a4e52f"
      },
      "execution_count": null,
      "outputs": [
        {
          "output_type": "stream",
          "name": "stderr",
          "text": [
            "[nltk_data] Downloading package punkt to /root/nltk_data...\n",
            "[nltk_data]   Unzipping tokenizers/punkt.zip.\n",
            "[nltk_data] Downloading package stopwords to /root/nltk_data...\n",
            "[nltk_data]   Unzipping corpora/stopwords.zip.\n"
          ]
        }
      ]
    },
    {
      "cell_type": "markdown",
      "source": [
        "Let's read the entire dataset as a pandas dataframe."
      ],
      "metadata": {
        "id": "7N7RRXvvBgtz"
      }
    },
    {
      "cell_type": "code",
      "source": [
        "# Read the plot summaries into a dataframe\n",
        "df = pd.read_csv ('MovieSummaries/plot_summaries.txt', sep='\\t', names=['wiki_id', 'summary'])\n",
        "\n",
        "# Map the wikiid to a number and vice versa\n",
        "wikiid2rownum = {id: i for i, id in enumerate (df.wiki_id.values)}\n",
        "rownum2wikiid = {i: id for i, id in enumerate (df.wiki_id.values)}\n",
        "\n",
        "# Read the metadata about the movies into a dataframe\n",
        "metadata = pd.read_csv (\"MovieSummaries/movie.metadata.tsv\", sep='\\t', names=[\"wiki_id\",\n",
        "                                                                              \"freebase_id\",\n",
        "                                                                              \"name\",\n",
        "                                                                              \"release_date\",\n",
        "                                                                              \"revenue\",\n",
        "                                                                              \"runtime\",\n",
        "                                                                              \"languages\",\n",
        "                                                                              \"countries\",\n",
        "                                                                              \"genres\"])"
      ],
      "metadata": {
        "id": "y0LaFqLjSS8z"
      },
      "execution_count": null,
      "outputs": []
    },
    {
      "cell_type": "markdown",
      "source": [
        "## 1. Topic modeling [2 points]\n",
        "\n",
        "We'll first try to do some exploratory analysis based on topic modeling. Particularly, we're interested in finding\n",
        "\n",
        "- the topics in this collection\n",
        "- the correlation of the topics\n",
        "- the prevalence of topics over time"
      ],
      "metadata": {
        "id": "V1xt_UmiT8Gp"
      }
    },
    {
      "cell_type": "markdown",
      "source": [
        "To do so, first we'll use the `nltk` library to tokenize the plot summaries. We could have also used `spacy` but it takes too much time."
      ],
      "metadata": {
        "id": "uQgkc0rA9OqT"
      }
    },
    {
      "cell_type": "markdown",
      "source": [
        "We'll lower case the summaries, remove all the stop words, and only consider the alphabetic characters. The following code takes 2-3 minutes to run on google colab"
      ],
      "metadata": {
        "id": "zEN0Vy3D_qKa"
      }
    },
    {
      "cell_type": "code",
      "source": [
        "def tokenize_summaries (summary):\n",
        "  stop = set(stopwords.words ('english'))\n",
        "  tokens = nltk.word_tokenize(summary)\n",
        "  tokens = [token.lower () for token in tokens if token.isalpha() and token not in stop]\n",
        "  return tokens\n",
        "\n",
        "df[\"tokens\"] = df[\"summary\"].progress_apply (lambda x: tokenize_summaries (x))"
      ],
      "metadata": {
        "colab": {
          "base_uri": "https://localhost:8080/"
        },
        "id": "EXM-ItxUkLzA",
        "outputId": "90bf28ef-6527-460c-a667-e8a13a5e8dd7"
      },
      "execution_count": null,
      "outputs": [
        {
          "output_type": "stream",
          "name": "stderr",
          "text": [
            "100%|██████████| 42303/42303 [02:04<00:00, 341.14it/s]\n"
          ]
        }
      ]
    },
    {
      "cell_type": "markdown",
      "source": [
        "Let's create a dictionary for the corpus. We can do this by calling gensim's `Dictionary` object and passing the tokenized corpus. We'll also apply some light filters to trim the vocabulary to do topic modeling."
      ],
      "metadata": {
        "id": "VeowT4Wnl2rV"
      }
    },
    {
      "cell_type": "code",
      "source": [
        "# Construct a dictionary of words from the corpus\n",
        "dictionary = gensim.corpora.Dictionary(df['tokens'])\n",
        "print (f\"Before filtering: {len (dictionary)}\")\n",
        "\n",
        "# Filter the dictionary to meet frequency thresholds\n",
        "dictionary.filter_extremes(no_below=10,\n",
        "                           no_above=0.5,\n",
        "                           keep_n=10000)\n",
        "print (f\"After filtering: {len (dictionary)}\")"
      ],
      "metadata": {
        "colab": {
          "base_uri": "https://localhost:8080/"
        },
        "id": "Ok7vE1C4kyHy",
        "outputId": "7749ee47-d2ae-4bc4-f6b2-000285c9ca6a"
      },
      "execution_count": 8,
      "outputs": [
        {
          "output_type": "stream",
          "name": "stdout",
          "text": [
            "Before filtering: 134369\n",
            "After filtering: 10000\n"
          ]
        }
      ]
    },
    {
      "cell_type": "markdown",
      "source": [
        "By creating a dictionary in gensim, you map every token to an id, allowing you to convert a stream of tokens to a stream of ids. You can access these ids using `token2id` property that gets set. To run the LDA topic model, we'll have to transform the documents"
      ],
      "metadata": {
        "id": "gorq43BquCQa"
      }
    },
    {
      "cell_type": "code",
      "source": [
        "# The map of wordids back the words\n",
        "id2token = {id: token for token, id in dictionary.token2id.items()}\n",
        "\n",
        "# Construction of the corpus in the format that gensim expects\n",
        "corpus = [dictionary.doc2bow(doc) for doc in df['tokens']]"
      ],
      "metadata": {
        "id": "KLUNrhYmleTD"
      },
      "execution_count": 9,
      "outputs": []
    },
    {
      "cell_type": "markdown",
      "source": [
        "**Your turn!** Run LDA model for the above corpus to get 10 topics. [0.5 points]\n",
        "\n",
        "You'll want to use `LdaMulticore` model and set the number of passes or sweeps over the data to 5 and number of iterations to 50.\n",
        "\n",
        "**Note:** This may take a few minutes."
      ],
      "metadata": {
        "id": "skXDvdw1tpyg"
      }
    },
    {
      "cell_type": "code",
      "source": [
        "num_topics = 10\n",
        "lda = gensim.models.LdaMulticore(corpus=corpus,\n",
        "                                  id2word=id2token,\n",
        "                                  num_topics=num_topics,\n",
        "                                  passes=5,\n",
        "                                  iterations=50)\n"
      ],
      "metadata": {
        "id": "zA0_ucWBbI-S"
      },
      "execution_count": 14,
      "outputs": []
    },
    {
      "cell_type": "code",
      "source": [
        "# For the code below to run, your topic model should be in variable named lda\n",
        "\n",
        "topics = lda.show_topics(num_topics=10, num_words=10, log=True, formatted=False)\n",
        "\n",
        "# We'll print the top words associated with each topic\n",
        "for topic_num, topic_words in topics:\n",
        "  topic_rep = \" \".join ([f\"{w}({p:.4f})\" for w,p in topic_words])\n",
        "  print (f\"Topic {topic_num}: {topic_rep}\")"
      ],
      "metadata": {
        "id": "F75lolaW1Rfy",
        "colab": {
          "base_uri": "https://localhost:8080/"
        },
        "outputId": "5561fa51-756d-4c08-b84a-fe8118016ba3"
      },
      "execution_count": 15,
      "outputs": [
        {
          "output_type": "stream",
          "name": "stdout",
          "text": [
            "Topic 0: joe(0.0156) jimmy(0.0116) band(0.0106) sarah(0.0096) johnny(0.0085) katie(0.0080) party(0.0073) jane(0.0070) eddie(0.0070) steve(0.0069)\n",
            "Topic 1: one(0.0051) ship(0.0050) war(0.0047) group(0.0046) men(0.0045) back(0.0045) they(0.0044) escape(0.0043) two(0.0043) he(0.0041)\n",
            "Topic 2: he(0.0103) house(0.0074) tells(0.0069) back(0.0067) one(0.0067) car(0.0066) man(0.0065) room(0.0064) she(0.0062) find(0.0058)\n",
            "Topic 3: police(0.0103) jack(0.0081) he(0.0060) money(0.0054) prison(0.0048) frank(0.0047) new(0.0046) murder(0.0045) case(0.0042) agent(0.0038)\n",
            "Topic 4: she(0.0093) mother(0.0073) he(0.0073) love(0.0068) father(0.0064) home(0.0056) family(0.0053) life(0.0053) one(0.0052) when(0.0051)\n",
            "Topic 5: film(0.0192) story(0.0070) life(0.0068) young(0.0063) in(0.0062) one(0.0061) world(0.0057) king(0.0052) people(0.0048) man(0.0047)\n",
            "Topic 6: school(0.0279) charlie(0.0132) game(0.0110) team(0.0097) alex(0.0093) mike(0.0089) students(0.0085) ben(0.0080) max(0.0076) high(0.0072)\n",
            "Topic 7: town(0.0127) john(0.0117) sam(0.0106) jim(0.0066) sheriff(0.0063) men(0.0061) gang(0.0057) bill(0.0057) back(0.0053) two(0.0050)\n",
            "Topic 8: he(0.0138) father(0.0127) love(0.0119) family(0.0086) son(0.0076) daughter(0.0067) gets(0.0066) brother(0.0062) get(0.0062) but(0.0061)\n",
            "Topic 9: tom(0.0142) back(0.0093) jerry(0.0086) he(0.0077) dog(0.0052) get(0.0051) one(0.0047) cat(0.0044) away(0.0043) gets(0.0043)\n"
          ]
        }
      ]
    },
    {
      "cell_type": "markdown",
      "source": [
        "**Sanity check**: I found one topic which seemed to be about war and army, etc"
      ],
      "metadata": {
        "id": "C9RFQxG1aM6f"
      }
    },
    {
      "cell_type": "markdown",
      "source": [
        "\n",
        "**Your turn!** Now calculate the following distributions as numpy matrices[0.5 points]\n",
        "\n",
        "(a) For every document, get the mixture of topics. We can do this by calling the `get_document_topics` of the lda model method on the entire corpus.\n",
        "\n",
        "(b) For every topic, get the distribution over words. We can do this by calling the `get_topic_terms` of the lda model on the entire vocabulary.\n",
        "\n",
        "You'll implement two functions below to calculate these.\n",
        "\n"
      ],
      "metadata": {
        "id": "wU8_ryjVn--K"
      }
    },
    {
      "cell_type": "code",
      "source": [
        "def get_topic_mixture (corpus, lda_model):\n",
        "  \"\"\" Get mixture of topics from the corpus.\n",
        "\n",
        "  :params:\n",
        "  :corpus (list): The transformed corpus where every document is a list\n",
        "  :lda_model (gensim.models.ldamulticore.LdaMulticore): The gensim model\n",
        "\n",
        "  :returns:\n",
        "  topic_mixture (np.array): The corpus is represented as a numpy matrix, where\n",
        "                            each row is a document and the columns correspond\n",
        "                            to topics.\n",
        "\n",
        "                            Size = number of documents x number of topics\n",
        "\n",
        "  \"\"\"\n",
        "  num_docs = len(corpus)\n",
        "  topic_mixture = np.zeros((num_docs, num_topics))\n",
        "\n",
        "  for i, doc in enumerate(corpus):\n",
        "    doc_topics = lda_model.get_document_topics(doc, minimum_probability=0)\n",
        "\n",
        "    for topic_id, prob in doc_topics:\n",
        "      topic_mixture[i, topic_id] = prob\n",
        "\n",
        "  return topic_mixture\n",
        "\n",
        "\n",
        "def get_word_dist (lda_model):\n",
        "  \"\"\" Get the probability distribution of words for all the topics.\n",
        "\n",
        "  :params:\n",
        "  :lda_model (gensim.models.ldamulticore.LdaMulticore): The gensim model\n",
        "\n",
        "  :returns:\n",
        "  word_dist (np.array): The topics are represented as a numpy matrix, where\n",
        "                        each row is a topic and the columns correspond to the\n",
        "                        words.\n",
        "\n",
        "                        Size = number of topics x number of words\n",
        "  \"\"\"\n",
        "  # Your code here\n",
        "  vocabulary_size = len(lda.id2word)\n",
        "  word_dist = np.zeros((num_topics, vocabulary_size))\n",
        "\n",
        "  for topic_id in range(num_topics):\n",
        "        topic_terms = lda_model.get_topic_terms(topic_id, topn=vocabulary_size)\n",
        "        for word_id, prob in topic_terms:\n",
        "            word_dist[topic_id, word_id] = prob\n",
        "\n",
        "\n",
        "  return word_dist"
      ],
      "metadata": {
        "id": "eT2j3IKyonOI"
      },
      "execution_count": 16,
      "outputs": []
    },
    {
      "cell_type": "markdown",
      "source": [
        "Now, let's call these functions to get the distributions."
      ],
      "metadata": {
        "id": "KNkDal_jEISR"
      }
    },
    {
      "cell_type": "code",
      "source": [
        "topic_mix = get_topic_mixture (corpus, lda)\n",
        "word_dist = get_word_dist (lda)"
      ],
      "metadata": {
        "id": "zbSGnRQR-Dzm"
      },
      "execution_count": 17,
      "outputs": []
    },
    {
      "cell_type": "markdown",
      "source": [
        "In fact, we'll just add all the topic probabilities to the dataframe"
      ],
      "metadata": {
        "id": "YMBgJC-KMVbr"
      }
    },
    {
      "cell_type": "code",
      "source": [
        "for i in range (lda.num_topics):\n",
        "  df[f'topic_{i}'] = topic_mix[:,i]"
      ],
      "metadata": {
        "id": "MoO7FOnkMa9v"
      },
      "execution_count": 18,
      "outputs": []
    },
    {
      "cell_type": "markdown",
      "source": [
        "You can see that we have added additional columns to the dataframe to have the distribution of topics for every movie."
      ],
      "metadata": {
        "id": "pU6OHQ1jE75v"
      }
    },
    {
      "cell_type": "code",
      "source": [
        "df.head(7)"
      ],
      "metadata": {
        "id": "paPxUHeYMdcD",
        "colab": {
          "base_uri": "https://localhost:8080/",
          "height": 269
        },
        "outputId": "1abcbbd2-1f88-4567-d1ec-83976b1f1ab7"
      },
      "execution_count": 19,
      "outputs": [
        {
          "output_type": "execute_result",
          "data": {
            "text/plain": [
              "    wiki_id                                            summary  \\\n",
              "0  23890098  Shlykov, a hard-working taxi driver and Lyosha...   \n",
              "1  31186339  The nation of Panem consists of a wealthy Capi...   \n",
              "2  20663735  Poovalli Induchoodan  is sentenced for six yea...   \n",
              "3   2231378  The Lemon Drop Kid , a New York City swindler,...   \n",
              "4    595909  Seventh-day Adventist Church pastor Michael Ch...   \n",
              "5   5272176  The president is on his way to give a speech. ...   \n",
              "6   1952976  {{plot}} The film opens in 1974, as a young gi...   \n",
              "\n",
              "                                              tokens   topic_0   topic_1  \\\n",
              "0  [shlykov, taxi, driver, lyosha, saxophonist, d...  0.011120  0.011119   \n",
              "1  [the, nation, panem, consists, wealthy, capito...  0.000295  0.244372   \n",
              "2  [poovalli, induchoodan, sentenced, six, years,...  0.000472  0.000472   \n",
              "3  [the, lemon, drop, kid, new, york, city, swind...  0.000250  0.000250   \n",
              "4  [adventist, church, pastor, michael, chamberla...  0.000589  0.000589   \n",
              "5  [the, president, way, give, speech, while, tra...  0.128750  0.000532   \n",
              "6  [plot, the, film, opens, young, girl, dahlia, ...  0.056838  0.035302   \n",
              "\n",
              "    topic_2   topic_3   topic_4   topic_5   topic_6   topic_7   topic_8  \\\n",
              "0  0.288934  0.011119  0.622107  0.011122  0.011120  0.011119  0.011120   \n",
              "1  0.241556  0.080722  0.068229  0.178712  0.008861  0.000295  0.070874   \n",
              "2  0.000472  0.289681  0.000472  0.061620  0.000472  0.000472  0.645392   \n",
              "3  0.077156  0.321231  0.220866  0.000250  0.000250  0.299791  0.000250   \n",
              "4  0.278198  0.313662  0.146118  0.224911  0.000589  0.000589  0.000589   \n",
              "5  0.478746  0.309156  0.000532  0.000532  0.025526  0.055161  0.000532   \n",
              "6  0.503416  0.000288  0.298671  0.000288  0.104334  0.000288  0.000288   \n",
              "\n",
              "    topic_9  \n",
              "0  0.011119  \n",
              "1  0.106084  \n",
              "2  0.000472  \n",
              "3  0.079707  \n",
              "4  0.034164  \n",
              "5  0.000532  \n",
              "6  0.000288  "
            ],
            "text/html": [
              "\n",
              "  <div id=\"df-8b21c461-c4af-4905-95eb-7c846753c77d\" class=\"colab-df-container\">\n",
              "    <div>\n",
              "<style scoped>\n",
              "    .dataframe tbody tr th:only-of-type {\n",
              "        vertical-align: middle;\n",
              "    }\n",
              "\n",
              "    .dataframe tbody tr th {\n",
              "        vertical-align: top;\n",
              "    }\n",
              "\n",
              "    .dataframe thead th {\n",
              "        text-align: right;\n",
              "    }\n",
              "</style>\n",
              "<table border=\"1\" class=\"dataframe\">\n",
              "  <thead>\n",
              "    <tr style=\"text-align: right;\">\n",
              "      <th></th>\n",
              "      <th>wiki_id</th>\n",
              "      <th>summary</th>\n",
              "      <th>tokens</th>\n",
              "      <th>topic_0</th>\n",
              "      <th>topic_1</th>\n",
              "      <th>topic_2</th>\n",
              "      <th>topic_3</th>\n",
              "      <th>topic_4</th>\n",
              "      <th>topic_5</th>\n",
              "      <th>topic_6</th>\n",
              "      <th>topic_7</th>\n",
              "      <th>topic_8</th>\n",
              "      <th>topic_9</th>\n",
              "    </tr>\n",
              "  </thead>\n",
              "  <tbody>\n",
              "    <tr>\n",
              "      <th>0</th>\n",
              "      <td>23890098</td>\n",
              "      <td>Shlykov, a hard-working taxi driver and Lyosha...</td>\n",
              "      <td>[shlykov, taxi, driver, lyosha, saxophonist, d...</td>\n",
              "      <td>0.011120</td>\n",
              "      <td>0.011119</td>\n",
              "      <td>0.288934</td>\n",
              "      <td>0.011119</td>\n",
              "      <td>0.622107</td>\n",
              "      <td>0.011122</td>\n",
              "      <td>0.011120</td>\n",
              "      <td>0.011119</td>\n",
              "      <td>0.011120</td>\n",
              "      <td>0.011119</td>\n",
              "    </tr>\n",
              "    <tr>\n",
              "      <th>1</th>\n",
              "      <td>31186339</td>\n",
              "      <td>The nation of Panem consists of a wealthy Capi...</td>\n",
              "      <td>[the, nation, panem, consists, wealthy, capito...</td>\n",
              "      <td>0.000295</td>\n",
              "      <td>0.244372</td>\n",
              "      <td>0.241556</td>\n",
              "      <td>0.080722</td>\n",
              "      <td>0.068229</td>\n",
              "      <td>0.178712</td>\n",
              "      <td>0.008861</td>\n",
              "      <td>0.000295</td>\n",
              "      <td>0.070874</td>\n",
              "      <td>0.106084</td>\n",
              "    </tr>\n",
              "    <tr>\n",
              "      <th>2</th>\n",
              "      <td>20663735</td>\n",
              "      <td>Poovalli Induchoodan  is sentenced for six yea...</td>\n",
              "      <td>[poovalli, induchoodan, sentenced, six, years,...</td>\n",
              "      <td>0.000472</td>\n",
              "      <td>0.000472</td>\n",
              "      <td>0.000472</td>\n",
              "      <td>0.289681</td>\n",
              "      <td>0.000472</td>\n",
              "      <td>0.061620</td>\n",
              "      <td>0.000472</td>\n",
              "      <td>0.000472</td>\n",
              "      <td>0.645392</td>\n",
              "      <td>0.000472</td>\n",
              "    </tr>\n",
              "    <tr>\n",
              "      <th>3</th>\n",
              "      <td>2231378</td>\n",
              "      <td>The Lemon Drop Kid , a New York City swindler,...</td>\n",
              "      <td>[the, lemon, drop, kid, new, york, city, swind...</td>\n",
              "      <td>0.000250</td>\n",
              "      <td>0.000250</td>\n",
              "      <td>0.077156</td>\n",
              "      <td>0.321231</td>\n",
              "      <td>0.220866</td>\n",
              "      <td>0.000250</td>\n",
              "      <td>0.000250</td>\n",
              "      <td>0.299791</td>\n",
              "      <td>0.000250</td>\n",
              "      <td>0.079707</td>\n",
              "    </tr>\n",
              "    <tr>\n",
              "      <th>4</th>\n",
              "      <td>595909</td>\n",
              "      <td>Seventh-day Adventist Church pastor Michael Ch...</td>\n",
              "      <td>[adventist, church, pastor, michael, chamberla...</td>\n",
              "      <td>0.000589</td>\n",
              "      <td>0.000589</td>\n",
              "      <td>0.278198</td>\n",
              "      <td>0.313662</td>\n",
              "      <td>0.146118</td>\n",
              "      <td>0.224911</td>\n",
              "      <td>0.000589</td>\n",
              "      <td>0.000589</td>\n",
              "      <td>0.000589</td>\n",
              "      <td>0.034164</td>\n",
              "    </tr>\n",
              "    <tr>\n",
              "      <th>5</th>\n",
              "      <td>5272176</td>\n",
              "      <td>The president is on his way to give a speech. ...</td>\n",
              "      <td>[the, president, way, give, speech, while, tra...</td>\n",
              "      <td>0.128750</td>\n",
              "      <td>0.000532</td>\n",
              "      <td>0.478746</td>\n",
              "      <td>0.309156</td>\n",
              "      <td>0.000532</td>\n",
              "      <td>0.000532</td>\n",
              "      <td>0.025526</td>\n",
              "      <td>0.055161</td>\n",
              "      <td>0.000532</td>\n",
              "      <td>0.000532</td>\n",
              "    </tr>\n",
              "    <tr>\n",
              "      <th>6</th>\n",
              "      <td>1952976</td>\n",
              "      <td>{{plot}} The film opens in 1974, as a young gi...</td>\n",
              "      <td>[plot, the, film, opens, young, girl, dahlia, ...</td>\n",
              "      <td>0.056838</td>\n",
              "      <td>0.035302</td>\n",
              "      <td>0.503416</td>\n",
              "      <td>0.000288</td>\n",
              "      <td>0.298671</td>\n",
              "      <td>0.000288</td>\n",
              "      <td>0.104334</td>\n",
              "      <td>0.000288</td>\n",
              "      <td>0.000288</td>\n",
              "      <td>0.000288</td>\n",
              "    </tr>\n",
              "  </tbody>\n",
              "</table>\n",
              "</div>\n",
              "    <div class=\"colab-df-buttons\">\n",
              "\n",
              "  <div class=\"colab-df-container\">\n",
              "    <button class=\"colab-df-convert\" onclick=\"convertToInteractive('df-8b21c461-c4af-4905-95eb-7c846753c77d')\"\n",
              "            title=\"Convert this dataframe to an interactive table.\"\n",
              "            style=\"display:none;\">\n",
              "\n",
              "  <svg xmlns=\"http://www.w3.org/2000/svg\" height=\"24px\" viewBox=\"0 -960 960 960\">\n",
              "    <path d=\"M120-120v-720h720v720H120Zm60-500h600v-160H180v160Zm220 220h160v-160H400v160Zm0 220h160v-160H400v160ZM180-400h160v-160H180v160Zm440 0h160v-160H620v160ZM180-180h160v-160H180v160Zm440 0h160v-160H620v160Z\"/>\n",
              "  </svg>\n",
              "    </button>\n",
              "\n",
              "  <style>\n",
              "    .colab-df-container {\n",
              "      display:flex;\n",
              "      gap: 12px;\n",
              "    }\n",
              "\n",
              "    .colab-df-convert {\n",
              "      background-color: #E8F0FE;\n",
              "      border: none;\n",
              "      border-radius: 50%;\n",
              "      cursor: pointer;\n",
              "      display: none;\n",
              "      fill: #1967D2;\n",
              "      height: 32px;\n",
              "      padding: 0 0 0 0;\n",
              "      width: 32px;\n",
              "    }\n",
              "\n",
              "    .colab-df-convert:hover {\n",
              "      background-color: #E2EBFA;\n",
              "      box-shadow: 0px 1px 2px rgba(60, 64, 67, 0.3), 0px 1px 3px 1px rgba(60, 64, 67, 0.15);\n",
              "      fill: #174EA6;\n",
              "    }\n",
              "\n",
              "    .colab-df-buttons div {\n",
              "      margin-bottom: 4px;\n",
              "    }\n",
              "\n",
              "    [theme=dark] .colab-df-convert {\n",
              "      background-color: #3B4455;\n",
              "      fill: #D2E3FC;\n",
              "    }\n",
              "\n",
              "    [theme=dark] .colab-df-convert:hover {\n",
              "      background-color: #434B5C;\n",
              "      box-shadow: 0px 1px 3px 1px rgba(0, 0, 0, 0.15);\n",
              "      filter: drop-shadow(0px 1px 2px rgba(0, 0, 0, 0.3));\n",
              "      fill: #FFFFFF;\n",
              "    }\n",
              "  </style>\n",
              "\n",
              "    <script>\n",
              "      const buttonEl =\n",
              "        document.querySelector('#df-8b21c461-c4af-4905-95eb-7c846753c77d button.colab-df-convert');\n",
              "      buttonEl.style.display =\n",
              "        google.colab.kernel.accessAllowed ? 'block' : 'none';\n",
              "\n",
              "      async function convertToInteractive(key) {\n",
              "        const element = document.querySelector('#df-8b21c461-c4af-4905-95eb-7c846753c77d');\n",
              "        const dataTable =\n",
              "          await google.colab.kernel.invokeFunction('convertToInteractive',\n",
              "                                                    [key], {});\n",
              "        if (!dataTable) return;\n",
              "\n",
              "        const docLinkHtml = 'Like what you see? Visit the ' +\n",
              "          '<a target=\"_blank\" href=https://colab.research.google.com/notebooks/data_table.ipynb>data table notebook</a>'\n",
              "          + ' to learn more about interactive tables.';\n",
              "        element.innerHTML = '';\n",
              "        dataTable['output_type'] = 'display_data';\n",
              "        await google.colab.output.renderOutput(dataTable, element);\n",
              "        const docLink = document.createElement('div');\n",
              "        docLink.innerHTML = docLinkHtml;\n",
              "        element.appendChild(docLink);\n",
              "      }\n",
              "    </script>\n",
              "  </div>\n",
              "\n",
              "\n",
              "<div id=\"df-bd852ab0-454d-47c1-a104-1498f2ec67be\">\n",
              "  <button class=\"colab-df-quickchart\" onclick=\"quickchart('df-bd852ab0-454d-47c1-a104-1498f2ec67be')\"\n",
              "            title=\"Suggest charts.\"\n",
              "            style=\"display:none;\">\n",
              "\n",
              "<svg xmlns=\"http://www.w3.org/2000/svg\" height=\"24px\"viewBox=\"0 0 24 24\"\n",
              "     width=\"24px\">\n",
              "    <g>\n",
              "        <path d=\"M19 3H5c-1.1 0-2 .9-2 2v14c0 1.1.9 2 2 2h14c1.1 0 2-.9 2-2V5c0-1.1-.9-2-2-2zM9 17H7v-7h2v7zm4 0h-2V7h2v10zm4 0h-2v-4h2v4z\"/>\n",
              "    </g>\n",
              "</svg>\n",
              "  </button>\n",
              "\n",
              "<style>\n",
              "  .colab-df-quickchart {\n",
              "      --bg-color: #E8F0FE;\n",
              "      --fill-color: #1967D2;\n",
              "      --hover-bg-color: #E2EBFA;\n",
              "      --hover-fill-color: #174EA6;\n",
              "      --disabled-fill-color: #AAA;\n",
              "      --disabled-bg-color: #DDD;\n",
              "  }\n",
              "\n",
              "  [theme=dark] .colab-df-quickchart {\n",
              "      --bg-color: #3B4455;\n",
              "      --fill-color: #D2E3FC;\n",
              "      --hover-bg-color: #434B5C;\n",
              "      --hover-fill-color: #FFFFFF;\n",
              "      --disabled-bg-color: #3B4455;\n",
              "      --disabled-fill-color: #666;\n",
              "  }\n",
              "\n",
              "  .colab-df-quickchart {\n",
              "    background-color: var(--bg-color);\n",
              "    border: none;\n",
              "    border-radius: 50%;\n",
              "    cursor: pointer;\n",
              "    display: none;\n",
              "    fill: var(--fill-color);\n",
              "    height: 32px;\n",
              "    padding: 0;\n",
              "    width: 32px;\n",
              "  }\n",
              "\n",
              "  .colab-df-quickchart:hover {\n",
              "    background-color: var(--hover-bg-color);\n",
              "    box-shadow: 0 1px 2px rgba(60, 64, 67, 0.3), 0 1px 3px 1px rgba(60, 64, 67, 0.15);\n",
              "    fill: var(--button-hover-fill-color);\n",
              "  }\n",
              "\n",
              "  .colab-df-quickchart-complete:disabled,\n",
              "  .colab-df-quickchart-complete:disabled:hover {\n",
              "    background-color: var(--disabled-bg-color);\n",
              "    fill: var(--disabled-fill-color);\n",
              "    box-shadow: none;\n",
              "  }\n",
              "\n",
              "  .colab-df-spinner {\n",
              "    border: 2px solid var(--fill-color);\n",
              "    border-color: transparent;\n",
              "    border-bottom-color: var(--fill-color);\n",
              "    animation:\n",
              "      spin 1s steps(1) infinite;\n",
              "  }\n",
              "\n",
              "  @keyframes spin {\n",
              "    0% {\n",
              "      border-color: transparent;\n",
              "      border-bottom-color: var(--fill-color);\n",
              "      border-left-color: var(--fill-color);\n",
              "    }\n",
              "    20% {\n",
              "      border-color: transparent;\n",
              "      border-left-color: var(--fill-color);\n",
              "      border-top-color: var(--fill-color);\n",
              "    }\n",
              "    30% {\n",
              "      border-color: transparent;\n",
              "      border-left-color: var(--fill-color);\n",
              "      border-top-color: var(--fill-color);\n",
              "      border-right-color: var(--fill-color);\n",
              "    }\n",
              "    40% {\n",
              "      border-color: transparent;\n",
              "      border-right-color: var(--fill-color);\n",
              "      border-top-color: var(--fill-color);\n",
              "    }\n",
              "    60% {\n",
              "      border-color: transparent;\n",
              "      border-right-color: var(--fill-color);\n",
              "    }\n",
              "    80% {\n",
              "      border-color: transparent;\n",
              "      border-right-color: var(--fill-color);\n",
              "      border-bottom-color: var(--fill-color);\n",
              "    }\n",
              "    90% {\n",
              "      border-color: transparent;\n",
              "      border-bottom-color: var(--fill-color);\n",
              "    }\n",
              "  }\n",
              "</style>\n",
              "\n",
              "  <script>\n",
              "    async function quickchart(key) {\n",
              "      const quickchartButtonEl =\n",
              "        document.querySelector('#' + key + ' button');\n",
              "      quickchartButtonEl.disabled = true;  // To prevent multiple clicks.\n",
              "      quickchartButtonEl.classList.add('colab-df-spinner');\n",
              "      try {\n",
              "        const charts = await google.colab.kernel.invokeFunction(\n",
              "            'suggestCharts', [key], {});\n",
              "      } catch (error) {\n",
              "        console.error('Error during call to suggestCharts:', error);\n",
              "      }\n",
              "      quickchartButtonEl.classList.remove('colab-df-spinner');\n",
              "      quickchartButtonEl.classList.add('colab-df-quickchart-complete');\n",
              "    }\n",
              "    (() => {\n",
              "      let quickchartButtonEl =\n",
              "        document.querySelector('#df-bd852ab0-454d-47c1-a104-1498f2ec67be button');\n",
              "      quickchartButtonEl.style.display =\n",
              "        google.colab.kernel.accessAllowed ? 'block' : 'none';\n",
              "    })();\n",
              "  </script>\n",
              "</div>\n",
              "    </div>\n",
              "  </div>\n"
            ]
          },
          "metadata": {},
          "execution_count": 19
        }
      ]
    },
    {
      "cell_type": "markdown",
      "source": [
        "**Your turn!** Now let's find the correlation between the topics. We can do this by calculating the cosine distance between each pair of topics using the code from problem set 1 or you can use [this scikit-learn method](https://scikit-learn.org/stable/modules/generated/sklearn.metrics.pairwise_distances.html). Notice that every topic is a vectory of probabilities over words.\n",
        "\n",
        "Give 3 topic pairs with the strongest correlation and 3 topic pairs with the weakest correlation? [0.5 points]"
      ],
      "metadata": {
        "id": "lI5higYgAlqJ"
      }
    },
    {
      "cell_type": "code",
      "source": [
        "# Your code here to calculate the cosine distances\n",
        "from sklearn.metrics.pairwise import cosine_distances\n",
        "\n",
        "tops = df.iloc[:,3:]\n",
        "distance = cosine_distances(tops.T)\n",
        "\n",
        "unique_distances = distance[np.triu_indices(distance.shape[0], k=1)]\n",
        "sorted_distances = np.sort(unique_distances)\n",
        "\n",
        "highest_three = sorted_distances[-3:][::-1]\n",
        "lowest_three = sorted_distances[:3]\n",
        "print(f\"Highest three cosine distances: {highest_three}\")\n",
        "print(f\"Lowest three cosine distances: {lowest_three}\")"
      ],
      "metadata": {
        "id": "xfVIJd6soTi9",
        "colab": {
          "base_uri": "https://localhost:8080/"
        },
        "outputId": "299da50e-3cf2-4216-de16-48273cdede25"
      },
      "execution_count": 20,
      "outputs": [
        {
          "output_type": "stream",
          "name": "stdout",
          "text": [
            "Highest three cosine distances: [0.93687812 0.92098632 0.91822225]\n",
            "Lowest three cosine distances: [0.72112445 0.74413028 0.74635489]\n"
          ]
        }
      ]
    },
    {
      "cell_type": "code",
      "source": [
        "import seaborn as sns\n",
        "distance_df = pd.DataFrame(distance,\n",
        "                          index=df.columns[3:],\n",
        "                          columns=df.columns[3:])\n",
        "\n",
        "# Create the heatmap\n",
        "sns.heatmap(distance_df, annot=True, fmt=\".2f\", cmap='coolwarm')\n",
        "\n",
        "# Set titles and labels\n",
        "plt.title('Cosine Distances between Features')\n",
        "plt.xlabel('Features')\n",
        "plt.ylabel('Features')\n",
        "\n",
        "# Show the plot\n",
        "plt.show()\n"
      ],
      "metadata": {
        "id": "P9J8RmBQpxBe",
        "colab": {
          "base_uri": "https://localhost:8080/",
          "height": 508
        },
        "outputId": "9f1bc49f-a994-4567-bdee-64e3a8408ac6"
      },
      "execution_count": 21,
      "outputs": [
        {
          "output_type": "display_data",
          "data": {
            "text/plain": [
              "<Figure size 640x480 with 2 Axes>"
            ],
            "image/png": "[encoded data removed]"
          },
          "metadata": {}
        }
      ]
    },
    {
      "cell_type": "markdown",
      "source": [
        "**Your turn!** Find the distribution of topics over time. Following are the steps that you want to follow, which you'll implement in each cell below [0.5 points]"
      ],
      "metadata": {
        "id": "c_y5EdYd1Nu7"
      }
    },
    {
      "cell_type": "markdown",
      "source": [
        "We have the release date for each movie in the `release_date` column of the metadata frame.  We want to first filter the dataframe to exclude any missing values (NaN)"
      ],
      "metadata": {
        "id": "xhzwMslaf-vT"
      }
    },
    {
      "cell_type": "code",
      "source": [
        "# Step 1 filter the metadata (Your code below)\n",
        "metadata_filtered = metadata.dropna()"
      ],
      "metadata": {
        "id": "88NN_M8MgvAc"
      },
      "execution_count": 26,
      "outputs": []
    },
    {
      "cell_type": "markdown",
      "source": [
        "- Next, you'll create two new columns for the year of release and decade of the release. Note that the release date is either the year directly or the full date string."
      ],
      "metadata": {
        "id": "vWWXJF4-JZDw"
      }
    },
    {
      "cell_type": "code",
      "source": [
        "def extract_year (pub_date):\n",
        "  \"\"\" Extract the year from the publication date string\n",
        "  :params:\n",
        "  pub_date (str): The publication date as a string\n",
        "\n",
        "  :returns:\n",
        "  year (int): The release year of the movie\n",
        "  \"\"\"\n",
        "  if isinstance(pub_date, str) and len(pub_date) >= 4:\n",
        "      pub_date = pub_date.strip()\n",
        "      year = pub_date[:4]\n",
        "      if year.isdigit():\n",
        "        return int(year)\n",
        "\n",
        "\n",
        "def get_decade (year):\n",
        "  \"\"\" Convert the year into the decade i.e 2017 --> 2010; 1992 -->1990\n",
        "\n",
        "  :params:\n",
        "  year (int): The year of release\n",
        "\n",
        "  :returns:\n",
        "  decade (int): The decade of the release\n",
        "  \"\"\"\n",
        "\n",
        "  if year:\n",
        "        return (year // 10) * 10\n",
        "\n",
        "new_metadata = metadata_filtered\n",
        "\n",
        "# Step 2 add the two columns\n",
        "new_metadata[\"year\"] = new_metadata[\"release_date\"].apply (lambda x: extract_year (x))\n",
        "new_metadata[\"decade\"] = new_metadata[\"year\"].apply (lambda x: get_decade (x))"
      ],
      "metadata": {
        "id": "Ev5zKGON2Lq6",
        "colab": {
          "base_uri": "https://localhost:8080/"
        },
        "outputId": "ddf7976e-a243-4184-b96f-1792a6746ec3"
      },
      "execution_count": 52,
      "outputs": [
        {
          "output_type": "stream",
          "name": "stderr",
          "text": [
            "<ipython-input-52-f4b2a519c04b>:32: SettingWithCopyWarning: \n",
            "A value is trying to be set on a copy of a slice from a DataFrame.\n",
            "Try using .loc[row_indexer,col_indexer] = value instead\n",
            "\n",
            "See the caveats in the documentation: https://pandas.pydata.org/pandas-docs/stable/user_guide/indexing.html#returning-a-view-versus-a-copy\n",
            "  new_metadata[\"year\"] = new_metadata[\"release_date\"].apply (lambda x: extract_year (x))\n",
            "<ipython-input-52-f4b2a519c04b>:33: SettingWithCopyWarning: \n",
            "A value is trying to be set on a copy of a slice from a DataFrame.\n",
            "Try using .loc[row_indexer,col_indexer] = value instead\n",
            "\n",
            "See the caveats in the documentation: https://pandas.pydata.org/pandas-docs/stable/user_guide/indexing.html#returning-a-view-versus-a-copy\n",
            "  new_metadata[\"decade\"] = new_metadata[\"year\"].apply (lambda x: get_decade (x))\n"
          ]
        }
      ]
    },
    {
      "cell_type": "markdown",
      "source": [
        "- Now join the dataframes that contain the text and the topics with the metadata by matching the field `wiki_id` from both the dataframes."
      ],
      "metadata": {
        "id": "sKzvSd4HkRbv"
      }
    },
    {
      "cell_type": "code",
      "source": [
        "# Step 3 Join the two dataframes on the common column (Your code below)\n",
        "merged_dataframe = pd.merge(df, new_metadata,\n",
        "                            how='inner',\n",
        "                            on='wiki_id')\n",
        "\n",
        "merged_dataframe\n"
      ],
      "metadata": {
        "id": "0BgSOo8DiwCo",
        "colab": {
          "base_uri": "https://localhost:8080/",
          "height": 597
        },
        "outputId": "a93c89ad-d8b0-46ac-c426-3be765072c8e"
      },
      "execution_count": 28,
      "outputs": [
        {
          "output_type": "execute_result",
          "data": {
            "text/plain": [
              "       wiki_id                                            summary  \\\n",
              "0     31186339  The nation of Panem consists of a wealthy Capi...   \n",
              "1      2231378  The Lemon Drop Kid , a New York City swindler,...   \n",
              "2       595909  Seventh-day Adventist Church pastor Michael Ch...   \n",
              "3      1952976  {{plot}} The film opens in 1974, as a young gi...   \n",
              "4     24225279  The story begins with Hannah, a young Jewish t...   \n",
              "...        ...                                                ...   \n",
              "7458  13348400  Jennie Lee  is the lead singer of an all-girl ...   \n",
              "7459  24005728  Jo Pil-seong is an idle detective who spends h...   \n",
              "7460    277160  Virginia \"Gin\" Baker  is an investigator for W...   \n",
              "7461    677389  Dr. Sullivan Travis   is a wealthy Dallas gyne...   \n",
              "7462  30352708  Twenty-something Eun-mo listens to a taxi driv...   \n",
              "\n",
              "                                                 tokens   topic_0   topic_1  \\\n",
              "0     [the, nation, panem, consists, wealthy, capito...  0.000295  0.244372   \n",
              "1     [the, lemon, drop, kid, new, york, city, swind...  0.000250  0.000250   \n",
              "2     [adventist, church, pastor, michael, chamberla...  0.000589  0.000589   \n",
              "3     [plot, the, film, opens, young, girl, dahlia, ...  0.056838  0.035302   \n",
              "4     [the, story, begins, hannah, young, jewish, te...  0.000343  0.000343   \n",
              "...                                                 ...       ...       ...   \n",
              "7458  [jennie, lee, lead, singer, rock, band, named,...  0.595174  0.000308   \n",
              "7459  [jo, idle, detective, spends, time, scratching...  0.000378  0.173320   \n",
              "7460  [virginia, gin, baker, investigator, waverly, ...  0.000470  0.082775   \n",
              "7461  [sullivan, travis, wealthy, dallas, gynecologi...  0.001820  0.001820   \n",
              "7462  [listens, taxi, driver, drone, rides, foggy, h...  0.001032  0.001032   \n",
              "\n",
              "       topic_2   topic_3   topic_4   topic_5   topic_6  ...  freebase_id  \\\n",
              "0     0.241556  0.080722  0.068229  0.178712  0.008861  ...   /m/0gkz15s   \n",
              "1     0.077156  0.321231  0.220866  0.000250  0.000250  ...    /m/06xtz3   \n",
              "2     0.278198  0.313662  0.146118  0.224911  0.000589  ...    /m/02tqm5   \n",
              "3     0.503416  0.000288  0.298671  0.000288  0.104334  ...    /m/068jvg   \n",
              "4     0.059487  0.061347  0.293568  0.101172  0.289687  ...   /m/07kbs3s   \n",
              "...        ...       ...       ...       ...       ...  ...          ...   \n",
              "7458  0.000308  0.037434  0.266309  0.000308  0.033118  ...   /m/03c2h8h   \n",
              "7459  0.476826  0.091504  0.000378  0.000378  0.114903  ...   /m/07k86_5   \n",
              "7460  0.309722  0.300939  0.000470  0.000470  0.000470  ...    /m/01pgrh   \n",
              "7461  0.001820  0.148702  0.748145  0.001820  0.001820  ...    /m/0323y3   \n",
              "7462  0.253663  0.001033  0.001033  0.558457  0.001033  ...   /m/0bbb_nv   \n",
              "\n",
              "                    name  release_date      revenue runtime  \\\n",
              "0       The Hunger Games    2012-03-12  686533290.0   142.0   \n",
              "1     The Lemon Drop Kid    1951-03-08    2300000.0    91.0   \n",
              "2      A Cry in the Dark    1988-11-03    6908797.0   121.0   \n",
              "3             Dark Water    2005-06-27   49483352.0   105.0   \n",
              "4                   Sing          1989    2260616.0    98.0   \n",
              "...                  ...           ...          ...     ...   \n",
              "7458        Satisfaction    1988-02-12    8253123.0    92.0   \n",
              "7459      Running Turtle    2009-06-11   16823955.0   117.0   \n",
              "7460          Entrapment    1999-04-30  212404396.0   113.0   \n",
              "7461   Dr. T & the Women    2000-09-12   22844291.0   118.0   \n",
              "7462                Paju    2009-10-10     818676.0   111.0   \n",
              "\n",
              "                                              languages  \\\n",
              "0                    {\"/m/02h40lc\": \"English Language\"}   \n",
              "1                    {\"/m/02h40lc\": \"English Language\"}   \n",
              "2                    {\"/m/02h40lc\": \"English Language\"}   \n",
              "3                    {\"/m/02h40lc\": \"English Language\"}   \n",
              "4                    {\"/m/02h40lc\": \"English Language\"}   \n",
              "...                                                 ...   \n",
              "7458                 {\"/m/02h40lc\": \"English Language\"}   \n",
              "7459                                                 {}   \n",
              "7460                 {\"/m/02h40lc\": \"English Language\"}   \n",
              "7461  {\"/m/02h40lc\": \"English Language\", \"/m/04306rv...   \n",
              "7462                  {\"/m/02hwhyv\": \"Korean Language\"}   \n",
              "\n",
              "                                              countries  \\\n",
              "0             {\"/m/09c7w0\": \"United States of America\"}   \n",
              "1             {\"/m/09c7w0\": \"United States of America\"}   \n",
              "2     {\"/m/09c7w0\": \"United States of America\", \"/m/...   \n",
              "3             {\"/m/09c7w0\": \"United States of America\"}   \n",
              "4             {\"/m/09c7w0\": \"United States of America\"}   \n",
              "...                                                 ...   \n",
              "7458          {\"/m/09c7w0\": \"United States of America\"}   \n",
              "7459                        {\"/m/06qd3\": \"South Korea\"}   \n",
              "7460  {\"/m/09c7w0\": \"United States of America\", \"/m/...   \n",
              "7461  {\"/m/09c7w0\": \"United States of America\", \"/m/...   \n",
              "7462                        {\"/m/06qd3\": \"South Korea\"}   \n",
              "\n",
              "                                                 genres  year decade  \n",
              "0     {\"/m/03btsm8\": \"Action/Adventure\", \"/m/06n90\":...  2012   2010  \n",
              "1     {\"/m/06qm3\": \"Screwball comedy\", \"/m/01z4y\": \"...  1951   1950  \n",
              "2     {\"/m/0lsxr\": \"Crime Fiction\", \"/m/07s9rl0\": \"D...  1988   1980  \n",
              "3     {\"/m/01jfsb\": \"Thriller\", \"/m/07s9rl0\": \"Drama...  2005   2000  \n",
              "4          {\"/m/07s9rl0\": \"Drama\", \"/m/02b5_l\": \"Teen\"}  1989   1980  \n",
              "...                                                 ...   ...    ...  \n",
              "7458      {\"/m/07s9rl0\": \"Drama\", \"/m/01z4y\": \"Comedy\"}  1988   1980  \n",
              "7459  {\"/m/01jfsb\": \"Thriller\", \"/m/0cq22f9\": \"Actio...  2009   2000  \n",
              "7460  {\"/m/03btsm8\": \"Action/Adventure\", \"/m/02wtdps...  1999   1990  \n",
              "7461  {\"/m/06cvj\": \"Romantic comedy\", \"/m/0hj3n0w\": ...  2000   2000  \n",
              "7462  {\"/m/068d7h\": \"Romantic drama\", \"/m/02l7c8\": \"...  2009   2000  \n",
              "\n",
              "[7463 rows x 23 columns]"
            ],
            "text/html": [
              "\n",
              "  <div id=\"df-5a2b420b-9940-4cbb-b08d-e303af1f4261\" class=\"colab-df-container\">\n",
              "    <div>\n",
              "<style scoped>\n",
              "    .dataframe tbody tr th:only-of-type {\n",
              "        vertical-align: middle;\n",
              "    }\n",
              "\n",
              "    .dataframe tbody tr th {\n",
              "        vertical-align: top;\n",
              "    }\n",
              "\n",
              "    .dataframe thead th {\n",
              "        text-align: right;\n",
              "    }\n",
              "</style>\n",
              "<table border=\"1\" class=\"dataframe\">\n",
              "  <thead>\n",
              "    <tr style=\"text-align: right;\">\n",
              "      <th></th>\n",
              "      <th>wiki_id</th>\n",
              "      <th>summary</th>\n",
              "      <th>tokens</th>\n",
              "      <th>topic_0</th>\n",
              "      <th>topic_1</th>\n",
              "      <th>topic_2</th>\n",
              "      <th>topic_3</th>\n",
              "      <th>topic_4</th>\n",
              "      <th>topic_5</th>\n",
              "      <th>topic_6</th>\n",
              "      <th>...</th>\n",
              "      <th>freebase_id</th>\n",
              "      <th>name</th>\n",
              "      <th>release_date</th>\n",
              "      <th>revenue</th>\n",
              "      <th>runtime</th>\n",
              "      <th>languages</th>\n",
              "      <th>countries</th>\n",
              "      <th>genres</th>\n",
              "      <th>year</th>\n",
              "      <th>decade</th>\n",
              "    </tr>\n",
              "  </thead>\n",
              "  <tbody>\n",
              "    <tr>\n",
              "      <th>0</th>\n",
              "      <td>31186339</td>\n",
              "      <td>The nation of Panem consists of a wealthy Capi...</td>\n",
              "      <td>[the, nation, panem, consists, wealthy, capito...</td>\n",
              "      <td>0.000295</td>\n",
              "      <td>0.244372</td>\n",
              "      <td>0.241556</td>\n",
              "      <td>0.080722</td>\n",
              "      <td>0.068229</td>\n",
              "      <td>0.178712</td>\n",
              "      <td>0.008861</td>\n",
              "      <td>...</td>\n",
              "      <td>/m/0gkz15s</td>\n",
              "      <td>The Hunger Games</td>\n",
              "      <td>2012-03-12</td>\n",
              "      <td>686533290.0</td>\n",
              "      <td>142.0</td>\n",
              "      <td>{\"/m/02h40lc\": \"English Language\"}</td>\n",
              "      <td>{\"/m/09c7w0\": \"United States of America\"}</td>\n",
              "      <td>{\"/m/03btsm8\": \"Action/Adventure\", \"/m/06n90\":...</td>\n",
              "      <td>2012</td>\n",
              "      <td>2010</td>\n",
              "    </tr>\n",
              "    <tr>\n",
              "      <th>1</th>\n",
              "      <td>2231378</td>\n",
              "      <td>The Lemon Drop Kid , a New York City swindler,...</td>\n",
              "      <td>[the, lemon, drop, kid, new, york, city, swind...</td>\n",
              "      <td>0.000250</td>\n",
              "      <td>0.000250</td>\n",
              "      <td>0.077156</td>\n",
              "      <td>0.321231</td>\n",
              "      <td>0.220866</td>\n",
              "      <td>0.000250</td>\n",
              "      <td>0.000250</td>\n",
              "      <td>...</td>\n",
              "      <td>/m/06xtz3</td>\n",
              "      <td>The Lemon Drop Kid</td>\n",
              "      <td>1951-03-08</td>\n",
              "      <td>2300000.0</td>\n",
              "      <td>91.0</td>\n",
              "      <td>{\"/m/02h40lc\": \"English Language\"}</td>\n",
              "      <td>{\"/m/09c7w0\": \"United States of America\"}</td>\n",
              "      <td>{\"/m/06qm3\": \"Screwball comedy\", \"/m/01z4y\": \"...</td>\n",
              "      <td>1951</td>\n",
              "      <td>1950</td>\n",
              "    </tr>\n",
              "    <tr>\n",
              "      <th>2</th>\n",
              "      <td>595909</td>\n",
              "      <td>Seventh-day Adventist Church pastor Michael Ch...</td>\n",
              "      <td>[adventist, church, pastor, michael, chamberla...</td>\n",
              "      <td>0.000589</td>\n",
              "      <td>0.000589</td>\n",
              "      <td>0.278198</td>\n",
              "      <td>0.313662</td>\n",
              "      <td>0.146118</td>\n",
              "      <td>0.224911</td>\n",
              "      <td>0.000589</td>\n",
              "      <td>...</td>\n",
              "      <td>/m/02tqm5</td>\n",
              "      <td>A Cry in the Dark</td>\n",
              "      <td>1988-11-03</td>\n",
              "      <td>6908797.0</td>\n",
              "      <td>121.0</td>\n",
              "      <td>{\"/m/02h40lc\": \"English Language\"}</td>\n",
              "      <td>{\"/m/09c7w0\": \"United States of America\", \"/m/...</td>\n",
              "      <td>{\"/m/0lsxr\": \"Crime Fiction\", \"/m/07s9rl0\": \"D...</td>\n",
              "      <td>1988</td>\n",
              "      <td>1980</td>\n",
              "    </tr>\n",
              "    <tr>\n",
              "      <th>3</th>\n",
              "      <td>1952976</td>\n",
              "      <td>{{plot}} The film opens in 1974, as a young gi...</td>\n",
              "      <td>[plot, the, film, opens, young, girl, dahlia, ...</td>\n",
              "      <td>0.056838</td>\n",
              "      <td>0.035302</td>\n",
              "      <td>0.503416</td>\n",
              "      <td>0.000288</td>\n",
              "      <td>0.298671</td>\n",
              "      <td>0.000288</td>\n",
              "      <td>0.104334</td>\n",
              "      <td>...</td>\n",
              "      <td>/m/068jvg</td>\n",
              "      <td>Dark Water</td>\n",
              "      <td>2005-06-27</td>\n",
              "      <td>49483352.0</td>\n",
              "      <td>105.0</td>\n",
              "      <td>{\"/m/02h40lc\": \"English Language\"}</td>\n",
              "      <td>{\"/m/09c7w0\": \"United States of America\"}</td>\n",
              "      <td>{\"/m/01jfsb\": \"Thriller\", \"/m/07s9rl0\": \"Drama...</td>\n",
              "      <td>2005</td>\n",
              "      <td>2000</td>\n",
              "    </tr>\n",
              "    <tr>\n",
              "      <th>4</th>\n",
              "      <td>24225279</td>\n",
              "      <td>The story begins with Hannah, a young Jewish t...</td>\n",
              "      <td>[the, story, begins, hannah, young, jewish, te...</td>\n",
              "      <td>0.000343</td>\n",
              "      <td>0.000343</td>\n",
              "      <td>0.059487</td>\n",
              "      <td>0.061347</td>\n",
              "      <td>0.293568</td>\n",
              "      <td>0.101172</td>\n",
              "      <td>0.289687</td>\n",
              "      <td>...</td>\n",
              "      <td>/m/07kbs3s</td>\n",
              "      <td>Sing</td>\n",
              "      <td>1989</td>\n",
              "      <td>2260616.0</td>\n",
              "      <td>98.0</td>\n",
              "      <td>{\"/m/02h40lc\": \"English Language\"}</td>\n",
              "      <td>{\"/m/09c7w0\": \"United States of America\"}</td>\n",
              "      <td>{\"/m/07s9rl0\": \"Drama\", \"/m/02b5_l\": \"Teen\"}</td>\n",
              "      <td>1989</td>\n",
              "      <td>1980</td>\n",
              "    </tr>\n",
              "    <tr>\n",
              "      <th>...</th>\n",
              "      <td>...</td>\n",
              "      <td>...</td>\n",
              "      <td>...</td>\n",
              "      <td>...</td>\n",
              "      <td>...</td>\n",
              "      <td>...</td>\n",
              "      <td>...</td>\n",
              "      <td>...</td>\n",
              "      <td>...</td>\n",
              "      <td>...</td>\n",
              "      <td>...</td>\n",
              "      <td>...</td>\n",
              "      <td>...</td>\n",
              "      <td>...</td>\n",
              "      <td>...</td>\n",
              "      <td>...</td>\n",
              "      <td>...</td>\n",
              "      <td>...</td>\n",
              "      <td>...</td>\n",
              "      <td>...</td>\n",
              "      <td>...</td>\n",
              "    </tr>\n",
              "    <tr>\n",
              "      <th>7458</th>\n",
              "      <td>13348400</td>\n",
              "      <td>Jennie Lee  is the lead singer of an all-girl ...</td>\n",
              "      <td>[jennie, lee, lead, singer, rock, band, named,...</td>\n",
              "      <td>0.595174</td>\n",
              "      <td>0.000308</td>\n",
              "      <td>0.000308</td>\n",
              "      <td>0.037434</td>\n",
              "      <td>0.266309</td>\n",
              "      <td>0.000308</td>\n",
              "      <td>0.033118</td>\n",
              "      <td>...</td>\n",
              "      <td>/m/03c2h8h</td>\n",
              "      <td>Satisfaction</td>\n",
              "      <td>1988-02-12</td>\n",
              "      <td>8253123.0</td>\n",
              "      <td>92.0</td>\n",
              "      <td>{\"/m/02h40lc\": \"English Language\"}</td>\n",
              "      <td>{\"/m/09c7w0\": \"United States of America\"}</td>\n",
              "      <td>{\"/m/07s9rl0\": \"Drama\", \"/m/01z4y\": \"Comedy\"}</td>\n",
              "      <td>1988</td>\n",
              "      <td>1980</td>\n",
              "    </tr>\n",
              "    <tr>\n",
              "      <th>7459</th>\n",
              "      <td>24005728</td>\n",
              "      <td>Jo Pil-seong is an idle detective who spends h...</td>\n",
              "      <td>[jo, idle, detective, spends, time, scratching...</td>\n",
              "      <td>0.000378</td>\n",
              "      <td>0.173320</td>\n",
              "      <td>0.476826</td>\n",
              "      <td>0.091504</td>\n",
              "      <td>0.000378</td>\n",
              "      <td>0.000378</td>\n",
              "      <td>0.114903</td>\n",
              "      <td>...</td>\n",
              "      <td>/m/07k86_5</td>\n",
              "      <td>Running Turtle</td>\n",
              "      <td>2009-06-11</td>\n",
              "      <td>16823955.0</td>\n",
              "      <td>117.0</td>\n",
              "      <td>{}</td>\n",
              "      <td>{\"/m/06qd3\": \"South Korea\"}</td>\n",
              "      <td>{\"/m/01jfsb\": \"Thriller\", \"/m/0cq22f9\": \"Actio...</td>\n",
              "      <td>2009</td>\n",
              "      <td>2000</td>\n",
              "    </tr>\n",
              "    <tr>\n",
              "      <th>7460</th>\n",
              "      <td>277160</td>\n",
              "      <td>Virginia \"Gin\" Baker  is an investigator for W...</td>\n",
              "      <td>[virginia, gin, baker, investigator, waverly, ...</td>\n",
              "      <td>0.000470</td>\n",
              "      <td>0.082775</td>\n",
              "      <td>0.309722</td>\n",
              "      <td>0.300939</td>\n",
              "      <td>0.000470</td>\n",
              "      <td>0.000470</td>\n",
              "      <td>0.000470</td>\n",
              "      <td>...</td>\n",
              "      <td>/m/01pgrh</td>\n",
              "      <td>Entrapment</td>\n",
              "      <td>1999-04-30</td>\n",
              "      <td>212404396.0</td>\n",
              "      <td>113.0</td>\n",
              "      <td>{\"/m/02h40lc\": \"English Language\"}</td>\n",
              "      <td>{\"/m/09c7w0\": \"United States of America\", \"/m/...</td>\n",
              "      <td>{\"/m/03btsm8\": \"Action/Adventure\", \"/m/02wtdps...</td>\n",
              "      <td>1999</td>\n",
              "      <td>1990</td>\n",
              "    </tr>\n",
              "    <tr>\n",
              "      <th>7461</th>\n",
              "      <td>677389</td>\n",
              "      <td>Dr. Sullivan Travis   is a wealthy Dallas gyne...</td>\n",
              "      <td>[sullivan, travis, wealthy, dallas, gynecologi...</td>\n",
              "      <td>0.001820</td>\n",
              "      <td>0.001820</td>\n",
              "      <td>0.001820</td>\n",
              "      <td>0.148702</td>\n",
              "      <td>0.748145</td>\n",
              "      <td>0.001820</td>\n",
              "      <td>0.001820</td>\n",
              "      <td>...</td>\n",
              "      <td>/m/0323y3</td>\n",
              "      <td>Dr. T &amp; the Women</td>\n",
              "      <td>2000-09-12</td>\n",
              "      <td>22844291.0</td>\n",
              "      <td>118.0</td>\n",
              "      <td>{\"/m/02h40lc\": \"English Language\", \"/m/04306rv...</td>\n",
              "      <td>{\"/m/09c7w0\": \"United States of America\", \"/m/...</td>\n",
              "      <td>{\"/m/06cvj\": \"Romantic comedy\", \"/m/0hj3n0w\": ...</td>\n",
              "      <td>2000</td>\n",
              "      <td>2000</td>\n",
              "    </tr>\n",
              "    <tr>\n",
              "      <th>7462</th>\n",
              "      <td>30352708</td>\n",
              "      <td>Twenty-something Eun-mo listens to a taxi driv...</td>\n",
              "      <td>[listens, taxi, driver, drone, rides, foggy, h...</td>\n",
              "      <td>0.001032</td>\n",
              "      <td>0.001032</td>\n",
              "      <td>0.253663</td>\n",
              "      <td>0.001033</td>\n",
              "      <td>0.001033</td>\n",
              "      <td>0.558457</td>\n",
              "      <td>0.001033</td>\n",
              "      <td>...</td>\n",
              "      <td>/m/0bbb_nv</td>\n",
              "      <td>Paju</td>\n",
              "      <td>2009-10-10</td>\n",
              "      <td>818676.0</td>\n",
              "      <td>111.0</td>\n",
              "      <td>{\"/m/02hwhyv\": \"Korean Language\"}</td>\n",
              "      <td>{\"/m/06qd3\": \"South Korea\"}</td>\n",
              "      <td>{\"/m/068d7h\": \"Romantic drama\", \"/m/02l7c8\": \"...</td>\n",
              "      <td>2009</td>\n",
              "      <td>2000</td>\n",
              "    </tr>\n",
              "  </tbody>\n",
              "</table>\n",
              "<p>7463 rows × 23 columns</p>\n",
              "</div>\n",
              "    <div class=\"colab-df-buttons\">\n",
              "\n",
              "  <div class=\"colab-df-container\">\n",
              "    <button class=\"colab-df-convert\" onclick=\"convertToInteractive('df-5a2b420b-9940-4cbb-b08d-e303af1f4261')\"\n",
              "            title=\"Convert this dataframe to an interactive table.\"\n",
              "            style=\"display:none;\">\n",
              "\n",
              "  <svg xmlns=\"http://www.w3.org/2000/svg\" height=\"24px\" viewBox=\"0 -960 960 960\">\n",
              "    <path d=\"M120-120v-720h720v720H120Zm60-500h600v-160H180v160Zm220 220h160v-160H400v160Zm0 220h160v-160H400v160ZM180-400h160v-160H180v160Zm440 0h160v-160H620v160ZM180-180h160v-160H180v160Zm440 0h160v-160H620v160Z\"/>\n",
              "  </svg>\n",
              "    </button>\n",
              "\n",
              "  <style>\n",
              "    .colab-df-container {\n",
              "      display:flex;\n",
              "      gap: 12px;\n",
              "    }\n",
              "\n",
              "    .colab-df-convert {\n",
              "      background-color: #E8F0FE;\n",
              "      border: none;\n",
              "      border-radius: 50%;\n",
              "      cursor: pointer;\n",
              "      display: none;\n",
              "      fill: #1967D2;\n",
              "      height: 32px;\n",
              "      padding: 0 0 0 0;\n",
              "      width: 32px;\n",
              "    }\n",
              "\n",
              "    .colab-df-convert:hover {\n",
              "      background-color: #E2EBFA;\n",
              "      box-shadow: 0px 1px 2px rgba(60, 64, 67, 0.3), 0px 1px 3px 1px rgba(60, 64, 67, 0.15);\n",
              "      fill: #174EA6;\n",
              "    }\n",
              "\n",
              "    .colab-df-buttons div {\n",
              "      margin-bottom: 4px;\n",
              "    }\n",
              "\n",
              "    [theme=dark] .colab-df-convert {\n",
              "      background-color: #3B4455;\n",
              "      fill: #D2E3FC;\n",
              "    }\n",
              "\n",
              "    [theme=dark] .colab-df-convert:hover {\n",
              "      background-color: #434B5C;\n",
              "      box-shadow: 0px 1px 3px 1px rgba(0, 0, 0, 0.15);\n",
              "      filter: drop-shadow(0px 1px 2px rgba(0, 0, 0, 0.3));\n",
              "      fill: #FFFFFF;\n",
              "    }\n",
              "  </style>\n",
              "\n",
              "    <script>\n",
              "      const buttonEl =\n",
              "        document.querySelector('#df-5a2b420b-9940-4cbb-b08d-e303af1f4261 button.colab-df-convert');\n",
              "      buttonEl.style.display =\n",
              "        google.colab.kernel.accessAllowed ? 'block' : 'none';\n",
              "\n",
              "      async function convertToInteractive(key) {\n",
              "        const element = document.querySelector('#df-5a2b420b-9940-4cbb-b08d-e303af1f4261');\n",
              "        const dataTable =\n",
              "          await google.colab.kernel.invokeFunction('convertToInteractive',\n",
              "                                                    [key], {});\n",
              "        if (!dataTable) return;\n",
              "\n",
              "        const docLinkHtml = 'Like what you see? Visit the ' +\n",
              "          '<a target=\"_blank\" href=https://colab.research.google.com/notebooks/data_table.ipynb>data table notebook</a>'\n",
              "          + ' to learn more about interactive tables.';\n",
              "        element.innerHTML = '';\n",
              "        dataTable['output_type'] = 'display_data';\n",
              "        await google.colab.output.renderOutput(dataTable, element);\n",
              "        const docLink = document.createElement('div');\n",
              "        docLink.innerHTML = docLinkHtml;\n",
              "        element.appendChild(docLink);\n",
              "      }\n",
              "    </script>\n",
              "  </div>\n",
              "\n",
              "\n",
              "<div id=\"df-bf888d9b-6955-4f81-bb91-01bf222c63d2\">\n",
              "  <button class=\"colab-df-quickchart\" onclick=\"quickchart('df-bf888d9b-6955-4f81-bb91-01bf222c63d2')\"\n",
              "            title=\"Suggest charts.\"\n",
              "            style=\"display:none;\">\n",
              "\n",
              "<svg xmlns=\"http://www.w3.org/2000/svg\" height=\"24px\"viewBox=\"0 0 24 24\"\n",
              "     width=\"24px\">\n",
              "    <g>\n",
              "        <path d=\"M19 3H5c-1.1 0-2 .9-2 2v14c0 1.1.9 2 2 2h14c1.1 0 2-.9 2-2V5c0-1.1-.9-2-2-2zM9 17H7v-7h2v7zm4 0h-2V7h2v10zm4 0h-2v-4h2v4z\"/>\n",
              "    </g>\n",
              "</svg>\n",
              "  </button>\n",
              "\n",
              "<style>\n",
              "  .colab-df-quickchart {\n",
              "      --bg-color: #E8F0FE;\n",
              "      --fill-color: #1967D2;\n",
              "      --hover-bg-color: #E2EBFA;\n",
              "      --hover-fill-color: #174EA6;\n",
              "      --disabled-fill-color: #AAA;\n",
              "      --disabled-bg-color: #DDD;\n",
              "  }\n",
              "\n",
              "  [theme=dark] .colab-df-quickchart {\n",
              "      --bg-color: #3B4455;\n",
              "      --fill-color: #D2E3FC;\n",
              "      --hover-bg-color: #434B5C;\n",
              "      --hover-fill-color: #FFFFFF;\n",
              "      --disabled-bg-color: #3B4455;\n",
              "      --disabled-fill-color: #666;\n",
              "  }\n",
              "\n",
              "  .colab-df-quickchart {\n",
              "    background-color: var(--bg-color);\n",
              "    border: none;\n",
              "    border-radius: 50%;\n",
              "    cursor: pointer;\n",
              "    display: none;\n",
              "    fill: var(--fill-color);\n",
              "    height: 32px;\n",
              "    padding: 0;\n",
              "    width: 32px;\n",
              "  }\n",
              "\n",
              "  .colab-df-quickchart:hover {\n",
              "    background-color: var(--hover-bg-color);\n",
              "    box-shadow: 0 1px 2px rgba(60, 64, 67, 0.3), 0 1px 3px 1px rgba(60, 64, 67, 0.15);\n",
              "    fill: var(--button-hover-fill-color);\n",
              "  }\n",
              "\n",
              "  .colab-df-quickchart-complete:disabled,\n",
              "  .colab-df-quickchart-complete:disabled:hover {\n",
              "    background-color: var(--disabled-bg-color);\n",
              "    fill: var(--disabled-fill-color);\n",
              "    box-shadow: none;\n",
              "  }\n",
              "\n",
              "  .colab-df-spinner {\n",
              "    border: 2px solid var(--fill-color);\n",
              "    border-color: transparent;\n",
              "    border-bottom-color: var(--fill-color);\n",
              "    animation:\n",
              "      spin 1s steps(1) infinite;\n",
              "  }\n",
              "\n",
              "  @keyframes spin {\n",
              "    0% {\n",
              "      border-color: transparent;\n",
              "      border-bottom-color: var(--fill-color);\n",
              "      border-left-color: var(--fill-color);\n",
              "    }\n",
              "    20% {\n",
              "      border-color: transparent;\n",
              "      border-left-color: var(--fill-color);\n",
              "      border-top-color: var(--fill-color);\n",
              "    }\n",
              "    30% {\n",
              "      border-color: transparent;\n",
              "      border-left-color: var(--fill-color);\n",
              "      border-top-color: var(--fill-color);\n",
              "      border-right-color: var(--fill-color);\n",
              "    }\n",
              "    40% {\n",
              "      border-color: transparent;\n",
              "      border-right-color: var(--fill-color);\n",
              "      border-top-color: var(--fill-color);\n",
              "    }\n",
              "    60% {\n",
              "      border-color: transparent;\n",
              "      border-right-color: var(--fill-color);\n",
              "    }\n",
              "    80% {\n",
              "      border-color: transparent;\n",
              "      border-right-color: var(--fill-color);\n",
              "      border-bottom-color: var(--fill-color);\n",
              "    }\n",
              "    90% {\n",
              "      border-color: transparent;\n",
              "      border-bottom-color: var(--fill-color);\n",
              "    }\n",
              "  }\n",
              "</style>\n",
              "\n",
              "  <script>\n",
              "    async function quickchart(key) {\n",
              "      const quickchartButtonEl =\n",
              "        document.querySelector('#' + key + ' button');\n",
              "      quickchartButtonEl.disabled = true;  // To prevent multiple clicks.\n",
              "      quickchartButtonEl.classList.add('colab-df-spinner');\n",
              "      try {\n",
              "        const charts = await google.colab.kernel.invokeFunction(\n",
              "            'suggestCharts', [key], {});\n",
              "      } catch (error) {\n",
              "        console.error('Error during call to suggestCharts:', error);\n",
              "      }\n",
              "      quickchartButtonEl.classList.remove('colab-df-spinner');\n",
              "      quickchartButtonEl.classList.add('colab-df-quickchart-complete');\n",
              "    }\n",
              "    (() => {\n",
              "      let quickchartButtonEl =\n",
              "        document.querySelector('#df-bf888d9b-6955-4f81-bb91-01bf222c63d2 button');\n",
              "      quickchartButtonEl.style.display =\n",
              "        google.colab.kernel.accessAllowed ? 'block' : 'none';\n",
              "    })();\n",
              "  </script>\n",
              "</div>\n",
              "    </div>\n",
              "  </div>\n"
            ]
          },
          "metadata": {},
          "execution_count": 28
        }
      ]
    },
    {
      "cell_type": "markdown",
      "source": [
        "- Finally, calculate the average probability per decade from 1900 to 2010. You may want to use pandas `groupby` function from the pandas library"
      ],
      "metadata": {
        "id": "Pre5ANFhlJwC"
      }
    },
    {
      "cell_type": "code",
      "source": [
        "decades = [1900,\n",
        "           1910,\n",
        "           1920,\n",
        "           1930,\n",
        "           1940,\n",
        "           1950,\n",
        "           1960,\n",
        "           1970,\n",
        "           1980,\n",
        "           1990,\n",
        "           2000,\n",
        "           2010]\n",
        "\n",
        "# Step 4: calculate the average probability by grouping (Your code below)\n",
        "\n",
        "decade_dataframe = merged_dataframe[(merged_dataframe['decade'] >= 1900) & (merged_dataframe['decade'] <= 2010)]\n",
        "\n",
        "\n",
        "grouped = decade_dataframe.groupby('decade').mean()\n",
        "\n",
        "grouped.head()\n"
      ],
      "metadata": {
        "id": "ckS-sA2PlUjS",
        "colab": {
          "base_uri": "https://localhost:8080/",
          "height": 272
        },
        "outputId": "420e4920-f5ef-40d4-93a4-341fa76242f5"
      },
      "execution_count": 29,
      "outputs": [
        {
          "output_type": "stream",
          "name": "stderr",
          "text": [
            "<ipython-input-29-10417d9306d1>:19: FutureWarning: The default value of numeric_only in DataFrameGroupBy.mean is deprecated. In a future version, numeric_only will default to False. Either specify numeric_only or select only columns which should be valid for the function.\n",
            "  grouped = decade_dataframe.groupby('decade').mean()\n"
          ]
        },
        {
          "output_type": "execute_result",
          "data": {
            "text/plain": [
              "             wiki_id   topic_0   topic_1   topic_2   topic_3   topic_4  \\\n",
              "decade                                                                   \n",
              "1910    3.333000e+03  0.000238  0.217754  0.159108  0.022213  0.000239   \n",
              "1920    7.378115e+06  0.037283  0.058750  0.072378  0.028989  0.346452   \n",
              "1930    7.711633e+06  0.044671  0.101531  0.053143  0.151703  0.369875   \n",
              "1940    6.524586e+06  0.048080  0.145978  0.054457  0.106623  0.326491   \n",
              "1950    9.710667e+06  0.044642  0.169730  0.058229  0.131494  0.266635   \n",
              "\n",
              "         topic_5   topic_6   topic_7   topic_8   topic_9       revenue  \\\n",
              "decade                                                                   \n",
              "1910    0.218012  0.068327  0.213470  0.100401  0.000239  5.000000e+07   \n",
              "1920    0.143415  0.028298  0.127824  0.074096  0.082513  2.727346e+06   \n",
              "1930    0.089004  0.027612  0.078296  0.039964  0.044201  8.421825e+06   \n",
              "1940    0.131913  0.031254  0.070170  0.040083  0.044952  7.696274e+06   \n",
              "1950    0.102542  0.034954  0.110999  0.040434  0.040341  4.297896e+06   \n",
              "\n",
              "           runtime         year  \n",
              "decade                           \n",
              "1910    190.000000  1915.000000  \n",
              "1920    110.409091  1925.636364  \n",
              "1930     94.358333  1935.183333  \n",
              "1940    103.838384  1944.434343  \n",
              "1950    100.792746  1953.808290  "
            ],
            "text/html": [
              "\n",
              "  <div id=\"df-95747d32-0264-48bf-9bd2-227563f1b026\" class=\"colab-df-container\">\n",
              "    <div>\n",
              "<style scoped>\n",
              "    .dataframe tbody tr th:only-of-type {\n",
              "        vertical-align: middle;\n",
              "    }\n",
              "\n",
              "    .dataframe tbody tr th {\n",
              "        vertical-align: top;\n",
              "    }\n",
              "\n",
              "    .dataframe thead th {\n",
              "        text-align: right;\n",
              "    }\n",
              "</style>\n",
              "<table border=\"1\" class=\"dataframe\">\n",
              "  <thead>\n",
              "    <tr style=\"text-align: right;\">\n",
              "      <th></th>\n",
              "      <th>wiki_id</th>\n",
              "      <th>topic_0</th>\n",
              "      <th>topic_1</th>\n",
              "      <th>topic_2</th>\n",
              "      <th>topic_3</th>\n",
              "      <th>topic_4</th>\n",
              "      <th>topic_5</th>\n",
              "      <th>topic_6</th>\n",
              "      <th>topic_7</th>\n",
              "      <th>topic_8</th>\n",
              "      <th>topic_9</th>\n",
              "      <th>revenue</th>\n",
              "      <th>runtime</th>\n",
              "      <th>year</th>\n",
              "    </tr>\n",
              "    <tr>\n",
              "      <th>decade</th>\n",
              "      <th></th>\n",
              "      <th></th>\n",
              "      <th></th>\n",
              "      <th></th>\n",
              "      <th></th>\n",
              "      <th></th>\n",
              "      <th></th>\n",
              "      <th></th>\n",
              "      <th></th>\n",
              "      <th></th>\n",
              "      <th></th>\n",
              "      <th></th>\n",
              "      <th></th>\n",
              "      <th></th>\n",
              "    </tr>\n",
              "  </thead>\n",
              "  <tbody>\n",
              "    <tr>\n",
              "      <th>1910</th>\n",
              "      <td>3.333000e+03</td>\n",
              "      <td>0.000238</td>\n",
              "      <td>0.217754</td>\n",
              "      <td>0.159108</td>\n",
              "      <td>0.022213</td>\n",
              "      <td>0.000239</td>\n",
              "      <td>0.218012</td>\n",
              "      <td>0.068327</td>\n",
              "      <td>0.213470</td>\n",
              "      <td>0.100401</td>\n",
              "      <td>0.000239</td>\n",
              "      <td>5.000000e+07</td>\n",
              "      <td>190.000000</td>\n",
              "      <td>1915.000000</td>\n",
              "    </tr>\n",
              "    <tr>\n",
              "      <th>1920</th>\n",
              "      <td>7.378115e+06</td>\n",
              "      <td>0.037283</td>\n",
              "      <td>0.058750</td>\n",
              "      <td>0.072378</td>\n",
              "      <td>0.028989</td>\n",
              "      <td>0.346452</td>\n",
              "      <td>0.143415</td>\n",
              "      <td>0.028298</td>\n",
              "      <td>0.127824</td>\n",
              "      <td>0.074096</td>\n",
              "      <td>0.082513</td>\n",
              "      <td>2.727346e+06</td>\n",
              "      <td>110.409091</td>\n",
              "      <td>1925.636364</td>\n",
              "    </tr>\n",
              "    <tr>\n",
              "      <th>1930</th>\n",
              "      <td>7.711633e+06</td>\n",
              "      <td>0.044671</td>\n",
              "      <td>0.101531</td>\n",
              "      <td>0.053143</td>\n",
              "      <td>0.151703</td>\n",
              "      <td>0.369875</td>\n",
              "      <td>0.089004</td>\n",
              "      <td>0.027612</td>\n",
              "      <td>0.078296</td>\n",
              "      <td>0.039964</td>\n",
              "      <td>0.044201</td>\n",
              "      <td>8.421825e+06</td>\n",
              "      <td>94.358333</td>\n",
              "      <td>1935.183333</td>\n",
              "    </tr>\n",
              "    <tr>\n",
              "      <th>1940</th>\n",
              "      <td>6.524586e+06</td>\n",
              "      <td>0.048080</td>\n",
              "      <td>0.145978</td>\n",
              "      <td>0.054457</td>\n",
              "      <td>0.106623</td>\n",
              "      <td>0.326491</td>\n",
              "      <td>0.131913</td>\n",
              "      <td>0.031254</td>\n",
              "      <td>0.070170</td>\n",
              "      <td>0.040083</td>\n",
              "      <td>0.044952</td>\n",
              "      <td>7.696274e+06</td>\n",
              "      <td>103.838384</td>\n",
              "      <td>1944.434343</td>\n",
              "    </tr>\n",
              "    <tr>\n",
              "      <th>1950</th>\n",
              "      <td>9.710667e+06</td>\n",
              "      <td>0.044642</td>\n",
              "      <td>0.169730</td>\n",
              "      <td>0.058229</td>\n",
              "      <td>0.131494</td>\n",
              "      <td>0.266635</td>\n",
              "      <td>0.102542</td>\n",
              "      <td>0.034954</td>\n",
              "      <td>0.110999</td>\n",
              "      <td>0.040434</td>\n",
              "      <td>0.040341</td>\n",
              "      <td>4.297896e+06</td>\n",
              "      <td>100.792746</td>\n",
              "      <td>1953.808290</td>\n",
              "    </tr>\n",
              "  </tbody>\n",
              "</table>\n",
              "</div>\n",
              "    <div class=\"colab-df-buttons\">\n",
              "\n",
              "  <div class=\"colab-df-container\">\n",
              "    <button class=\"colab-df-convert\" onclick=\"convertToInteractive('df-95747d32-0264-48bf-9bd2-227563f1b026')\"\n",
              "            title=\"Convert this dataframe to an interactive table.\"\n",
              "            style=\"display:none;\">\n",
              "\n",
              "  <svg xmlns=\"http://www.w3.org/2000/svg\" height=\"24px\" viewBox=\"0 -960 960 960\">\n",
              "    <path d=\"M120-120v-720h720v720H120Zm60-500h600v-160H180v160Zm220 220h160v-160H400v160Zm0 220h160v-160H400v160ZM180-400h160v-160H180v160Zm440 0h160v-160H620v160ZM180-180h160v-160H180v160Zm440 0h160v-160H620v160Z\"/>\n",
              "  </svg>\n",
              "    </button>\n",
              "\n",
              "  <style>\n",
              "    .colab-df-container {\n",
              "      display:flex;\n",
              "      gap: 12px;\n",
              "    }\n",
              "\n",
              "    .colab-df-convert {\n",
              "      background-color: #E8F0FE;\n",
              "      border: none;\n",
              "      border-radius: 50%;\n",
              "      cursor: pointer;\n",
              "      display: none;\n",
              "      fill: #1967D2;\n",
              "      height: 32px;\n",
              "      padding: 0 0 0 0;\n",
              "      width: 32px;\n",
              "    }\n",
              "\n",
              "    .colab-df-convert:hover {\n",
              "      background-color: #E2EBFA;\n",
              "      box-shadow: 0px 1px 2px rgba(60, 64, 67, 0.3), 0px 1px 3px 1px rgba(60, 64, 67, 0.15);\n",
              "      fill: #174EA6;\n",
              "    }\n",
              "\n",
              "    .colab-df-buttons div {\n",
              "      margin-bottom: 4px;\n",
              "    }\n",
              "\n",
              "    [theme=dark] .colab-df-convert {\n",
              "      background-color: #3B4455;\n",
              "      fill: #D2E3FC;\n",
              "    }\n",
              "\n",
              "    [theme=dark] .colab-df-convert:hover {\n",
              "      background-color: #434B5C;\n",
              "      box-shadow: 0px 1px 3px 1px rgba(0, 0, 0, 0.15);\n",
              "      filter: drop-shadow(0px 1px 2px rgba(0, 0, 0, 0.3));\n",
              "      fill: #FFFFFF;\n",
              "    }\n",
              "  </style>\n",
              "\n",
              "    <script>\n",
              "      const buttonEl =\n",
              "        document.querySelector('#df-95747d32-0264-48bf-9bd2-227563f1b026 button.colab-df-convert');\n",
              "      buttonEl.style.display =\n",
              "        google.colab.kernel.accessAllowed ? 'block' : 'none';\n",
              "\n",
              "      async function convertToInteractive(key) {\n",
              "        const element = document.querySelector('#df-95747d32-0264-48bf-9bd2-227563f1b026');\n",
              "        const dataTable =\n",
              "          await google.colab.kernel.invokeFunction('convertToInteractive',\n",
              "                                                    [key], {});\n",
              "        if (!dataTable) return;\n",
              "\n",
              "        const docLinkHtml = 'Like what you see? Visit the ' +\n",
              "          '<a target=\"_blank\" href=https://colab.research.google.com/notebooks/data_table.ipynb>data table notebook</a>'\n",
              "          + ' to learn more about interactive tables.';\n",
              "        element.innerHTML = '';\n",
              "        dataTable['output_type'] = 'display_data';\n",
              "        await google.colab.output.renderOutput(dataTable, element);\n",
              "        const docLink = document.createElement('div');\n",
              "        docLink.innerHTML = docLinkHtml;\n",
              "        element.appendChild(docLink);\n",
              "      }\n",
              "    </script>\n",
              "  </div>\n",
              "\n",
              "\n",
              "<div id=\"df-62558d69-4fcf-4b87-97e2-3187b26393b3\">\n",
              "  <button class=\"colab-df-quickchart\" onclick=\"quickchart('df-62558d69-4fcf-4b87-97e2-3187b26393b3')\"\n",
              "            title=\"Suggest charts.\"\n",
              "            style=\"display:none;\">\n",
              "\n",
              "<svg xmlns=\"http://www.w3.org/2000/svg\" height=\"24px\"viewBox=\"0 0 24 24\"\n",
              "     width=\"24px\">\n",
              "    <g>\n",
              "        <path d=\"M19 3H5c-1.1 0-2 .9-2 2v14c0 1.1.9 2 2 2h14c1.1 0 2-.9 2-2V5c0-1.1-.9-2-2-2zM9 17H7v-7h2v7zm4 0h-2V7h2v10zm4 0h-2v-4h2v4z\"/>\n",
              "    </g>\n",
              "</svg>\n",
              "  </button>\n",
              "\n",
              "<style>\n",
              "  .colab-df-quickchart {\n",
              "      --bg-color: #E8F0FE;\n",
              "      --fill-color: #1967D2;\n",
              "      --hover-bg-color: #E2EBFA;\n",
              "      --hover-fill-color: #174EA6;\n",
              "      --disabled-fill-color: #AAA;\n",
              "      --disabled-bg-color: #DDD;\n",
              "  }\n",
              "\n",
              "  [theme=dark] .colab-df-quickchart {\n",
              "      --bg-color: #3B4455;\n",
              "      --fill-color: #D2E3FC;\n",
              "      --hover-bg-color: #434B5C;\n",
              "      --hover-fill-color: #FFFFFF;\n",
              "      --disabled-bg-color: #3B4455;\n",
              "      --disabled-fill-color: #666;\n",
              "  }\n",
              "\n",
              "  .colab-df-quickchart {\n",
              "    background-color: var(--bg-color);\n",
              "    border: none;\n",
              "    border-radius: 50%;\n",
              "    cursor: pointer;\n",
              "    display: none;\n",
              "    fill: var(--fill-color);\n",
              "    height: 32px;\n",
              "    padding: 0;\n",
              "    width: 32px;\n",
              "  }\n",
              "\n",
              "  .colab-df-quickchart:hover {\n",
              "    background-color: var(--hover-bg-color);\n",
              "    box-shadow: 0 1px 2px rgba(60, 64, 67, 0.3), 0 1px 3px 1px rgba(60, 64, 67, 0.15);\n",
              "    fill: var(--button-hover-fill-color);\n",
              "  }\n",
              "\n",
              "  .colab-df-quickchart-complete:disabled,\n",
              "  .colab-df-quickchart-complete:disabled:hover {\n",
              "    background-color: var(--disabled-bg-color);\n",
              "    fill: var(--disabled-fill-color);\n",
              "    box-shadow: none;\n",
              "  }\n",
              "\n",
              "  .colab-df-spinner {\n",
              "    border: 2px solid var(--fill-color);\n",
              "    border-color: transparent;\n",
              "    border-bottom-color: var(--fill-color);\n",
              "    animation:\n",
              "      spin 1s steps(1) infinite;\n",
              "  }\n",
              "\n",
              "  @keyframes spin {\n",
              "    0% {\n",
              "      border-color: transparent;\n",
              "      border-bottom-color: var(--fill-color);\n",
              "      border-left-color: var(--fill-color);\n",
              "    }\n",
              "    20% {\n",
              "      border-color: transparent;\n",
              "      border-left-color: var(--fill-color);\n",
              "      border-top-color: var(--fill-color);\n",
              "    }\n",
              "    30% {\n",
              "      border-color: transparent;\n",
              "      border-left-color: var(--fill-color);\n",
              "      border-top-color: var(--fill-color);\n",
              "      border-right-color: var(--fill-color);\n",
              "    }\n",
              "    40% {\n",
              "      border-color: transparent;\n",
              "      border-right-color: var(--fill-color);\n",
              "      border-top-color: var(--fill-color);\n",
              "    }\n",
              "    60% {\n",
              "      border-color: transparent;\n",
              "      border-right-color: var(--fill-color);\n",
              "    }\n",
              "    80% {\n",
              "      border-color: transparent;\n",
              "      border-right-color: var(--fill-color);\n",
              "      border-bottom-color: var(--fill-color);\n",
              "    }\n",
              "    90% {\n",
              "      border-color: transparent;\n",
              "      border-bottom-color: var(--fill-color);\n",
              "    }\n",
              "  }\n",
              "</style>\n",
              "\n",
              "  <script>\n",
              "    async function quickchart(key) {\n",
              "      const quickchartButtonEl =\n",
              "        document.querySelector('#' + key + ' button');\n",
              "      quickchartButtonEl.disabled = true;  // To prevent multiple clicks.\n",
              "      quickchartButtonEl.classList.add('colab-df-spinner');\n",
              "      try {\n",
              "        const charts = await google.colab.kernel.invokeFunction(\n",
              "            'suggestCharts', [key], {});\n",
              "      } catch (error) {\n",
              "        console.error('Error during call to suggestCharts:', error);\n",
              "      }\n",
              "      quickchartButtonEl.classList.remove('colab-df-spinner');\n",
              "      quickchartButtonEl.classList.add('colab-df-quickchart-complete');\n",
              "    }\n",
              "    (() => {\n",
              "      let quickchartButtonEl =\n",
              "        document.querySelector('#df-62558d69-4fcf-4b87-97e2-3187b26393b3 button');\n",
              "      quickchartButtonEl.style.display =\n",
              "        google.colab.kernel.accessAllowed ? 'block' : 'none';\n",
              "    })();\n",
              "  </script>\n",
              "</div>\n",
              "    </div>\n",
              "  </div>\n"
            ]
          },
          "metadata": {},
          "execution_count": 29
        }
      ]
    },
    {
      "cell_type": "code",
      "source": [
        "per_decade_plot = grouped.reset_index()\n",
        "per_decade_plot.plot(x=\"decade\", y=[f\"topic_{i}\" for i in range (10)], alpha=0.5)"
      ],
      "metadata": {
        "id": "gOZv3-u7m-t8",
        "colab": {
          "base_uri": "https://localhost:8080/",
          "height": 466
        },
        "outputId": "f86a701d-9e27-4c5a-e670-9de2baa0a2f9"
      },
      "execution_count": 32,
      "outputs": [
        {
          "output_type": "execute_result",
          "data": {
            "text/plain": [
              "<Axes: xlabel='decade'>"
            ]
          },
          "metadata": {},
          "execution_count": 32
        },
        {
          "output_type": "display_data",
          "data": {
            "text/plain": [
              "<Figure size 640x480 with 1 Axes>"
            ],
            "image/png": "[encoded data removed]"
          },
          "metadata": {}
        }
      ]
    },
    {
      "cell_type": "markdown",
      "source": [
        "**Sanity check!** I found the \"war\" topic to peak in the 1910's then fall during the great depression and rise again in the 50's after which it has remained quite steady. I'm not sure if it matches any hypothesis but it's interesting nonetheless!"
      ],
      "metadata": {
        "id": "UBTI7sFLGYiM"
      }
    },
    {
      "cell_type": "markdown",
      "source": [
        "## 2. Prediction [4 points]"
      ],
      "metadata": {
        "id": "7nXhcObjqN-h"
      }
    },
    {
      "cell_type": "markdown",
      "source": [
        "In this section, we'll develop multiple regression models to predict the box office revenue of a movie. We'll start by first filtering the dataframe to contain only those movies which don't have any missing data."
      ],
      "metadata": {
        "id": "D3fknStRqRGS"
      }
    },
    {
      "cell_type": "code",
      "source": [
        "regression_df = merged_dataframe.dropna() # remove all the rows that contain any missing values\n",
        "regression_df = regression_df.query (\"decade in @decades\")"
      ],
      "metadata": {
        "id": "hGgnhJM1b5T3"
      },
      "execution_count": 33,
      "outputs": []
    },
    {
      "cell_type": "markdown",
      "source": [
        "Once you have the `regression_df` dataframe, we'll create another column called `tokenized_text` as follows"
      ],
      "metadata": {
        "id": "lrPj56u52tAO"
      }
    },
    {
      "cell_type": "code",
      "source": [
        "regression_df[\"tokenized_text\"] = regression_df[\"tokens\"].apply (lambda x:\" \".join (x))"
      ],
      "metadata": {
        "id": "WpI1gF7L28c-"
      },
      "execution_count": 34,
      "outputs": []
    },
    {
      "cell_type": "markdown",
      "source": [
        "Let's see what the regression dataframe looks like"
      ],
      "metadata": {
        "id": "48muj8MTQfJx"
      }
    },
    {
      "cell_type": "code",
      "source": [
        "regression_df.head (5)"
      ],
      "metadata": {
        "id": "yMb_3aCXQjKq",
        "colab": {
          "base_uri": "https://localhost:8080/",
          "height": 322
        },
        "outputId": "e0055577-d514-4c5e-dbcf-32bbf0dfb94f"
      },
      "execution_count": 35,
      "outputs": [
        {
          "output_type": "execute_result",
          "data": {
            "text/plain": [
              "    wiki_id                                            summary  \\\n",
              "0  31186339  The nation of Panem consists of a wealthy Capi...   \n",
              "1   2231378  The Lemon Drop Kid , a New York City swindler,...   \n",
              "2    595909  Seventh-day Adventist Church pastor Michael Ch...   \n",
              "3   1952976  {{plot}} The film opens in 1974, as a young gi...   \n",
              "4  24225279  The story begins with Hannah, a young Jewish t...   \n",
              "\n",
              "                                              tokens   topic_0   topic_1  \\\n",
              "0  [the, nation, panem, consists, wealthy, capito...  0.000295  0.244372   \n",
              "1  [the, lemon, drop, kid, new, york, city, swind...  0.000250  0.000250   \n",
              "2  [adventist, church, pastor, michael, chamberla...  0.000589  0.000589   \n",
              "3  [plot, the, film, opens, young, girl, dahlia, ...  0.056838  0.035302   \n",
              "4  [the, story, begins, hannah, young, jewish, te...  0.000343  0.000343   \n",
              "\n",
              "    topic_2   topic_3   topic_4   topic_5   topic_6  ...                name  \\\n",
              "0  0.241556  0.080722  0.068229  0.178712  0.008861  ...    The Hunger Games   \n",
              "1  0.077156  0.321231  0.220866  0.000250  0.000250  ...  The Lemon Drop Kid   \n",
              "2  0.278198  0.313662  0.146118  0.224911  0.000589  ...   A Cry in the Dark   \n",
              "3  0.503416  0.000288  0.298671  0.000288  0.104334  ...          Dark Water   \n",
              "4  0.059487  0.061347  0.293568  0.101172  0.289687  ...                Sing   \n",
              "\n",
              "   release_date      revenue runtime                           languages  \\\n",
              "0    2012-03-12  686533290.0   142.0  {\"/m/02h40lc\": \"English Language\"}   \n",
              "1    1951-03-08    2300000.0    91.0  {\"/m/02h40lc\": \"English Language\"}   \n",
              "2    1988-11-03    6908797.0   121.0  {\"/m/02h40lc\": \"English Language\"}   \n",
              "3    2005-06-27   49483352.0   105.0  {\"/m/02h40lc\": \"English Language\"}   \n",
              "4          1989    2260616.0    98.0  {\"/m/02h40lc\": \"English Language\"}   \n",
              "\n",
              "                                           countries  \\\n",
              "0          {\"/m/09c7w0\": \"United States of America\"}   \n",
              "1          {\"/m/09c7w0\": \"United States of America\"}   \n",
              "2  {\"/m/09c7w0\": \"United States of America\", \"/m/...   \n",
              "3          {\"/m/09c7w0\": \"United States of America\"}   \n",
              "4          {\"/m/09c7w0\": \"United States of America\"}   \n",
              "\n",
              "                                              genres  year decade  \\\n",
              "0  {\"/m/03btsm8\": \"Action/Adventure\", \"/m/06n90\":...  2012   2010   \n",
              "1  {\"/m/06qm3\": \"Screwball comedy\", \"/m/01z4y\": \"...  1951   1950   \n",
              "2  {\"/m/0lsxr\": \"Crime Fiction\", \"/m/07s9rl0\": \"D...  1988   1980   \n",
              "3  {\"/m/01jfsb\": \"Thriller\", \"/m/07s9rl0\": \"Drama...  2005   2000   \n",
              "4       {\"/m/07s9rl0\": \"Drama\", \"/m/02b5_l\": \"Teen\"}  1989   1980   \n",
              "\n",
              "                                      tokenized_text  \n",
              "0  the nation panem consists wealthy capitol twel...  \n",
              "1  the lemon drop kid new york city swindler ille...  \n",
              "2  adventist church pastor michael chamberlain wi...  \n",
              "3  plot the film opens young girl dahlia stands o...  \n",
              "4  the story begins hannah young jewish teen comp...  \n",
              "\n",
              "[5 rows x 24 columns]"
            ],
            "text/html": [
              "\n",
              "  <div id=\"df-bababa53-d1cf-4887-94df-394da1df317b\" class=\"colab-df-container\">\n",
              "    <div>\n",
              "<style scoped>\n",
              "    .dataframe tbody tr th:only-of-type {\n",
              "        vertical-align: middle;\n",
              "    }\n",
              "\n",
              "    .dataframe tbody tr th {\n",
              "        vertical-align: top;\n",
              "    }\n",
              "\n",
              "    .dataframe thead th {\n",
              "        text-align: right;\n",
              "    }\n",
              "</style>\n",
              "<table border=\"1\" class=\"dataframe\">\n",
              "  <thead>\n",
              "    <tr style=\"text-align: right;\">\n",
              "      <th></th>\n",
              "      <th>wiki_id</th>\n",
              "      <th>summary</th>\n",
              "      <th>tokens</th>\n",
              "      <th>topic_0</th>\n",
              "      <th>topic_1</th>\n",
              "      <th>topic_2</th>\n",
              "      <th>topic_3</th>\n",
              "      <th>topic_4</th>\n",
              "      <th>topic_5</th>\n",
              "      <th>topic_6</th>\n",
              "      <th>...</th>\n",
              "      <th>name</th>\n",
              "      <th>release_date</th>\n",
              "      <th>revenue</th>\n",
              "      <th>runtime</th>\n",
              "      <th>languages</th>\n",
              "      <th>countries</th>\n",
              "      <th>genres</th>\n",
              "      <th>year</th>\n",
              "      <th>decade</th>\n",
              "      <th>tokenized_text</th>\n",
              "    </tr>\n",
              "  </thead>\n",
              "  <tbody>\n",
              "    <tr>\n",
              "      <th>0</th>\n",
              "      <td>31186339</td>\n",
              "      <td>The nation of Panem consists of a wealthy Capi...</td>\n",
              "      <td>[the, nation, panem, consists, wealthy, capito...</td>\n",
              "      <td>0.000295</td>\n",
              "      <td>0.244372</td>\n",
              "      <td>0.241556</td>\n",
              "      <td>0.080722</td>\n",
              "      <td>0.068229</td>\n",
              "      <td>0.178712</td>\n",
              "      <td>0.008861</td>\n",
              "      <td>...</td>\n",
              "      <td>The Hunger Games</td>\n",
              "      <td>2012-03-12</td>\n",
              "      <td>686533290.0</td>\n",
              "      <td>142.0</td>\n",
              "      <td>{\"/m/02h40lc\": \"English Language\"}</td>\n",
              "      <td>{\"/m/09c7w0\": \"United States of America\"}</td>\n",
              "      <td>{\"/m/03btsm8\": \"Action/Adventure\", \"/m/06n90\":...</td>\n",
              "      <td>2012</td>\n",
              "      <td>2010</td>\n",
              "      <td>the nation panem consists wealthy capitol twel...</td>\n",
              "    </tr>\n",
              "    <tr>\n",
              "      <th>1</th>\n",
              "      <td>2231378</td>\n",
              "      <td>The Lemon Drop Kid , a New York City swindler,...</td>\n",
              "      <td>[the, lemon, drop, kid, new, york, city, swind...</td>\n",
              "      <td>0.000250</td>\n",
              "      <td>0.000250</td>\n",
              "      <td>0.077156</td>\n",
              "      <td>0.321231</td>\n",
              "      <td>0.220866</td>\n",
              "      <td>0.000250</td>\n",
              "      <td>0.000250</td>\n",
              "      <td>...</td>\n",
              "      <td>The Lemon Drop Kid</td>\n",
              "      <td>1951-03-08</td>\n",
              "      <td>2300000.0</td>\n",
              "      <td>91.0</td>\n",
              "      <td>{\"/m/02h40lc\": \"English Language\"}</td>\n",
              "      <td>{\"/m/09c7w0\": \"United States of America\"}</td>\n",
              "      <td>{\"/m/06qm3\": \"Screwball comedy\", \"/m/01z4y\": \"...</td>\n",
              "      <td>1951</td>\n",
              "      <td>1950</td>\n",
              "      <td>the lemon drop kid new york city swindler ille...</td>\n",
              "    </tr>\n",
              "    <tr>\n",
              "      <th>2</th>\n",
              "      <td>595909</td>\n",
              "      <td>Seventh-day Adventist Church pastor Michael Ch...</td>\n",
              "      <td>[adventist, church, pastor, michael, chamberla...</td>\n",
              "      <td>0.000589</td>\n",
              "      <td>0.000589</td>\n",
              "      <td>0.278198</td>\n",
              "      <td>0.313662</td>\n",
              "      <td>0.146118</td>\n",
              "      <td>0.224911</td>\n",
              "      <td>0.000589</td>\n",
              "      <td>...</td>\n",
              "      <td>A Cry in the Dark</td>\n",
              "      <td>1988-11-03</td>\n",
              "      <td>6908797.0</td>\n",
              "      <td>121.0</td>\n",
              "      <td>{\"/m/02h40lc\": \"English Language\"}</td>\n",
              "      <td>{\"/m/09c7w0\": \"United States of America\", \"/m/...</td>\n",
              "      <td>{\"/m/0lsxr\": \"Crime Fiction\", \"/m/07s9rl0\": \"D...</td>\n",
              "      <td>1988</td>\n",
              "      <td>1980</td>\n",
              "      <td>adventist church pastor michael chamberlain wi...</td>\n",
              "    </tr>\n",
              "    <tr>\n",
              "      <th>3</th>\n",
              "      <td>1952976</td>\n",
              "      <td>{{plot}} The film opens in 1974, as a young gi...</td>\n",
              "      <td>[plot, the, film, opens, young, girl, dahlia, ...</td>\n",
              "      <td>0.056838</td>\n",
              "      <td>0.035302</td>\n",
              "      <td>0.503416</td>\n",
              "      <td>0.000288</td>\n",
              "      <td>0.298671</td>\n",
              "      <td>0.000288</td>\n",
              "      <td>0.104334</td>\n",
              "      <td>...</td>\n",
              "      <td>Dark Water</td>\n",
              "      <td>2005-06-27</td>\n",
              "      <td>49483352.0</td>\n",
              "      <td>105.0</td>\n",
              "      <td>{\"/m/02h40lc\": \"English Language\"}</td>\n",
              "      <td>{\"/m/09c7w0\": \"United States of America\"}</td>\n",
              "      <td>{\"/m/01jfsb\": \"Thriller\", \"/m/07s9rl0\": \"Drama...</td>\n",
              "      <td>2005</td>\n",
              "      <td>2000</td>\n",
              "      <td>plot the film opens young girl dahlia stands o...</td>\n",
              "    </tr>\n",
              "    <tr>\n",
              "      <th>4</th>\n",
              "      <td>24225279</td>\n",
              "      <td>The story begins with Hannah, a young Jewish t...</td>\n",
              "      <td>[the, story, begins, hannah, young, jewish, te...</td>\n",
              "      <td>0.000343</td>\n",
              "      <td>0.000343</td>\n",
              "      <td>0.059487</td>\n",
              "      <td>0.061347</td>\n",
              "      <td>0.293568</td>\n",
              "      <td>0.101172</td>\n",
              "      <td>0.289687</td>\n",
              "      <td>...</td>\n",
              "      <td>Sing</td>\n",
              "      <td>1989</td>\n",
              "      <td>2260616.0</td>\n",
              "      <td>98.0</td>\n",
              "      <td>{\"/m/02h40lc\": \"English Language\"}</td>\n",
              "      <td>{\"/m/09c7w0\": \"United States of America\"}</td>\n",
              "      <td>{\"/m/07s9rl0\": \"Drama\", \"/m/02b5_l\": \"Teen\"}</td>\n",
              "      <td>1989</td>\n",
              "      <td>1980</td>\n",
              "      <td>the story begins hannah young jewish teen comp...</td>\n",
              "    </tr>\n",
              "  </tbody>\n",
              "</table>\n",
              "<p>5 rows × 24 columns</p>\n",
              "</div>\n",
              "    <div class=\"colab-df-buttons\">\n",
              "\n",
              "  <div class=\"colab-df-container\">\n",
              "    <button class=\"colab-df-convert\" onclick=\"convertToInteractive('df-bababa53-d1cf-4887-94df-394da1df317b')\"\n",
              "            title=\"Convert this dataframe to an interactive table.\"\n",
              "            style=\"display:none;\">\n",
              "\n",
              "  <svg xmlns=\"http://www.w3.org/2000/svg\" height=\"24px\" viewBox=\"0 -960 960 960\">\n",
              "    <path d=\"M120-120v-720h720v720H120Zm60-500h600v-160H180v160Zm220 220h160v-160H400v160Zm0 220h160v-160H400v160ZM180-400h160v-160H180v160Zm440 0h160v-160H620v160ZM180-180h160v-160H180v160Zm440 0h160v-160H620v160Z\"/>\n",
              "  </svg>\n",
              "    </button>\n",
              "\n",
              "  <style>\n",
              "    .colab-df-container {\n",
              "      display:flex;\n",
              "      gap: 12px;\n",
              "    }\n",
              "\n",
              "    .colab-df-convert {\n",
              "      background-color: #E8F0FE;\n",
              "      border: none;\n",
              "      border-radius: 50%;\n",
              "      cursor: pointer;\n",
              "      display: none;\n",
              "      fill: #1967D2;\n",
              "      height: 32px;\n",
              "      padding: 0 0 0 0;\n",
              "      width: 32px;\n",
              "    }\n",
              "\n",
              "    .colab-df-convert:hover {\n",
              "      background-color: #E2EBFA;\n",
              "      box-shadow: 0px 1px 2px rgba(60, 64, 67, 0.3), 0px 1px 3px 1px rgba(60, 64, 67, 0.15);\n",
              "      fill: #174EA6;\n",
              "    }\n",
              "\n",
              "    .colab-df-buttons div {\n",
              "      margin-bottom: 4px;\n",
              "    }\n",
              "\n",
              "    [theme=dark] .colab-df-convert {\n",
              "      background-color: #3B4455;\n",
              "      fill: #D2E3FC;\n",
              "    }\n",
              "\n",
              "    [theme=dark] .colab-df-convert:hover {\n",
              "      background-color: #434B5C;\n",
              "      box-shadow: 0px 1px 3px 1px rgba(0, 0, 0, 0.15);\n",
              "      filter: drop-shadow(0px 1px 2px rgba(0, 0, 0, 0.3));\n",
              "      fill: #FFFFFF;\n",
              "    }\n",
              "  </style>\n",
              "\n",
              "    <script>\n",
              "      const buttonEl =\n",
              "        document.querySelector('#df-bababa53-d1cf-4887-94df-394da1df317b button.colab-df-convert');\n",
              "      buttonEl.style.display =\n",
              "        google.colab.kernel.accessAllowed ? 'block' : 'none';\n",
              "\n",
              "      async function convertToInteractive(key) {\n",
              "        const element = document.querySelector('#df-bababa53-d1cf-4887-94df-394da1df317b');\n",
              "        const dataTable =\n",
              "          await google.colab.kernel.invokeFunction('convertToInteractive',\n",
              "                                                    [key], {});\n",
              "        if (!dataTable) return;\n",
              "\n",
              "        const docLinkHtml = 'Like what you see? Visit the ' +\n",
              "          '<a target=\"_blank\" href=https://colab.research.google.com/notebooks/data_table.ipynb>data table notebook</a>'\n",
              "          + ' to learn more about interactive tables.';\n",
              "        element.innerHTML = '';\n",
              "        dataTable['output_type'] = 'display_data';\n",
              "        await google.colab.output.renderOutput(dataTable, element);\n",
              "        const docLink = document.createElement('div');\n",
              "        docLink.innerHTML = docLinkHtml;\n",
              "        element.appendChild(docLink);\n",
              "      }\n",
              "    </script>\n",
              "  </div>\n",
              "\n",
              "\n",
              "<div id=\"df-aa96c6c4-2bdc-415f-b36a-1391eaa1a86a\">\n",
              "  <button class=\"colab-df-quickchart\" onclick=\"quickchart('df-aa96c6c4-2bdc-415f-b36a-1391eaa1a86a')\"\n",
              "            title=\"Suggest charts.\"\n",
              "            style=\"display:none;\">\n",
              "\n",
              "<svg xmlns=\"http://www.w3.org/2000/svg\" height=\"24px\"viewBox=\"0 0 24 24\"\n",
              "     width=\"24px\">\n",
              "    <g>\n",
              "        <path d=\"M19 3H5c-1.1 0-2 .9-2 2v14c0 1.1.9 2 2 2h14c1.1 0 2-.9 2-2V5c0-1.1-.9-2-2-2zM9 17H7v-7h2v7zm4 0h-2V7h2v10zm4 0h-2v-4h2v4z\"/>\n",
              "    </g>\n",
              "</svg>\n",
              "  </button>\n",
              "\n",
              "<style>\n",
              "  .colab-df-quickchart {\n",
              "      --bg-color: #E8F0FE;\n",
              "      --fill-color: #1967D2;\n",
              "      --hover-bg-color: #E2EBFA;\n",
              "      --hover-fill-color: #174EA6;\n",
              "      --disabled-fill-color: #AAA;\n",
              "      --disabled-bg-color: #DDD;\n",
              "  }\n",
              "\n",
              "  [theme=dark] .colab-df-quickchart {\n",
              "      --bg-color: #3B4455;\n",
              "      --fill-color: #D2E3FC;\n",
              "      --hover-bg-color: #434B5C;\n",
              "      --hover-fill-color: #FFFFFF;\n",
              "      --disabled-bg-color: #3B4455;\n",
              "      --disabled-fill-color: #666;\n",
              "  }\n",
              "\n",
              "  .colab-df-quickchart {\n",
              "    background-color: var(--bg-color);\n",
              "    border: none;\n",
              "    border-radius: 50%;\n",
              "    cursor: pointer;\n",
              "    display: none;\n",
              "    fill: var(--fill-color);\n",
              "    height: 32px;\n",
              "    padding: 0;\n",
              "    width: 32px;\n",
              "  }\n",
              "\n",
              "  .colab-df-quickchart:hover {\n",
              "    background-color: var(--hover-bg-color);\n",
              "    box-shadow: 0 1px 2px rgba(60, 64, 67, 0.3), 0 1px 3px 1px rgba(60, 64, 67, 0.15);\n",
              "    fill: var(--button-hover-fill-color);\n",
              "  }\n",
              "\n",
              "  .colab-df-quickchart-complete:disabled,\n",
              "  .colab-df-quickchart-complete:disabled:hover {\n",
              "    background-color: var(--disabled-bg-color);\n",
              "    fill: var(--disabled-fill-color);\n",
              "    box-shadow: none;\n",
              "  }\n",
              "\n",
              "  .colab-df-spinner {\n",
              "    border: 2px solid var(--fill-color);\n",
              "    border-color: transparent;\n",
              "    border-bottom-color: var(--fill-color);\n",
              "    animation:\n",
              "      spin 1s steps(1) infinite;\n",
              "  }\n",
              "\n",
              "  @keyframes spin {\n",
              "    0% {\n",
              "      border-color: transparent;\n",
              "      border-bottom-color: var(--fill-color);\n",
              "      border-left-color: var(--fill-color);\n",
              "    }\n",
              "    20% {\n",
              "      border-color: transparent;\n",
              "      border-left-color: var(--fill-color);\n",
              "      border-top-color: var(--fill-color);\n",
              "    }\n",
              "    30% {\n",
              "      border-color: transparent;\n",
              "      border-left-color: var(--fill-color);\n",
              "      border-top-color: var(--fill-color);\n",
              "      border-right-color: var(--fill-color);\n",
              "    }\n",
              "    40% {\n",
              "      border-color: transparent;\n",
              "      border-right-color: var(--fill-color);\n",
              "      border-top-color: var(--fill-color);\n",
              "    }\n",
              "    60% {\n",
              "      border-color: transparent;\n",
              "      border-right-color: var(--fill-color);\n",
              "    }\n",
              "    80% {\n",
              "      border-color: transparent;\n",
              "      border-right-color: var(--fill-color);\n",
              "      border-bottom-color: var(--fill-color);\n",
              "    }\n",
              "    90% {\n",
              "      border-color: transparent;\n",
              "      border-bottom-color: var(--fill-color);\n",
              "    }\n",
              "  }\n",
              "</style>\n",
              "\n",
              "  <script>\n",
              "    async function quickchart(key) {\n",
              "      const quickchartButtonEl =\n",
              "        document.querySelector('#' + key + ' button');\n",
              "      quickchartButtonEl.disabled = true;  // To prevent multiple clicks.\n",
              "      quickchartButtonEl.classList.add('colab-df-spinner');\n",
              "      try {\n",
              "        const charts = await google.colab.kernel.invokeFunction(\n",
              "            'suggestCharts', [key], {});\n",
              "      } catch (error) {\n",
              "        console.error('Error during call to suggestCharts:', error);\n",
              "      }\n",
              "      quickchartButtonEl.classList.remove('colab-df-spinner');\n",
              "      quickchartButtonEl.classList.add('colab-df-quickchart-complete');\n",
              "    }\n",
              "    (() => {\n",
              "      let quickchartButtonEl =\n",
              "        document.querySelector('#df-aa96c6c4-2bdc-415f-b36a-1391eaa1a86a button');\n",
              "      quickchartButtonEl.style.display =\n",
              "        google.colab.kernel.accessAllowed ? 'block' : 'none';\n",
              "    })();\n",
              "  </script>\n",
              "</div>\n",
              "    </div>\n",
              "  </div>\n"
            ]
          },
          "metadata": {},
          "execution_count": 35
        }
      ]
    },
    {
      "cell_type": "code",
      "source": [
        "regression_df.shape"
      ],
      "metadata": {
        "colab": {
          "base_uri": "https://localhost:8080/"
        },
        "id": "PBAKd8a161bC",
        "outputId": "6eecbf8a-235d-4943-8261-dd4a3cb2e3cf"
      },
      "execution_count": 59,
      "outputs": [
        {
          "output_type": "execute_result",
          "data": {
            "text/plain": [
              "(7462, 24)"
            ]
          },
          "metadata": {},
          "execution_count": 59
        }
      ]
    },
    {
      "cell_type": "markdown",
      "source": [
        "The code above simply joins the individual tokens from the plot summary in any movie into a string in which the tokens are separated by a whitespace"
      ],
      "metadata": {
        "id": "bQy3R7HvHXch"
      }
    },
    {
      "cell_type": "markdown",
      "source": [
        "Next, we'll split the movies into a train and a test set as follows"
      ],
      "metadata": {
        "id": "PgOPrcemvuoF"
      }
    },
    {
      "cell_type": "code",
      "source": [
        "train_wikiids, test_wikiids = train_test_split(regression_df.wiki_id,\n",
        "                                               test_size=0.2,\n",
        "                                               random_state=42)"
      ],
      "metadata": {
        "id": "1zADQ2VMvEQ0"
      },
      "execution_count": 57,
      "outputs": []
    },
    {
      "cell_type": "markdown",
      "source": [
        "We can create an array for our dependent variable in both the train and test sets"
      ],
      "metadata": {
        "id": "_ok7u2XdHt6s"
      }
    },
    {
      "cell_type": "code",
      "source": [
        "y_train = regression_df.query ('wiki_id in @train_wikiids').revenue.values\n",
        "y_test = regression_df.query ('wiki_id in @test_wikiids').revenue.values"
      ],
      "metadata": {
        "id": "-40ZWZHx1tae"
      },
      "execution_count": 58,
      "outputs": []
    },
    {
      "cell_type": "markdown",
      "source": [
        "Finally, you'll need to use a tfidf vectorizer for some of the models which can be done in the following"
      ],
      "metadata": {
        "id": "fFlbqAlX34FC"
      }
    },
    {
      "cell_type": "code",
      "source": [
        "vectorizer = TfidfVectorizer (sublinear_tf=True,\n",
        "                              max_features=500,\n",
        "                              max_df=0.5,\n",
        "                              min_df=5)"
      ],
      "metadata": {
        "id": "v3_y6b_837SI"
      },
      "execution_count": 38,
      "outputs": []
    },
    {
      "cell_type": "markdown",
      "source": [
        "We'll develop nested regression models from the following feature sets:\n",
        "\n",
        "1. **Length of the movie (M)**: This feature is a scalar value that can be obtained directly by accessing the `runtime` field in the dataframe.\n",
        "\n",
        "2. **Genres (G)**: Every movie is associated with a dictionary of genres, which can be accessed using the `genres` column in the dataframe. The key in this dictionary is a freebase id and the value is a genre name in plain english. To use genres as features, we'll need to convert the plain english names to a vector. Fortunately, we know how to do this tranformation -- by treating the different genres for a movie as a bag-of-genres vector. Thus, if there are K unique genres in total, the genres feature vector is of size K and the dimensions are either 0 or 1 indicating the presence or absence of a genre.\n",
        "\n",
        "3. **Plot summaries (S)**: Every movie also contains a summary. We'll featurize the summary by creating a tfidf vector for each summary. The vocabulary size should be capped at 500.\n",
        "\n",
        "4. **Topics (T)**: Every movie can be represented by a topic mixtures vector which we obtained in the previous section.\n",
        "\n",
        "**Your turn!** You'll fill the following table for the different nested models with the root mean squared error between the predicted revenue for each model and the actual revenue. State the model that performs best [2 points]\n",
        "\n",
        "\n",
        "|Models|RMSE|\n",
        "|------|----|\n",
        "|M||\n",
        "|G||\n",
        "|S||\n",
        "|T||\n",
        "|M+G||\n",
        "|G+S||\n",
        "|S+T||\n",
        "|M+G+S||\n",
        "|G+S+T||\n",
        "|M+G+S+T||\n",
        "\n",
        "**Notes:**\n",
        "\n",
        "- Our regression model will use the features to predict the log of the revenue although the RMSE will be calculated by comparing the actual revenues.\n",
        "\n",
        "- [RMSE](https://statisticsbyjim.com/regression/root-mean-square-error-rmse/) is a measure to evaluate the performance of a model by comparing the model predictions to the ground truth value. You can calculate RMSE by using [this function from sklearn](https://scikit-learn.org/stable/modules/generated/sklearn.metrics.mean_squared_error.html) setting the `squared` argument to `False`. A smaller RMSE value suggest a more accurate model\n",
        "\n",
        "- The addition of models here means that the combined model has all the features from the individual models. For example, an M+D model means the features from the M model and the D model are concatenated.\n",
        "\n",
        "- You may want to use [numpy's hstack](https://numpy.org/doc/stable/reference/generated/numpy.hstack.html) method to concatenate the feature vectors\n",
        "\n",
        "- You may also want to use the tfidf vectorizer we created earlier to get the tfidf features for each document [See this](https://scikit-learn.org/stable/modules/generated/sklearn.feature_extraction.text.TfidfVectorizer.html).\n",
        "\n"
      ],
      "metadata": {
        "id": "sL0uyBmDjGqZ"
      }
    },
    {
      "cell_type": "markdown",
      "source": [
        "To build the above models, we'll implement the following functions.\n",
        "\n",
        "\n",
        "**Your turn!** First, a function to train and test a regression model for the different features. By passing different feature matrices, we can reuse this function to train and test all our regression models [0.5 points]"
      ],
      "metadata": {
        "id": "OJNIkiv8Kadu"
      }
    },
    {
      "cell_type": "code",
      "source": [
        "def train_and_test (X_train, y_train, X_test, y_test):\n",
        "  \"\"\" Trains a linear regression model, makes predictions with\n",
        "  the trained model, and calculates the root mean squared error\n",
        "  between the predicted values and the true values\n",
        "\n",
        "  NOTE: Instead of regressing against the revenue, it might be better to predict\n",
        "  the log of the revenue\n",
        "\n",
        "  :params:\n",
        "  :X_train (np.array): The predictors in the regression problem for the training data\n",
        "  :y_train (np.array): The dependent variable in the regression problem for the training data\n",
        "  :X_test (np.array): The predictors in the regression problem for the testing data\n",
        "  :y_test (np.array): The dependent variable in the regression problem for the testing data\n",
        "\n",
        "  :returns: the following triple as a tuple\n",
        "  :lr (LinearRegression): The linear regression model obtained from sklearn\n",
        "  :yhat (np.array): The array of predictions from the regression model on test data\n",
        "  :err (float): The RMSE error between predicted values and test data outputs\n",
        "  \"\"\"\n",
        "\n",
        "  lr, yhat, err = None, None, None\n",
        "  # Your code below\n",
        "\n",
        "  lr = LinearRegression()\n",
        "\n",
        "  lr.fit(X_train, y_train)\n",
        "\n",
        "  yhat = lr.predict(X_test)\n",
        "\n",
        "  err = mean_squared_error(np.exp(y_test), np.exp(yhat), squared= False) # calculate the loss based on actual value\n",
        "\n",
        "  return lr, np.exp(yhat), err"
      ],
      "metadata": {
        "id": "Eap76kpMIFhs"
      },
      "execution_count": 192,
      "outputs": []
    },
    {
      "cell_type": "markdown",
      "source": [
        "**Your turn!** Next, we'll write a function that transforms the genres to their features [0.5 points]\n",
        "\n",
        "**Hint!** Use sklearn's countvectorizer to extract the features"
      ],
      "metadata": {
        "id": "KP3hhG2mLaDn"
      }
    },
    {
      "cell_type": "code",
      "source": [
        "import numpy as np\n",
        "from collections import Counter\n",
        "\n",
        "def make_genre_features(genres):\n",
        "    \"\"\" Convert the plain English names of the genres from a dictionary\n",
        "        to a bag of words vector.\n",
        "\n",
        "    :params:\n",
        "    :genres (np.array): Every item in the array is a string representation of a\n",
        "                        dictionary, which lists all the genres for the movie.\n",
        "\n",
        "    :returns: pair of objects as tuple\n",
        "    genre_mat (np.array): A binary matrix of size = num_movies X num_genres;\n",
        "                          1 represents whether the movie corresponding to the row\n",
        "                          is of the genre corresponding to the column\n",
        "\n",
        "    genre2index (dict): A dictionary that maps the genre name to column number\n",
        "    \"\"\"\n",
        "    genre_counter = Counter()\n",
        "    for genre_str in genres:\n",
        "        genre_dict = eval(genre_str)\n",
        "        genre_counter.update(genre_dict.values())\n",
        "\n",
        "\n",
        "    top_genres = [genre for genre, count in genre_counter.most_common(20)]\n",
        "\n",
        "    genre2index = {genre: i for i, genre in enumerate(top_genres)}\n",
        "\n",
        "\n",
        "    num_movies = len(genres)\n",
        "    num_genres = len(top_genres)\n",
        "    genre_mat = np.zeros((num_movies, num_genres))\n",
        "\n",
        "\n",
        "    for row, genre_str in enumerate(genres):\n",
        "        genre_dict = eval(genre_str)\n",
        "        for genre in genre_dict.values():\n",
        "            if genre in genre2index:\n",
        "                genre_mat[row][genre2index[genre]] = 1\n",
        "\n",
        "    return genre_mat, genre2index"
      ],
      "metadata": {
        "id": "qLbOTMKmLmec"
      },
      "execution_count": 193,
      "outputs": []
    },
    {
      "cell_type": "markdown",
      "source": [
        "**Your turn!** We'll also write a utility function that helps preserve the train and test indices from the overall sequence of wikiids [0.5 points]\n",
        "\n",
        "\n",
        "For example:\n",
        "Suppose the sequence of wikiids was originally [1234, 5632, 756, 8354, 18792]. When we split into a train and test set, the train sequence turned out to be [8354, 1234, 756] and the test sequence as [18792, 5632]. Our function should give us an array of train indices as [3, 0, 2] and test indices as [4, 1]."
      ],
      "metadata": {
        "id": "7DzafLFNWJZm"
      }
    },
    {
      "cell_type": "code",
      "source": [
        "def train_and_test_indices (all_ids, train_ids, test_ids):\n",
        "  \"\"\" Find the indices of elements from train_ids and test_ids in the all_ids.\n",
        "\n",
        "  e.g. all_ids = [1234, 5632, 756, 8354, 18792],\n",
        "       train_ids = [8354, 1234, 756],\n",
        "       test_ids = [18792, 5632]\n",
        "\n",
        "       The output should be two lists:\n",
        "       train_indices = [3,0,2],\n",
        "       test_indices = [4,1]\n",
        "\n",
        "  :params:\n",
        "  :all_ids (np.array): All the wikipedia ids\n",
        "  :train_ids (np.array): All the wikipedia ids part of the training set\n",
        "  :test_ids (np.array): All the wikipedia ids part of the test set\n",
        "\n",
        "  :returns: the following pair as a tuple\n",
        "  :train_indices (np.array): The train indices for all the train ids\n",
        "  :test_indices (np.array): The test indices for all the test ids\n",
        "  \"\"\"\n",
        "\n",
        "\n",
        "  train_indices, test_indices = [], []\n",
        "  # Your code below\n",
        "  all_ids = all_ids.tolist()\n",
        "  train_ids, test_ids = train_ids, test_ids.tolist()\n",
        "  for train_id in train_ids:\n",
        "    train_indices.append(all_ids.index(train_id))\n",
        "\n",
        "  for test_id in test_ids:\n",
        "      test_indices.append(all_ids.index(test_id))\n",
        "\n",
        "  return train_indices, test_indices\n"
      ],
      "metadata": {
        "id": "tGuZ1M82W9qY"
      },
      "execution_count": 194,
      "outputs": []
    },
    {
      "cell_type": "markdown",
      "source": [
        "Now let me show you how you can calculate the RMSE with the above functions for one such model -- predicting the revenue by the runtime of the movie. Long movies may not produce great box-office revenue but this predictor is unlikely to be great because there isn't much variability in the runtime of a movie."
      ],
      "metadata": {
        "id": "-3W0WrQeO2RK"
      }
    },
    {
      "cell_type": "code",
      "source": [
        "# Predict movie revenue using movie runtime\n",
        "X_train_runtime = np.reshape(regression_df.query ('wiki_id in @train_wikiids').runtime.values, (-1, 1))\n",
        "X_test_runtime = np.reshape(regression_df.query ('wiki_id in @test_wikiids').runtime.values, (-1, 1))\n",
        "lr_m, _, err_m = train_and_test (X_train_runtime, np.log(y_train), X_test_runtime,np.log(y_test))\n",
        "print (f\"RMSE: {err_m:.2f}\")"
      ],
      "metadata": {
        "colab": {
          "base_uri": "https://localhost:8080/"
        },
        "id": "G2jz6nbFY9kf",
        "outputId": "15da8041-19d9-4daf-e8c9-ac7cfb254202"
      },
      "execution_count": 200,
      "outputs": [
        {
          "output_type": "stream",
          "name": "stdout",
          "text": [
            "RMSE: 128530237.60\n"
          ]
        }
      ]
    },
    {
      "cell_type": "markdown",
      "source": [
        "**Your turn!** Fill all the cells below to get the RMSE for individual models [0.5 points]"
      ],
      "metadata": {
        "id": "qLFZM5trg57M"
      }
    },
    {
      "cell_type": "code",
      "source": [
        "# Predict the movie revenue using the genres of release.\n",
        "# This is where you should call make_genre_features and train_test_indices\n",
        "\n",
        "X_train_genres = None\n",
        "X_test_genres = None\n",
        "\n",
        "# Your code below to calculate the feature matrices\n",
        "X_train_genre_id= regression_df.query ('wiki_id in @train_wikiids').wiki_id.values\n",
        "X_test_genre_id = regression_df.query ('wiki_id in @test_wikiids').wiki_id.values\n"
      ],
      "metadata": {
        "id": "h-Iv7aKH-amX"
      },
      "execution_count": 195,
      "outputs": []
    },
    {
      "cell_type": "code",
      "source": [
        "train_indices, test_indices = train_and_test_indices(regression_df['wiki_id'], X_train_genre_id, X_test_genre_id)"
      ],
      "metadata": {
        "id": "CcUnXjFX8qsZ"
      },
      "execution_count": 196,
      "outputs": []
    },
    {
      "cell_type": "code",
      "source": [
        "X_train_genres, mapping = make_genre_features(merged_dataframe.iloc[train_indices]['genres'])\n",
        "test_genre = merged_dataframe.iloc[test_indices]['genres']\n",
        "test_genre = test_genre.tolist()"
      ],
      "metadata": {
        "id": "PkjFbo_g-khV"
      },
      "execution_count": 197,
      "outputs": []
    },
    {
      "cell_type": "code",
      "source": [
        "X_test_genres = np.zeros((len(test_genre), len(mapping)))\n",
        "for index, genres in enumerate(test_genre):\n",
        "  genres = eval(genres)\n",
        "  for genre in genres.values():\n",
        "    if genre in mapping.keys():\n",
        "      X_test_genres[index][mapping[genre]] = 1"
      ],
      "metadata": {
        "id": "Wl-qSrBK_3vP"
      },
      "execution_count": 198,
      "outputs": []
    },
    {
      "cell_type": "code",
      "source": [
        "lr_g, _, err_g = train_and_test (X_train_genres, np.log(y_train), X_test_genres, np.log(y_test))\n",
        "print (f\"RMSE: {err_g:.2f}\")"
      ],
      "metadata": {
        "colab": {
          "base_uri": "https://localhost:8080/"
        },
        "id": "kzAdstt3_rZH",
        "outputId": "fb4e9af1-ccab-4377-ed66-74112c9678f1"
      },
      "execution_count": 199,
      "outputs": [
        {
          "output_type": "stream",
          "name": "stdout",
          "text": [
            "RMSE: 118050525.09\n"
          ]
        }
      ]
    },
    {
      "cell_type": "code",
      "source": [
        "# Predict the movie revenue using the tfidf vectors of text in plot summaries\n",
        "\n",
        "X_train_summary = None\n",
        "X_test_summary = None\n",
        "\n",
        "# Your code below to calculate the feature matrices\n",
        "vectorizer.fit(merged_dataframe.iloc[train_indices]['summary'])\n",
        "X_train_summary = vectorizer.transform(merged_dataframe.iloc[train_indices]['summary'])\n",
        "X_test_summary = vectorizer.transform(merged_dataframe.iloc[test_indices]['summary'])\n",
        "\n"
      ],
      "metadata": {
        "id": "uCik9lOyjQvA"
      },
      "execution_count": 209,
      "outputs": []
    },
    {
      "cell_type": "code",
      "source": [
        "# Train and evaluate\n",
        "lr_s, _, err_s = train_and_test (X_train_summary.toarray(), np.log(y_train), X_test_summary.toarray(), np.log(y_test))\n",
        "print (f\"RMSE: {err_s:.2f}\")"
      ],
      "metadata": {
        "colab": {
          "base_uri": "https://localhost:8080/"
        },
        "id": "URSNd2A-SvdH",
        "outputId": "5959e679-a057-4622-f238-2ecbcc57482b"
      },
      "execution_count": 203,
      "outputs": [
        {
          "output_type": "stream",
          "name": "stdout",
          "text": [
            "RMSE: 116480286.51\n"
          ]
        }
      ]
    },
    {
      "cell_type": "code",
      "source": [
        "# Predict the movie revenue using the topic vectors for each movie\n",
        "\n",
        "# Your code below to calculate the feature matrices\n",
        "X_train_topics = merged_dataframe.iloc[train_indices, 3:13]\n",
        "X_test_topics = merged_dataframe.iloc[test_indices, 3:13]\n",
        "\n",
        "# Train and evaluate\n",
        "lr_t, _, err_t = train_and_test (X_train_topics, np.log(y_train), X_test_topics, np.log(y_test))\n",
        "print (f\"RMSE: {err_t:.2f}\")"
      ],
      "metadata": {
        "colab": {
          "base_uri": "https://localhost:8080/"
        },
        "id": "snw-XCfrkmKS",
        "outputId": "e8da0369-a759-4017-fe43-7f4dea195855"
      },
      "execution_count": 205,
      "outputs": [
        {
          "output_type": "stream",
          "name": "stdout",
          "text": [
            "RMSE: 119142539.93\n"
          ]
        }
      ]
    },
    {
      "cell_type": "code",
      "source": [
        "# Predict the movie revenue using movie length and the genre features\n",
        "# Note: When creating a combined feature matrix, you may want to convert the\n",
        "# individual feature matrices as numpy arrays\n",
        "\n",
        "X_train_runtime = np.reshape(regression_df.query ('wiki_id in @train_wikiids').runtime.values, (-1, 1))\n",
        "X_test_runtime = np.reshape(regression_df.query ('wiki_id in @test_wikiids').runtime.values, (-1, 1))\n",
        "\n",
        "X_train_runtime_genres = np.hstack([X_train_runtime,\n",
        "                                    X_train_genres])\n",
        "X_test_runtime_genres = np.hstack([X_test_runtime,\n",
        "                                   X_test_genres])\n",
        "# Train and evaluate\n",
        "lr_m_g, _, err_m_g = train_and_test (X_train_runtime_genres,\n",
        "                                     np.log(y_train),\n",
        "                                     X_test_runtime_genres,\n",
        "                                     np.log(y_test))\n",
        "print (f\"RMSE: {err_m_g:.2f}\")"
      ],
      "metadata": {
        "colab": {
          "base_uri": "https://localhost:8080/"
        },
        "id": "WUeKu9vdGjwD",
        "outputId": "69324029-2671-4a00-8e4e-f47f395c119e"
      },
      "execution_count": 207,
      "outputs": [
        {
          "output_type": "stream",
          "name": "stdout",
          "text": [
            "RMSE: 151698191.86\n"
          ]
        }
      ]
    },
    {
      "cell_type": "code",
      "source": [
        "# Predict the movie revenue using movie length and the decade features\n",
        "# Note: When creating a combined feature matrix, you may want to convert the\n",
        "# individual feature matrices as numpy arrays\n",
        "import scipy.sparse\n",
        "from scipy.sparse import hstack\n",
        "\n",
        "X_train_genres_summary = hstack([X_train_genres, X_train_summary])\n",
        "X_test_genres_summary = hstack([X_test_genres, X_test_summary])\n",
        "\n",
        "\n",
        "# Train and evaluate\n",
        "lr_g_s, _, err_g_s = train_and_test (scipy.sparse.csr_matrix (X_train_genres_summary),\n",
        "                                     np.log(y_train),\n",
        "                                     scipy.sparse.csr_matrix (X_test_genres_summary),\n",
        "                                     np.log(y_test))\n",
        "print (f\"RMSE: {err_g_s:.2f}\")\n"
      ],
      "metadata": {
        "id": "VX4KrLxUok_o",
        "colab": {
          "base_uri": "https://localhost:8080/"
        },
        "outputId": "e00dc30c-66b0-433f-9e78-2c33712b92c5"
      },
      "execution_count": 241,
      "outputs": [
        {
          "output_type": "stream",
          "name": "stdout",
          "text": [
            "RMSE: 115889564.70\n"
          ]
        }
      ]
    },
    {
      "cell_type": "code",
      "source": [
        "# Predict the movie revenue using movie length and the decade features\n",
        "# Note: When creating a combined feature matrix, you may want to convert the\n",
        "# individual feature matrices as numpy arrays\n",
        "import scipy.sparse\n",
        "from scipy.sparse import hstack\n",
        "\n",
        "X_train_topics_sparse = scipy.sparse.csr_matrix(X_train_topics) if not scipy.sparse.issparse(X_train_topics) else X_train_topics\n",
        "X_test_topics_sparse = scipy.sparse.csr_matrix(X_test_topics) if not scipy.sparse.issparse(X_test_topics) else X_test_topics\n",
        "\n",
        "X_train_summary_topics = hstack([X_train_summary,\n",
        "                                X_train_topics_sparse])\n",
        "X_test_summary_topics = hstack([X_test_summary,\n",
        "                                X_test_topics_sparse])\n",
        "\n",
        "# Train and evaluate\n",
        "lr_s_t, _, err_s_t = train_and_test (scipy.sparse.csr_matrix (X_train_summary_topics),\n",
        "                                     np.log(y_train),\n",
        "                                     scipy.sparse.csr_matrix (X_test_summary_topics),\n",
        "                                     np.log(y_test))\n",
        "print (f\"RMSE: {err_s_t:.2f}\")"
      ],
      "metadata": {
        "id": "g6nGGZrVqKj4",
        "colab": {
          "base_uri": "https://localhost:8080/"
        },
        "outputId": "f35b00a8-4c7e-4501-bd14-e624e9b95d14"
      },
      "execution_count": 250,
      "outputs": [
        {
          "output_type": "stream",
          "name": "stdout",
          "text": [
            "RMSE: 116409816.22\n"
          ]
        }
      ]
    },
    {
      "cell_type": "code",
      "source": [
        "# Predict the movie revenue using movie length, genre, and plot summaries\n",
        "# Note: When creating a combined feature matrix, you may want to convert the\n",
        "# individual feature matrices as numpy arrays\n",
        "import scipy.sparse\n",
        "from scipy.sparse import hstack, csr_matrix\n",
        "\n",
        "X_train_runtime_sparse = csr_matrix(X_train_runtime)\n",
        "X_test_runtime_sparse = csr_matrix(X_test_runtime)\n",
        "\n",
        "X_train_runtime_genres_summary = hstack([X_train_runtime_sparse,\n",
        "                                         X_train_genres,\n",
        "                                         X_train_summary])\n",
        "\n",
        "X_test_runtime_genres_summary = hstack([X_test_runtime_sparse,\n",
        "                                        X_test_genres,\n",
        "                                        X_test_summary])\n",
        "\n",
        "\n",
        "# Train and evaluate\n",
        "lr_m_g_s, _, err_m_g_s = train_and_test (scipy.sparse.csr_matrix (X_train_runtime_genres_summary),\n",
        "                                     np.log(y_train),\n",
        "                                     scipy.sparse.csr_matrix (X_test_runtime_genres_summary),\n",
        "                                     np.log(y_test))\n",
        "print (f\"RMSE: {err_m_g_s:.2f}\")"
      ],
      "metadata": {
        "id": "1A7cMo37rJtJ",
        "colab": {
          "base_uri": "https://localhost:8080/"
        },
        "outputId": "7a00cbdb-3fc3-4177-ed15-ed3290e53890"
      },
      "execution_count": 251,
      "outputs": [
        {
          "output_type": "stream",
          "name": "stdout",
          "text": [
            "RMSE: 114762228.93\n"
          ]
        }
      ]
    },
    {
      "cell_type": "code",
      "source": [
        "# Predict the movie revenue using genre, plot summaries, and topics\n",
        "# Note: When creating a combined feature matrix, you may want to convert the\n",
        "# individual feature matrices as numpy arrays\n",
        "import scipy.sparse\n",
        "from scipy.sparse import hstack, csr_matrix\n",
        "\n",
        "X_train_topics_sparse = csr_matrix(X_train_topics)\n",
        "X_test_topics_sparse = csr_matrix(X_test_topics)\n",
        "\n",
        "X_train_genres_summary_topics = hstack([X_train_topics_sparse,\n",
        "                                        X_train_genres,\n",
        "                                        X_train_summary])\n",
        "\n",
        "X_test_genres_summary_topics = hstack([X_test_topics_sparse,\n",
        "                                       X_test_genres,\n",
        "                                       X_test_summary])\n",
        "\n",
        "# Train and evaluate\n",
        "lr_g_s_t, _, err_g_s_t = train_and_test (scipy.sparse.csr_matrix (X_train_genres_summary_topics),\n",
        "                                     np.log(y_train),\n",
        "                                     scipy.sparse.csr_matrix (X_test_genres_summary_topics),\n",
        "                                     np.log(y_test))\n",
        "print (f\"RMSE: {err_g_s_t:.2f}\")"
      ],
      "metadata": {
        "id": "ueQMGsIICWYL",
        "colab": {
          "base_uri": "https://localhost:8080/"
        },
        "outputId": "c3e21ed9-111d-4898-e7ad-2ce13f5924d8"
      },
      "execution_count": 254,
      "outputs": [
        {
          "output_type": "stream",
          "name": "stdout",
          "text": [
            "RMSE: 115952092.58\n"
          ]
        }
      ]
    },
    {
      "cell_type": "code",
      "source": [
        "# Predict the movie revenue using all the features\n",
        "# Note: When creating a combined feature matrix, you may want to convert the\n",
        "# individual feature matrices as numpy arrays\n",
        "import scipy.sparse\n",
        "from scipy.sparse import hstack, csr_matrix\n",
        "\n",
        "X_train_topics_sparse = csr_matrix(X_train_topics)\n",
        "X_test_topics_sparse = csr_matrix(X_test_topics)\n",
        "X_train_runtime_sparse = csr_matrix(X_train_runtime.reshape(-1, 1))\n",
        "X_test_runtime_sparse = csr_matrix(X_test_runtime.reshape(-1, 1))\n",
        "\n",
        "X_train_all = hstack([X_train_topics_sparse,\n",
        "                      X_train_genres,\n",
        "                      X_train_summary,\n",
        "                      X_train_runtime_sparse])\n",
        "\n",
        "X_test_all = hstack([X_test_topics_sparse,\n",
        "                     X_test_genres,\n",
        "                     X_test_summary,\n",
        "                     X_test_runtime_sparse])\n",
        "\n",
        "# Train and evaluate\n",
        "lr_all, _, err_all= train_and_test (scipy.sparse.csr_matrix (X_train_all),\n",
        "                                     np.log(y_train),\n",
        "                                     scipy.sparse.csr_matrix (X_test_all),\n",
        "                                     np.log(y_test))\n",
        "print (f\"RMSE: {err_all:.2f}\")"
      ],
      "metadata": {
        "id": "wBHBtXY5rKzM",
        "colab": {
          "base_uri": "https://localhost:8080/"
        },
        "outputId": "4c100fb5-2f56-4915-f283-1b2d388fb9ae"
      },
      "execution_count": 256,
      "outputs": [
        {
          "output_type": "stream",
          "name": "stdout",
          "text": [
            "RMSE: 114653540.69\n"
          ]
        }
      ]
    },
    {
      "cell_type": "markdown",
      "source": [
        "## Extra credit [1 point]\n",
        "\n",
        "Try to reduce the RMSE of the best-performing model. Potential ways to reduce RMSE:\n",
        "\n",
        "- Include more topics\n",
        "- Include more genres\n",
        "- Perform non-linear regression\n",
        "\n",
        "Try one of the above or your own idea to reduce RMSE"
      ],
      "metadata": {
        "id": "7v21WdJgEj0y"
      }
    },
    {
      "cell_type": "markdown",
      "source": [
        "## Confidence intervals over coefficients [2 points]\n",
        "\n",
        "Our regression model gives us the coefficients associated with the features. In this section, we'll obtain the confidence intervals of these coefficients using bootstrapping. To obtain the confidence intervals around any coefficient, we would need to train the model on different samples obtained by sampling with replacement and calculate the CI empirically."
      ],
      "metadata": {
        "id": "_77PLSvEFWKY"
      }
    },
    {
      "cell_type": "markdown",
      "source": [
        "**Your turn!** Write a function to calculate the coefficients of a linear regression model on some training data a given number of times [0.5 points]"
      ],
      "metadata": {
        "id": "t0m18mdxF6I0"
      }
    },
    {
      "cell_type": "code",
      "source": [
        "def bootstrapped_regression (X_train, y_train, num_bootstraps=1000):\n",
        "  \"\"\" Fit linear models on bootstrapped samples\n",
        "\n",
        "  :params:\n",
        "  X_train (np.array): The train feature matrix\n",
        "  y_train (np.array): The train output values\n",
        "  num_bootstraps (int): 100\n",
        "\n",
        "  :returns:\n",
        "  coeffs (list): The coeffcients for all the features for every boostrap sample\n",
        "  \"\"\"\n",
        "  from sklearn.utils import resample\n",
        "\n",
        "  coeffs = list ()\n",
        "\n",
        "  for i in range(num_bootstraps):\n",
        "    X_resampled, y_resampled = resample(X_train, y_train)\n",
        "\n",
        "    model = LinearRegression().fit(X_resampled, y_resampled)\n",
        "\n",
        "    coeffs.append(model.coef_)\n",
        "\n",
        "  return coeffs"
      ],
      "metadata": {
        "id": "qQhSJFk0Gzu-"
      },
      "execution_count": 232,
      "outputs": []
    },
    {
      "cell_type": "markdown",
      "source": [
        "**Your turn!** Write a function to calculate the empirical confidence interval for a coefficient estimate [0.5 points]"
      ],
      "metadata": {
        "id": "IG35907SXUrZ"
      }
    },
    {
      "cell_type": "code",
      "source": [
        "def get_empirical_CI (values, lower=0.025, upper=.975):\n",
        "  \"\"\" Calculate the empirical confidence interval from the given values\n",
        "\n",
        "  :params:\n",
        "  :values (np.array): Values of bootstrapped estimates\n",
        "  :lower (float): The lower percentile (default:2.5)\n",
        "  :upper (float): The upper percentile (default:97.5)\n",
        "\n",
        "  :returns: pair as a tuple\n",
        "  :lower_bound (float): The lower bound of the CI\n",
        "  :upper_bound (float): The upper bound of the CI\n",
        "\n",
        "  \"\"\"\n",
        "  values = np.sort(values)\n",
        "\n",
        "  lower_bound = np.percentile(values, lower * 100)\n",
        "  upper_bound = np.percentile(values, upper * 100)\n",
        "\n",
        "  return lower_bound, upper_bound"
      ],
      "metadata": {
        "id": "gAkaxFVlTH7g"
      },
      "execution_count": 233,
      "outputs": []
    },
    {
      "cell_type": "markdown",
      "source": [
        "**Your turn!** Calcualte the CI for coefficient estimates for the following\n",
        "\n",
        "a. runtime [0.5 points]\n",
        "\n",
        "b. genre corresponding to comedy [0.5 points]\n",
        "\n",
        "What can you tell about the statistical significance of the estimate from the confidence interval for both the variables?\n",
        "\n",
        "**Note:** Do 1000 bootstrapped intervals"
      ],
      "metadata": {
        "id": "fAgMRxBNYJEo"
      }
    },
    {
      "cell_type": "code",
      "source": [
        "coeffs = bootstrapped_regression (X_train_runtime, np.log(y_train), num_bootstraps=1000)\n",
        "lb, ub = get_empirical_CI (np.array([item[0] for item in coeffs]))\n",
        "\n",
        "print(lb, ub)"
      ],
      "metadata": {
        "colab": {
          "base_uri": "https://localhost:8080/"
        },
        "id": "XaOajNC4Vavq",
        "outputId": "91e8de51-df09-41d3-a230-074b013e15bc"
      },
      "execution_count": 236,
      "outputs": [
        {
          "output_type": "stream",
          "name": "stdout",
          "text": [
            "0.012677176869220732 0.0296108179379014\n"
          ]
        }
      ]
    },
    {
      "cell_type": "code",
      "source": [
        "coeffs = bootstrapped_regression (X_train_genres, np.log(y_train), num_bootstraps=1000)\n",
        "lb, ub = get_empirical_CI (np.array([item[mapping.get('Comedy')] for item in coeffs]))\n",
        "\n",
        "print(lb, ub)"
      ],
      "metadata": {
        "colab": {
          "base_uri": "https://localhost:8080/"
        },
        "id": "419b_KQUVMU3",
        "outputId": "093fc32c-a2a2-4d07-b11e-b2de546dddc1"
      },
      "execution_count": 238,
      "outputs": [
        {
          "output_type": "stream",
          "name": "stdout",
          "text": [
            "0.1807078067246378 0.4529206047268139\n"
          ]
        }
      ]
    }
  ]
}
